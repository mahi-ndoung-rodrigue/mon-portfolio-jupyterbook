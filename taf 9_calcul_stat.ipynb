{
 "cells": [
  {
   "cell_type": "code",
   "execution_count": 1,
   "id": "b39ec696",
   "metadata": {},
   "outputs": [
    {
     "name": "stdout",
     "output_type": "stream",
     "text": [
      " entrez un nombre entier naturel :\n",
      "30\n",
      "30 est un nombre pair.\n"
     ]
    }
   ],
   "source": [
    "print(\" entrez un nombre entier naturel :\")\n",
    "n = int(input())\n",
    "if n % 2 == 0:\n",
    "    print(n, 'est un nombre pair.')\n",
    "else:\n",
    "    print(n,'est un nombre impair.')\n",
    "    \n",
    "    "
   ]
  },
  {
   "cell_type": "code",
   "execution_count": 2,
   "id": "705b4a53",
   "metadata": {},
   "outputs": [
    {
     "name": "stdout",
     "output_type": "stream",
     "text": [
      "p\n",
      "y\n",
      "t\n",
      "h\n",
      "o\n",
      "n\n"
     ]
    }
   ],
   "source": [
    "for i in 'python':\n",
    "    print(i)"
   ]
  },
  {
   "cell_type": "code",
   "execution_count": 3,
   "id": "8c2c0eef",
   "metadata": {},
   "outputs": [
    {
     "name": "stdout",
     "output_type": "stream",
     "text": [
      "r\n",
      "o\n",
      "d\n",
      "r\n",
      "o\n",
      "d\n",
      "r\n",
      "o\n",
      "d\n"
     ]
    }
   ],
   "source": [
    "for i in range(3):\n",
    "    for i in 'rod':\n",
    "        print(i)"
   ]
  },
  {
   "cell_type": "code",
   "execution_count": 4,
   "id": "aa56fa9b",
   "metadata": {},
   "outputs": [
    {
     "name": "stdout",
     "output_type": "stream",
     "text": [
      "1  au carré égal à : 1\n",
      "2  au carré égal à : 4\n",
      "3  au carré égal à : 9\n",
      "4  au carré égal à : 16\n",
      "5  au carré égal à : 25\n",
      "6  au carré égal à : 36\n",
      "7  au carré égal à : 49\n",
      "8  au carré égal à : 64\n",
      "9  au carré égal à : 81\n",
      "10  au carré égal à : 100\n"
     ]
    }
   ],
   "source": [
    "for i in range(1, 11):\n",
    "    print(i, ' au carré égal à :', i**2)"
   ]
  },
  {
   "cell_type": "code",
   "execution_count": 5,
   "id": "cee2a5e2",
   "metadata": {},
   "outputs": [
    {
     "name": "stdout",
     "output_type": "stream",
     "text": [
      "0\n",
      "1\n",
      "2\n",
      "3\n",
      "4\n",
      "5\n",
      "6\n",
      "7\n",
      "8\n",
      "9\n"
     ]
    }
   ],
   "source": [
    "i=0\n",
    "while i <= 9:\n",
    "    print(i)\n",
    "    i= i + 1"
   ]
  },
  {
   "cell_type": "code",
   "execution_count": 6,
   "id": "108c4413",
   "metadata": {},
   "outputs": [
    {
     "name": "stdout",
     "output_type": "stream",
     "text": [
      "1\n",
      "2\n",
      "3\n",
      "4\n",
      "5\n",
      "6\n"
     ]
    }
   ],
   "source": [
    "i = 1\n",
    "while i<= 10:\n",
    "    print(i)\n",
    "    if i == 6:\n",
    "        break\n",
    "    i= i + 1"
   ]
  },
  {
   "cell_type": "code",
   "execution_count": 10,
   "id": "508ef9a6",
   "metadata": {},
   "outputs": [
    {
     "name": "stdout",
     "output_type": "stream",
     "text": [
      "quel est le montant de votre salaire?\n",
      "200000\n",
      "votre salaire est de  200000.0 $  alors votre montant d'impot s'éléve à 80000.0 s.\n"
     ]
    }
   ],
   "source": [
    "print(\"quel est le montant de votre salaire?\")\n",
    "s = float(input())\n",
    "\n",
    "if s <10000:\n",
    "    \n",
    "    print(\"pas d'impots à payer.\")\n",
    "    \n",
    "elif (s>=10000 and s<=30000 ):\n",
    "        \n",
    "        print(\" votre salaire est de \" , s , \"$\",  \" alors votre impot s'élève à\", 0.1*s,  \"$.\")\n",
    "        \n",
    "elif (s >30000 and s<=100000 ):\n",
    "    print(\" votre saliare est de\",s, \"$\", \" alors votre montant d'impot s'éléve à\", 0.25*s, \"$.\")\n",
    "else:\n",
    "    print(\"votre salaire est de \", s, \"$\" ,\" alors votre montant d'impot s'éléve à\", 0.4*s, \"s.\")"
   ]
  },
  {
   "cell_type": "code",
   "execution_count": 11,
   "id": "71e366a3",
   "metadata": {},
   "outputs": [
    {
     "data": {
      "text/plain": [
       "['farine de blé', 'pates', 'lait', 'légumes']"
      ]
     },
     "execution_count": 11,
     "metadata": {},
     "output_type": "execute_result"
    }
   ],
   "source": [
    "courses= ['farine de blé','pates','lait','légumes']\n",
    "courses"
   ]
  },
  {
   "cell_type": "code",
   "execution_count": 12,
   "id": "94155d8f",
   "metadata": {},
   "outputs": [
    {
     "data": {
      "text/plain": [
       "'farine de blé'"
      ]
     },
     "execution_count": 12,
     "metadata": {},
     "output_type": "execute_result"
    }
   ],
   "source": [
    "courses[0]"
   ]
  },
  {
   "cell_type": "code",
   "execution_count": 13,
   "id": "1316dbda",
   "metadata": {},
   "outputs": [
    {
     "data": {
      "text/plain": [
       "'pates'"
      ]
     },
     "execution_count": 13,
     "metadata": {},
     "output_type": "execute_result"
    }
   ],
   "source": [
    "courses[1]"
   ]
  },
  {
   "cell_type": "code",
   "execution_count": 14,
   "id": "bbc85b11",
   "metadata": {},
   "outputs": [
    {
     "data": {
      "text/plain": [
       "'légumes'"
      ]
     },
     "execution_count": 14,
     "metadata": {},
     "output_type": "execute_result"
    }
   ],
   "source": [
    "courses[3]"
   ]
  },
  {
   "cell_type": "code",
   "execution_count": 16,
   "id": "a5e0ff08",
   "metadata": {},
   "outputs": [
    {
     "data": {
      "text/plain": [
       "['farine de blé', 'pates']"
      ]
     },
     "execution_count": 16,
     "metadata": {},
     "output_type": "execute_result"
    }
   ],
   "source": [
    "courses[0:2]"
   ]
  },
  {
   "cell_type": "code",
   "execution_count": 17,
   "id": "6bbcaf88",
   "metadata": {},
   "outputs": [
    {
     "data": {
      "text/plain": [
       "['farine de blé', 'pates', 'lait']"
      ]
     },
     "execution_count": 17,
     "metadata": {},
     "output_type": "execute_result"
    }
   ],
   "source": [
    "courses[0:3]"
   ]
  },
  {
   "cell_type": "code",
   "execution_count": null,
   "id": "7b58e159",
   "metadata": {},
   "outputs": [],
   "source": []
  }
 ],
 "metadata": {
  "kernelspec": {
   "display_name": "Python 3 (ipykernel)",
   "language": "python",
   "name": "python3"
  },
  "language_info": {
   "codemirror_mode": {
    "name": "ipython",
    "version": 3
   },
   "file_extension": ".py",
   "mimetype": "text/x-python",
   "name": "python",
   "nbconvert_exporter": "python",
   "pygments_lexer": "ipython3",
   "version": "3.9.13"
  }
 },
 "nbformat": 4,
 "nbformat_minor": 5
}
