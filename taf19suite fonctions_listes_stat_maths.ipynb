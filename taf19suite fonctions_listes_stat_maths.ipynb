{
 "cells": [
  {
   "cell_type": "code",
   "execution_count": 1,
   "id": "d9404f4f",
   "metadata": {},
   "outputs": [],
   "source": [
    "def bonjour():\n",
    "    print(\"Bonjour Madame/ Monsieur,\\ncomment allez vous?\")"
   ]
  },
  {
   "cell_type": "code",
   "execution_count": 2,
   "id": "9aadbb3f",
   "metadata": {},
   "outputs": [
    {
     "name": "stdout",
     "output_type": "stream",
     "text": [
      "Bonjour Madame/ Monsieur,\n",
      "comment allez vous?\n"
     ]
    }
   ],
   "source": [
    "bonjour()"
   ]
  },
  {
   "cell_type": "code",
   "execution_count": 3,
   "id": "b56ade11",
   "metadata": {},
   "outputs": [
    {
     "name": "stdout",
     "output_type": "stream",
     "text": [
      "Bonjour Esther \n",
      "Comment allez vous?\n"
     ]
    }
   ],
   "source": [
    "def Bonjour(nom):\n",
    "    print(\"Bonjour\", nom,\"\\nComment allez vous?\")\n",
    "Bonjour(\"Esther\")    "
   ]
  },
  {
   "cell_type": "code",
   "execution_count": 4,
   "id": "f4d4ff78",
   "metadata": {},
   "outputs": [
    {
     "name": "stdout",
     "output_type": "stream",
     "text": [
      "Bonjour Rodriguez \n",
      "Comment allez vous?\n"
     ]
    }
   ],
   "source": [
    "Bonjour(\"Rodriguez\")"
   ]
  },
  {
   "cell_type": "code",
   "execution_count": 5,
   "id": "217f9737",
   "metadata": {},
   "outputs": [],
   "source": [
    "def square(a):\n",
    "    return a**2"
   ]
  },
  {
   "cell_type": "code",
   "execution_count": 6,
   "id": "25fa5649",
   "metadata": {},
   "outputs": [
    {
     "data": {
      "text/plain": [
       "25"
      ]
     },
     "execution_count": 6,
     "metadata": {},
     "output_type": "execute_result"
    }
   ],
   "source": [
    "z=square(5)\n",
    "z"
   ]
  },
  {
   "cell_type": "code",
   "execution_count": 7,
   "id": "ade43429",
   "metadata": {},
   "outputs": [
    {
     "data": {
      "text/plain": [
       "100"
      ]
     },
     "execution_count": 7,
     "metadata": {},
     "output_type": "execute_result"
    }
   ],
   "source": [
    "s = square(10)\n",
    "s"
   ]
  },
  {
   "cell_type": "code",
   "execution_count": 8,
   "id": "f5069994",
   "metadata": {},
   "outputs": [],
   "source": [
    "def somme( a, b):\n",
    "    return a + b"
   ]
  },
  {
   "cell_type": "code",
   "execution_count": 9,
   "id": "a10daf52",
   "metadata": {},
   "outputs": [
    {
     "data": {
      "text/plain": [
       "14"
      ]
     },
     "execution_count": 9,
     "metadata": {},
     "output_type": "execute_result"
    }
   ],
   "source": [
    "f= somme(5+5,4)\n",
    "f"
   ]
  },
  {
   "cell_type": "code",
   "execution_count": 10,
   "id": "914c696c",
   "metadata": {},
   "outputs": [
    {
     "data": {
      "text/plain": [
       "24"
      ]
     },
     "execution_count": 10,
     "metadata": {},
     "output_type": "execute_result"
    }
   ],
   "source": [
    "d=somme(14,10)\n",
    "d"
   ]
  },
  {
   "cell_type": "code",
   "execution_count": 11,
   "id": "d75616c9",
   "metadata": {},
   "outputs": [],
   "source": [
    "def salut(nom, prénom):\n",
    "    print(\"Bonjour\", nom, prénom,\"\\nComment vas-tu l'expert?\")"
   ]
  },
  {
   "cell_type": "code",
   "execution_count": 12,
   "id": "67a69fc9",
   "metadata": {},
   "outputs": [
    {
     "name": "stdout",
     "output_type": "stream",
     "text": [
      "Bonjour MAHI RODRIGUEZ \n",
      "Comment vas-tu l'expert?\n"
     ]
    }
   ],
   "source": [
    "salut( \"MAHI\",\"RODRIGUEZ\")  "
   ]
  },
  {
   "cell_type": "code",
   "execution_count": 13,
   "id": "d7a4cc38",
   "metadata": {},
   "outputs": [],
   "source": [
    "def somme( a , b ):\n",
    "    if type(a) == type(b):\n",
    "        return a + b\n",
    "    else:\n",
    "        print(\"les arguments ne sont pas de meme type\")"
   ]
  },
  {
   "cell_type": "code",
   "execution_count": 14,
   "id": "067124c3",
   "metadata": {},
   "outputs": [
    {
     "data": {
      "text/plain": [
       "6"
      ]
     },
     "execution_count": 14,
     "metadata": {},
     "output_type": "execute_result"
    }
   ],
   "source": [
    "l= somme( 2, 4)\n",
    "l"
   ]
  },
  {
   "cell_type": "code",
   "execution_count": 15,
   "id": "3b5b8cf3",
   "metadata": {},
   "outputs": [
    {
     "name": "stdout",
     "output_type": "stream",
     "text": [
      "les arguments ne sont pas de meme type\n"
     ]
    }
   ],
   "source": [
    "l= somme( -1.3 , 4)\n",
    "l"
   ]
  },
  {
   "cell_type": "code",
   "execution_count": 16,
   "id": "8569c24e",
   "metadata": {},
   "outputs": [],
   "source": [
    "def soustraction_dans_les_deux_sens( a , b):\n",
    "    valeur1= b - a\n",
    "    valeur2= a - b\n",
    "    return valeur1 , valeur2"
   ]
  },
  {
   "cell_type": "code",
   "execution_count": 17,
   "id": "35742e74",
   "metadata": {},
   "outputs": [
    {
     "data": {
      "text/plain": [
       "(-4, 4)"
      ]
     },
     "execution_count": 17,
     "metadata": {},
     "output_type": "execute_result"
    }
   ],
   "source": [
    "soustraction_dans_les_deux_sens( 5 , 1)"
   ]
  },
  {
   "cell_type": "code",
   "execution_count": 18,
   "id": "2e421439",
   "metadata": {},
   "outputs": [
    {
     "data": {
      "text/plain": [
       "(-4, 4)"
      ]
     },
     "execution_count": 18,
     "metadata": {},
     "output_type": "execute_result"
    }
   ],
   "source": [
    "t=soustraction_dans_les_deux_sens( 5 , 1)\n",
    "t"
   ]
  },
  {
   "cell_type": "code",
   "execution_count": 19,
   "id": "e0bdfc67",
   "metadata": {},
   "outputs": [
    {
     "name": "stdout",
     "output_type": "stream",
     "text": [
      "-4\n",
      "4\n"
     ]
    }
   ],
   "source": [
    "v,u = t[0] , t[1]\n",
    "print(v)\n",
    "print(u)"
   ]
  },
  {
   "cell_type": "markdown",
   "id": "b629298e",
   "metadata": {},
   "source": [
    "# fonction lambda:"
   ]
  },
  {
   "cell_type": "code",
   "execution_count": 20,
   "id": "b01eb5e9",
   "metadata": {},
   "outputs": [],
   "source": [
    "def somme( a, b):\n",
    "    return a + b"
   ]
  },
  {
   "cell_type": "code",
   "execution_count": 21,
   "id": "96fca057",
   "metadata": {},
   "outputs": [
    {
     "data": {
      "text/plain": [
       "13"
      ]
     },
     "execution_count": 21,
     "metadata": {},
     "output_type": "execute_result"
    }
   ],
   "source": [
    "somme( 4, 9)"
   ]
  },
  {
   "cell_type": "code",
   "execution_count": 22,
   "id": "86d6200b",
   "metadata": {},
   "outputs": [],
   "source": [
    "\n",
    "sum_lambda = lambda a,b: a + b"
   ]
  },
  {
   "cell_type": "code",
   "execution_count": 23,
   "id": "4784363b",
   "metadata": {},
   "outputs": [
    {
     "data": {
      "text/plain": [
       "13"
      ]
     },
     "execution_count": 23,
     "metadata": {},
     "output_type": "execute_result"
    }
   ],
   "source": [
    "sum_lambda( 4 , 9)"
   ]
  },
  {
   "cell_type": "code",
   "execution_count": 24,
   "id": "f2e33268",
   "metadata": {},
   "outputs": [],
   "source": [
    "prod_lambda = lambda a , b: a * b"
   ]
  },
  {
   "cell_type": "code",
   "execution_count": 25,
   "id": "f6133ed1",
   "metadata": {},
   "outputs": [
    {
     "data": {
      "text/plain": [
       "16"
      ]
     },
     "execution_count": 25,
     "metadata": {},
     "output_type": "execute_result"
    }
   ],
   "source": [
    "prod_lambda(4,4)"
   ]
  },
  {
   "cell_type": "code",
   "execution_count": 26,
   "id": "ac45a8dd",
   "metadata": {},
   "outputs": [],
   "source": [
    "diplomes= [\"bac\",\"bts\", \"licence\", \"master\" , \"doctorat\"]\n",
    "\n",
    "\n",
    "\n",
    "DIPLOMES = map(lambda x:x.upper(),diplomes)"
   ]
  },
  {
   "cell_type": "code",
   "execution_count": 27,
   "id": "947bb0c8",
   "metadata": {},
   "outputs": [
    {
     "data": {
      "text/plain": [
       "['BAC', 'BTS', 'LICENCE', 'MASTER', 'DOCTORAT']"
      ]
     },
     "execution_count": 27,
     "metadata": {},
     "output_type": "execute_result"
    }
   ],
   "source": [
    "list(DIPLOMES)"
   ]
  },
  {
   "cell_type": "code",
   "execution_count": 28,
   "id": "865f960d",
   "metadata": {},
   "outputs": [],
   "source": [
    "nombres=[4, 2, 5, 9, 3, 10]\n",
    "nombres\n",
    "\n",
    "nombres_au_carre= map(lambda x:x **2 ,nombres)"
   ]
  },
  {
   "cell_type": "code",
   "execution_count": 29,
   "id": "1a713042",
   "metadata": {},
   "outputs": [
    {
     "data": {
      "text/plain": [
       "[16, 4, 25, 81, 9, 100]"
      ]
     },
     "execution_count": 29,
     "metadata": {},
     "output_type": "execute_result"
    }
   ],
   "source": [
    "list(nombres_au_carre)"
   ]
  },
  {
   "cell_type": "code",
   "execution_count": 30,
   "id": "10b2af39",
   "metadata": {},
   "outputs": [
    {
     "data": {
      "text/plain": [
       "['frodo',\n",
       " 'samwise',\n",
       " 'merry',\n",
       " 'pippin',\n",
       " 'aragorn',\n",
       " 'legolas',\n",
       " 'gimli',\n",
       " 'cameroun',\n",
       " 'parakou',\n",
       " 'liverpool',\n",
       " 'audrey']"
      ]
     },
     "execution_count": 30,
     "metadata": {},
     "output_type": "execute_result"
    }
   ],
   "source": [
    "staff= [\"frodo\",\"samwise\",\"merry\", \"pippin\" ,\"aragorn\", \"legolas\",\"gimli\",\"cameroun\" , \"parakou\",\"liverpool\", \"audrey\"]\n",
    "staff"
   ]
  },
  {
   "cell_type": "code",
   "execution_count": 31,
   "id": "f78dde94",
   "metadata": {},
   "outputs": [
    {
     "ename": "NameError",
     "evalue": "name 'staf_filtered' is not defined",
     "output_type": "error",
     "traceback": [
      "\u001b[1;31m---------------------------------------------------------------------------\u001b[0m",
      "\u001b[1;31mNameError\u001b[0m                                 Traceback (most recent call last)",
      "\u001b[1;32m~\\AppData\\Local\\Temp\\ipykernel_7180\\655517906.py\u001b[0m in \u001b[0;36m<module>\u001b[1;34m\u001b[0m\n\u001b[1;32m----> 1\u001b[1;33m \u001b[0mlist\u001b[0m\u001b[1;33m(\u001b[0m\u001b[0mstaf_filtered\u001b[0m\u001b[1;33m)\u001b[0m\u001b[1;33m\u001b[0m\u001b[1;33m\u001b[0m\u001b[0m\n\u001b[0m",
      "\u001b[1;31mNameError\u001b[0m: name 'staf_filtered' is not defined"
     ]
    }
   ],
   "source": [
    "list(staf_filtered)"
   ]
  },
  {
   "cell_type": "code",
   "execution_count": null,
   "id": "1357cf6f",
   "metadata": {},
   "outputs": [],
   "source": [
    "staf_filtered = filter(lambda member: len(member) > 6,staff)\n",
    "list(staf_filtered)"
   ]
  },
  {
   "cell_type": "code",
   "execution_count": null,
   "id": "f0116030",
   "metadata": {},
   "outputs": [],
   "source": [
    "list(staf_filtered)"
   ]
  },
  {
   "cell_type": "code",
   "execution_count": null,
   "id": "7b30fafb",
   "metadata": {},
   "outputs": [],
   "source": [
    "admis= [\"frodo\",\"samwise\",\"merry\", \"pippin\" ,\"aragorn\", \"MAHI\",\"legolas\",\"gimli\",\"cameroun\" , \"parakou\",\"liverpool\", \"audrey\",\"ondonbo\",\"rizpoulet\",\"santiagoberabeou\"]\n",
    "\n",
    "admission_accepté = filter(lambda x: len(x) <= 4, admis)"
   ]
  },
  {
   "cell_type": "code",
   "execution_count": null,
   "id": "d90917fe",
   "metadata": {},
   "outputs": [],
   "source": [
    "list(admission_accepté)"
   ]
  },
  {
   "cell_type": "markdown",
   "id": "b0b5c6f4",
   "metadata": {},
   "source": [
    "nums=[]\n",
    "\n",
    "news_nums=\n",
    "\n",
    "for i in news:\n",
    "    news_nums.append(i +5)\n",
    "    \n",
    "news_nums    \n",
    "    "
   ]
  },
  {
   "cell_type": "code",
   "execution_count": 32,
   "id": "e337ff75",
   "metadata": {},
   "outputs": [
    {
     "name": "stdout",
     "output_type": "stream",
     "text": [
      "les arguments ne sont pas de meme type\n"
     ]
    }
   ],
   "source": [
    "l= somme( -1.3 , 4)\n",
    "l"
   ]
  },
  {
   "cell_type": "code",
   "execution_count": null,
   "id": "e290720b",
   "metadata": {},
   "outputs": [],
   "source": [
    "news_nums2= [(i + 5) for i in nums]\n",
    "news_nums2"
   ]
  },
  {
   "cell_type": "code",
   "execution_count": null,
   "id": "8a6e36a3",
   "metadata": {},
   "outputs": [],
   "source": [
    "new_nums == new_nums2"
   ]
  },
  {
   "cell_type": "code",
   "execution_count": 36,
   "id": "102b0794",
   "metadata": {},
   "outputs": [
    {
     "data": {
      "text/plain": [
       "['d', 'i', 'c', 'm', 'c']"
      ]
     },
     "execution_count": 36,
     "metadata": {},
     "output_type": "execute_result"
    }
   ],
   "source": [
    "hopital=[ \"docteur\",\"infirmière\",\"chercheur\",\"médécin\",\"chu\"]\n",
    "hopital\n",
    "\n",
    "new_hopital=[ i[0] for i in hopital]\n",
    "new_hopital"
   ]
  },
  {
   "cell_type": "code",
   "execution_count": 38,
   "id": "81b28c3a",
   "metadata": {},
   "outputs": [
    {
     "data": {
      "text/plain": [
       "[1, 4, 9, 16, 25, 36, 49, 64, 81, 100]"
      ]
     },
     "execution_count": 38,
     "metadata": {},
     "output_type": "execute_result"
    }
   ],
   "source": [
    "valeurs= [1, 2, 3, 4, 5, 6, 7, 8, 9, 10]\n",
    "valeurs\n",
    "\n",
    "valeurs=[ i**2 for i in valeurs]\n",
    "valeurs"
   ]
  },
  {
   "cell_type": "code",
   "execution_count": 39,
   "id": "f7754882",
   "metadata": {},
   "outputs": [
    {
     "data": {
      "text/plain": [
       "[0, 1, 4, 9, 16, 25, 36, 49, 64, 81]"
      ]
     },
     "execution_count": 39,
     "metadata": {},
     "output_type": "execute_result"
    }
   ],
   "source": [
    "valeurs_au_carré=[ i**2 for i in range(10)]\n",
    "valeurs_au_carré"
   ]
  },
  {
   "cell_type": "code",
   "execution_count": null,
   "id": "589f9e61",
   "metadata": {},
   "outputs": [],
   "source": []
  }
 ],
 "metadata": {
  "kernelspec": {
   "display_name": "Python 3 (ipykernel)",
   "language": "python",
   "name": "python3"
  },
  "language_info": {
   "codemirror_mode": {
    "name": "ipython",
    "version": 3
   },
   "file_extension": ".py",
   "mimetype": "text/x-python",
   "name": "python",
   "nbconvert_exporter": "python",
   "pygments_lexer": "ipython3",
   "version": "3.9.13"
  }
 },
 "nbformat": 4,
 "nbformat_minor": 5
}
