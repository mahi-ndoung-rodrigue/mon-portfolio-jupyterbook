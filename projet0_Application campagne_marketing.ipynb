{
 "cells": [
  {
   "cell_type": "markdown",
   "metadata": {},
   "source": [
    "# Auteur MAHI NDOUNG rodrigue"
   ]
  },
  {
   "cell_type": "markdown",
   "metadata": {},
   "source": [
    "![photo profil](https://avatars.githubusercontent.com/u/148294447?s=400&u=bcc84613a26fddaba7aa3cb93803cb78e7a46220&v=4)"
   ]
  },
  {
   "cell_type": "markdown",
   "metadata": {},
   "source": [
    "from warnings import filterwarnings\n",
    "\n",
    "filterwarnings(\"ignore\")\n",
    "from IPython.display import HTML"
   ]
  },
  {
   "cell_type": "markdown",
   "metadata": {},
   "source": [
    "# Introduction:\n",
    "L'un des domaines majeurs où la Data science peut s'appliquer dans une entreprise est le Marketing.En effet, dans une équipe marketing,un Data Scientist a pour rôle d'aider l'entreprise à comprendre l'impact de ses campagnes marketing.\n",
    "\n",
    "Dans ce projet je me suis entrainé à traduire les questions commerciales courantes en résultats mesurables, notamment: \"Comment une campagne marketing a-t-elle fonctionnée?\", \"Quel canal d'acquisition réfère le plus d'abonnés?\", \"Pourquoi un canal particulier es-il sous-performant?\" j'ai utilisé les données marketing d'une entreprise d'abonnement en ligne, pris sur github.\n",
    "\n",
    "\n",
    "\n",
    "N.B: vous pouvez naviguerer à droite pour voir l'application ou copier le lien ci-après http://127.0.0.1:8050/ et le coller sur un moteur de recherche, puis éxecuter.\n",
    "\n",
    "j'ai utilisé la librairie dash plotly pour construire cette application."
   ]
  },
  {
   "cell_type": "code",
   "execution_count": 38,
   "metadata": {},
   "outputs": [
    {
     "data": {
      "text/html": [
       "<iframe src=\"http://127.0.0.1:8050/ \" width=\"1000\" height=\"500\" frameborder=\"o\"></iframe>"
      ],
      "text/plain": [
       "<IPython.core.display.HTML object>"
      ]
     },
     "execution_count": 38,
     "metadata": {},
     "output_type": "execute_result"
    }
   ],
   "source": [
    "HTML('<iframe src=\"http://127.0.0.1:8050/ \" width=\"1000\" height=\"500\" frameborder=\"o\"></iframe>')"
   ]
  },
  {
   "cell_type": "code",
   "execution_count": null,
   "metadata": {},
   "outputs": [],
   "source": [
    "lien de mon application sur la campagne marketing avec python: http://127.0.0.1:8050/"
   ]
  },
  {
   "cell_type": "markdown",
   "metadata": {},
   "source": [
    "# COMMUNICATION DES RESULTATS DE L'ANALYSE DE LA CAMPAGNE MARKETING."
   ]
  },
  {
   "cell_type": "markdown",
   "metadata": {},
   "source": [
    "#### 1.NOMBRE JOURNALIER D'UTILSATEURS REGARDANT L'ANNONCE MARKETING CHAQUE JOUR\n",
    "\n",
    "\n",
    "\n"
   ]
  },
  {
   "cell_type": "markdown",
   "metadata": {},
   "source": [
    "##### interprétation du graphique 1:"
   ]
  },
  {
   "cell_type": "markdown",
   "metadata": {},
   "source": [
    "on voit que les deux premieres semaines on a entre 300 et 400 utilisateurs qui ont vu la campagne marketing, et qu'il y'a eu un pic le 15 ième jour,qui peut être du on fait que l'entreprise a mené une grosse campagne  par mail qui a atteint des utilisateurs qui n'étaient pas des visiteurs quotidien du site."
   ]
  },
  {
   "cell_type": "markdown",
   "metadata": {},
   "source": [
    "#### 2.PREFERENCES JOURNALIERES LINGUISTIQUES DES UTILISATEURS."
   ]
  },
  {
   "cell_type": "markdown",
   "metadata": {},
   "source": [
    "##### interprétation du graphique 2:"
   ]
  },
  {
   "cell_type": "markdown",
   "metadata": {},
   "source": [
    "D'après les données receuillies et le graphique nous avons vu précédemment, la langue plus populaire est de loin l'anglais"
   ]
  },
  {
   "cell_type": "markdown",
   "metadata": {},
   "source": [
    "#### 3.TAUX DE CONVERSION EN FONCTION DU JOUR DE LA SEMAINE"
   ]
  },
  {
   "cell_type": "markdown",
   "metadata": {},
   "source": [
    "le taux de conversion est le pourcentage de personnes qui regardent la campagne marketing et s'abonnent par la suite."
   ]
  },
  {
   "cell_type": "markdown",
   "metadata": {},
   "source": [
    "##### interprétation du graphique 3:"
   ]
  },
  {
   "cell_type": "markdown",
   "metadata": {},
   "source": [
    "90% des personnes s'abonnent le plus le lundi et le plus par mail."
   ]
  },
  {
   "cell_type": "markdown",
   "metadata": {},
   "source": [
    "#### 4.LE TAUX DE CONVERSION JOURNALIER PAR CANAL MARKETING\n"
   ]
  },
  {
   "cell_type": "markdown",
   "metadata": {},
   "source": [
    "##### interprétation du graphique 4:"
   ]
  },
  {
   "cell_type": "markdown",
   "metadata": {},
   "source": [
    "100% des individus se sont abonnés par mail depuis le lancement de la campagne marketing au mois de janvier 2018."
   ]
  },
  {
   "cell_type": "markdown",
   "metadata": {},
   "source": [
    "#### 5.TAUX DE CONVERSION JOURNALIER PAR GROUPE D'AGE"
   ]
  },
  {
   "cell_type": "markdown",
   "metadata": {},
   "source": [
    "##### interprétation du graphique 5:"
   ]
  },
  {
   "cell_type": "markdown",
   "metadata": {},
   "source": [
    "40% des jeûnes de la tranche d'âges entre 24 et 30 ans sont ceux qui se sont le plus abonné tout au long du mois de janvier(le 16) 2018."
   ]
  },
  {
   "cell_type": "markdown",
   "metadata": {},
   "source": [
    "#### 6.PREFERENCE LINGUISTIQUE PAR GROUPE D'AGE"
   ]
  },
  {
   "cell_type": "markdown",
   "metadata": {},
   "source": [
    "##### interprétation du graphique 6:"
   ]
  },
  {
   "cell_type": "markdown",
   "metadata": {},
   "source": [
    "L'Anglais demeure la langue préféreée quelque soit le groupe d'age."
   ]
  },
  {
   "cell_type": "markdown",
   "metadata": {},
   "source": [
    "#### 7.TAUX DE CONVERSION PAR LA LANGUE D'ANNONCE MARKETING"
   ]
  },
  {
   "cell_type": "markdown",
   "metadata": {},
   "source": [
    "##### interprétation du graphique 7:"
   ]
  },
  {
   "cell_type": "markdown",
   "metadata": {},
   "source": [
    "Les campagnes marketing en Allemand semblent etre plus efficaces que celles dans les autres langues en termes de conversion des utilisateurs."
   ]
  },
  {
   "cell_type": "markdown",
   "metadata": {},
   "source": [
    "#### 8.LE TAUX DE RETENTION PAR LA LANGUE D'ANNONCE MARKETING"
   ]
  },
  {
   "cell_type": "markdown",
   "metadata": {},
   "source": [
    "C'est le pourcentage de personnes qui restent abonnées pendant une période, un mois, un an etc..."
   ]
  },
  {
   "cell_type": "markdown",
   "metadata": {},
   "source": [
    "##### interprétation du graphique 8:"
   ]
  },
  {
   "cell_type": "markdown",
   "metadata": {},
   "source": [
    "L'Espagnol offre le meilleur taux d'annonce 100%"
   ]
  },
  {
   "cell_type": "markdown",
   "metadata": {},
   "source": [
    "Le taux de rétention le important est par mail il a plus de 87% des utilisateurs."
   ]
  },
  {
   "cell_type": "markdown",
   "metadata": {},
   "source": [
    "#### 9.CANAL D'ACQUISITION PAR GROUPE D'AGE"
   ]
  },
  {
   "cell_type": "markdown",
   "metadata": {},
   "source": [
    "##### interprétation du graphique 9:"
   ]
  },
  {
   "cell_type": "markdown",
   "metadata": {},
   "source": [
    "la voie d'acquisition des gens la plus importante est à leur domicile, les accessibles sont des jeûnes de 19 et 24 ans au total 643 durant le mois de janvier 2018.\n",
    "\n",
    "Enuite facebook est le deuxième canal pour acquérir les jeûnes."
   ]
  },
  {
   "cell_type": "markdown",
   "metadata": {},
   "source": [
    "#### 10.TAUX DE RETENTION PAR CANAL DE SOUSCRIPTION"
   ]
  },
  {
   "cell_type": "markdown",
   "metadata": {},
   "source": [
    "##### interprétation du graphique 10:"
   ]
  },
  {
   "cell_type": "markdown",
   "metadata": {},
   "source": [
    "Le taux de rétention le plus important est par mail il a plus de 87% des utilisateurs."
   ]
  },
  {
   "cell_type": "markdown",
   "metadata": {},
   "source": [
    "There is a lot more that you can do with outputs (such as including interactive outputs)\n",
    "with your book. For more information about this, see [the Jupyter Book documentation](https://jupyterbook.org)"
   ]
  }
 ],
 "metadata": {
  "kernelspec": {
   "display_name": "Python 3 (ipykernel)",
   "language": "python",
   "name": "python3"
  },
  "language_info": {
   "codemirror_mode": {
    "name": "ipython",
    "version": 3
   },
   "file_extension": ".py",
   "mimetype": "text/x-python",
   "name": "python",
   "nbconvert_exporter": "python",
   "pygments_lexer": "ipython3",
   "version": "3.9.13"
  },
  "widgets": {
   "application/vnd.jupyter.widget-state+json": {
    "state": {},
    "version_major": 2,
    "version_minor": 0
   }
  }
 },
 "nbformat": 4,
 "nbformat_minor": 4
}
