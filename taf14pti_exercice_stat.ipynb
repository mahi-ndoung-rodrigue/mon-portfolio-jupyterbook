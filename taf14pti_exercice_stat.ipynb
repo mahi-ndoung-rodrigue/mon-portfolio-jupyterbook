{
 "cells": [
  {
   "cell_type": "code",
   "execution_count": 1,
   "id": "215589aa",
   "metadata": {},
   "outputs": [
    {
     "data": {
      "text/plain": [
       "[{'acteur': 'dwayne johnson',\n",
       "  'revenu': 899.4,\n",
       "  'films': ['santa', 'oceanne', 'folere', 'kossam']},\n",
       " {'acteur': 'christ hemswort',\n",
       "  'revenu': 769.4,\n",
       "  'films': ['amour', 'histoire', 'elisa', 'diego']},\n",
       " {'acteur': ' ROBERT jR',\n",
       "  'revenu': 669,\n",
       "  'films': ['iroman', 'le justicier', 'folere', 'kossam']},\n",
       " {'acteur': 'kUMAR',\n",
       "  'revenu': 65,\n",
       "  'films': ['KESARI', 'oSARIeanne', 'folere', 'kossam']},\n",
       " {'acteur': ' jackie chann',\n",
       "  'revenu': 588,\n",
       "  'films': ['le maitre chinois', 'police story', 'karaté kids']}]"
      ]
     },
     "execution_count": 1,
     "metadata": {},
     "output_type": "execute_result"
    }
   ],
   "source": [
    "acteurs=[{'acteur':'dwayne johnson', 'revenu':899.4 ,'films':['santa','oceanne','folere','kossam']},\n",
    "        {'acteur':'christ hemswort', 'revenu':769.4 , 'films':['amour','histoire','elisa','diego']}, \n",
    "        {'acteur':' ROBERT jR', 'revenu':669 ,'films':['iroman','le justicier','folere','kossam']},\n",
    "        {'acteur':'kUMAR', 'revenu':65,'films':['KESARI','oSARIeanne','folere','kossam']},                                    \n",
    "        {'acteur':' jackie chann', 'revenu':588 ,'films':[ 'le maitre chinois', 'police story','karaté kids']},                                                  \n",
    "       ]\n",
    "acteurs"
   ]
  },
  {
   "cell_type": "code",
   "execution_count": 2,
   "id": "85fc1708",
   "metadata": {},
   "outputs": [
    {
     "data": {
      "text/plain": [
       "[899.4, 769.4, 669, 65, 588]"
      ]
     },
     "execution_count": 2,
     "metadata": {},
     "output_type": "execute_result"
    }
   ],
   "source": [
    "revenus= []\n",
    "for acteur in acteurs:\n",
    "    r= acteur['revenu']\n",
    "    revenus.append(r)\n",
    "revenus    "
   ]
  },
  {
   "cell_type": "code",
   "execution_count": 3,
   "id": "95442971",
   "metadata": {},
   "outputs": [
    {
     "data": {
      "text/plain": [
       "598.16"
      ]
     },
     "execution_count": 3,
     "metadata": {},
     "output_type": "execute_result"
    }
   ],
   "source": [
    "import statistics as st\n",
    "\n",
    "revenu_moyen= st.mean(revenus)\n",
    "revenu_moyen"
   ]
  },
  {
   "cell_type": "code",
   "execution_count": 4,
   "id": "b9e18e36",
   "metadata": {},
   "outputs": [
    {
     "name": "stdout",
     "output_type": "stream",
     "text": [
      "{'acteur': 'dwayne johnson', 'revenu': 899.4, 'films': ['santa', 'oceanne', 'folere', 'kossam']}\n",
      "{'acteur': 'christ hemswort', 'revenu': 769.4, 'films': ['amour', 'histoire', 'elisa', 'diego']}\n",
      "{'acteur': ' ROBERT jR', 'revenu': 669, 'films': ['iroman', 'le justicier', 'folere', 'kossam']}\n"
     ]
    }
   ],
   "source": [
    "for acteur in acteurs:\n",
    "    if acteur['revenu'] > revenu_moyen:\n",
    "         print(acteur )"
   ]
  },
  {
   "cell_type": "markdown",
   "id": "8483d09e",
   "metadata": {},
   "source": [
    "COURS DATAFRAME"
   ]
  },
  {
   "cell_type": "code",
   "execution_count": 5,
   "id": "8ce30c45",
   "metadata": {},
   "outputs": [
    {
     "data": {
      "text/plain": [
       "{'Ryan': [18, 16], 'Elisa': [20, 12], 'Marthe': [20, 20], 'Robert': [14, 15]}"
      ]
     },
     "execution_count": 5,
     "metadata": {},
     "output_type": "execute_result"
    }
   ],
   "source": [
    "Notes = {'Ryan':[18,16], \n",
    "         'Elisa':[20,12], \n",
    "         'Marthe':[20,20],\n",
    "         'Robert':[14,15]}\n",
    "Notes"
   ]
  },
  {
   "cell_type": "code",
   "execution_count": 6,
   "id": "ef45870f",
   "metadata": {},
   "outputs": [
    {
     "data": {
      "text/html": [
       "<div>\n",
       "<style scoped>\n",
       "    .dataframe tbody tr th:only-of-type {\n",
       "        vertical-align: middle;\n",
       "    }\n",
       "\n",
       "    .dataframe tbody tr th {\n",
       "        vertical-align: top;\n",
       "    }\n",
       "\n",
       "    .dataframe thead th {\n",
       "        text-align: right;\n",
       "    }\n",
       "</style>\n",
       "<table border=\"1\" class=\"dataframe\">\n",
       "  <thead>\n",
       "    <tr style=\"text-align: right;\">\n",
       "      <th></th>\n",
       "      <th>Ryan</th>\n",
       "      <th>Elisa</th>\n",
       "      <th>Marthe</th>\n",
       "      <th>Robert</th>\n",
       "    </tr>\n",
       "  </thead>\n",
       "  <tbody>\n",
       "    <tr>\n",
       "      <th>0</th>\n",
       "      <td>18</td>\n",
       "      <td>20</td>\n",
       "      <td>20</td>\n",
       "      <td>14</td>\n",
       "    </tr>\n",
       "    <tr>\n",
       "      <th>1</th>\n",
       "      <td>16</td>\n",
       "      <td>12</td>\n",
       "      <td>20</td>\n",
       "      <td>15</td>\n",
       "    </tr>\n",
       "  </tbody>\n",
       "</table>\n",
       "</div>"
      ],
      "text/plain": [
       "   Ryan  Elisa  Marthe  Robert\n",
       "0    18     20      20      14\n",
       "1    16     12      20      15"
      ]
     },
     "execution_count": 6,
     "metadata": {},
     "output_type": "execute_result"
    }
   ],
   "source": [
    "import pandas as pd\n",
    "df= pd.DataFrame(Notes)\n",
    "df"
   ]
  },
  {
   "cell_type": "code",
   "execution_count": 7,
   "id": "af80c044",
   "metadata": {},
   "outputs": [
    {
     "data": {
      "text/html": [
       "<div>\n",
       "<style scoped>\n",
       "    .dataframe tbody tr th:only-of-type {\n",
       "        vertical-align: middle;\n",
       "    }\n",
       "\n",
       "    .dataframe tbody tr th {\n",
       "        vertical-align: top;\n",
       "    }\n",
       "\n",
       "    .dataframe thead th {\n",
       "        text-align: right;\n",
       "    }\n",
       "</style>\n",
       "<table border=\"1\" class=\"dataframe\">\n",
       "  <thead>\n",
       "    <tr style=\"text-align: right;\">\n",
       "      <th></th>\n",
       "      <th>0</th>\n",
       "      <th>1</th>\n",
       "    </tr>\n",
       "  </thead>\n",
       "  <tbody>\n",
       "    <tr>\n",
       "      <th>Ryan</th>\n",
       "      <td>18</td>\n",
       "      <td>16</td>\n",
       "    </tr>\n",
       "    <tr>\n",
       "      <th>Elisa</th>\n",
       "      <td>20</td>\n",
       "      <td>12</td>\n",
       "    </tr>\n",
       "    <tr>\n",
       "      <th>Marthe</th>\n",
       "      <td>20</td>\n",
       "      <td>20</td>\n",
       "    </tr>\n",
       "    <tr>\n",
       "      <th>Robert</th>\n",
       "      <td>14</td>\n",
       "      <td>15</td>\n",
       "    </tr>\n",
       "  </tbody>\n",
       "</table>\n",
       "</div>"
      ],
      "text/plain": [
       "         0   1\n",
       "Ryan    18  16\n",
       "Elisa   20  12\n",
       "Marthe  20  20\n",
       "Robert  14  15"
      ]
     },
     "execution_count": 7,
     "metadata": {},
     "output_type": "execute_result"
    }
   ],
   "source": [
    "df=df.T\n",
    "df"
   ]
  },
  {
   "cell_type": "code",
   "execution_count": 9,
   "id": "c427e8ef",
   "metadata": {},
   "outputs": [
    {
     "data": {
      "text/html": [
       "<div>\n",
       "<style scoped>\n",
       "    .dataframe tbody tr th:only-of-type {\n",
       "        vertical-align: middle;\n",
       "    }\n",
       "\n",
       "    .dataframe tbody tr th {\n",
       "        vertical-align: top;\n",
       "    }\n",
       "\n",
       "    .dataframe thead th {\n",
       "        text-align: right;\n",
       "    }\n",
       "</style>\n",
       "<table border=\"1\" class=\"dataframe\">\n",
       "  <thead>\n",
       "    <tr style=\"text-align: right;\">\n",
       "      <th></th>\n",
       "      <th>Maths</th>\n",
       "      <th>Francais</th>\n",
       "    </tr>\n",
       "  </thead>\n",
       "  <tbody>\n",
       "    <tr>\n",
       "      <th>Ryan</th>\n",
       "      <td>18</td>\n",
       "      <td>16</td>\n",
       "    </tr>\n",
       "    <tr>\n",
       "      <th>Elisa</th>\n",
       "      <td>20</td>\n",
       "      <td>12</td>\n",
       "    </tr>\n",
       "    <tr>\n",
       "      <th>Marthe</th>\n",
       "      <td>20</td>\n",
       "      <td>20</td>\n",
       "    </tr>\n",
       "    <tr>\n",
       "      <th>Robert</th>\n",
       "      <td>14</td>\n",
       "      <td>15</td>\n",
       "    </tr>\n",
       "  </tbody>\n",
       "</table>\n",
       "</div>"
      ],
      "text/plain": [
       "        Maths  Francais\n",
       "Ryan       18        16\n",
       "Elisa      20        12\n",
       "Marthe     20        20\n",
       "Robert     14        15"
      ]
     },
     "execution_count": 9,
     "metadata": {},
     "output_type": "execute_result"
    }
   ],
   "source": [
    "df.columns= ['Maths' , 'Francais']\n",
    "df"
   ]
  },
  {
   "cell_type": "code",
   "execution_count": 10,
   "id": "f69cfe02",
   "metadata": {},
   "outputs": [
    {
     "data": {
      "text/plain": [
       "Index(['Ryan', 'Elisa', 'Marthe', 'Robert'], dtype='object')"
      ]
     },
     "execution_count": 10,
     "metadata": {},
     "output_type": "execute_result"
    }
   ],
   "source": [
    "df.index"
   ]
  },
  {
   "cell_type": "code",
   "execution_count": null,
   "id": "454ad6ea",
   "metadata": {},
   "outputs": [],
   "source": []
  }
 ],
 "metadata": {
  "kernelspec": {
   "display_name": "Python 3 (ipykernel)",
   "language": "python",
   "name": "python3"
  },
  "language_info": {
   "codemirror_mode": {
    "name": "ipython",
    "version": 3
   },
   "file_extension": ".py",
   "mimetype": "text/x-python",
   "name": "python",
   "nbconvert_exporter": "python",
   "pygments_lexer": "ipython3",
   "version": "3.9.13"
  }
 },
 "nbformat": 4,
 "nbformat_minor": 5
}
