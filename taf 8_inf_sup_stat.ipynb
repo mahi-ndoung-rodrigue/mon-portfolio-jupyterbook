{
 "cells": [
  {
   "cell_type": "code",
   "execution_count": null,
   "id": "8af07610",
   "metadata": {},
   "outputs": [
    {
     "name": "stdout",
     "output_type": "stream",
     "text": [
      "quel est votre age ?\n"
     ]
    }
   ],
   "source": [
    "print('quel est votre age ?')\n",
    "age = int(input())\n",
    "print('age est inférieur à 13 ?' , age < 13)\n"
   ]
  },
  {
   "cell_type": "code",
   "execution_count": null,
   "id": "96b8cdb6",
   "metadata": {},
   "outputs": [],
   "source": [
    "print(\" age est supérieur ou égal à 20 et si age est inferieur ou égal à 21 ? \", age >= 20 and age <= 21)\n",
    "      "
   ]
  },
  {
   "cell_type": "code",
   "execution_count": null,
   "id": "cd7aeb23",
   "metadata": {},
   "outputs": [],
   "source": [
    "print('age est égal à 19 ?', age == 19)"
   ]
  },
  {
   "cell_type": "code",
   "execution_count": null,
   "id": "757bdeee",
   "metadata": {},
   "outputs": [],
   "source": [
    "print(\" age est dans l'intervalle [20 , 30] ou dans l'intervalle [31 , 40] ?\" , age >= 20 and age <= 30 or (age >= 31 and age <= 40  ))"
   ]
  },
  {
   "cell_type": "code",
   "execution_count": null,
   "id": "8915829a",
   "metadata": {},
   "outputs": [],
   "source": [
    "age >= 20"
   ]
  },
  {
   "cell_type": "code",
   "execution_count": null,
   "id": "a99dcf00",
   "metadata": {},
   "outputs": [],
   "source": [
    "age <= 30"
   ]
  },
  {
   "cell_type": "code",
   "execution_count": null,
   "id": "86410f6e",
   "metadata": {},
   "outputs": [],
   "source": [
    "age >= 20 and age <= 30\n",
    "\n"
   ]
  },
  {
   "cell_type": "code",
   "execution_count": null,
   "id": "92225345",
   "metadata": {},
   "outputs": [],
   "source": [
    "age >= 31"
   ]
  },
  {
   "cell_type": "code",
   "execution_count": null,
   "id": "75f0cc7c",
   "metadata": {},
   "outputs": [],
   "source": [
    "age <= 40"
   ]
  },
  {
   "cell_type": "code",
   "execution_count": null,
   "id": "8e37b690",
   "metadata": {},
   "outputs": [],
   "source": [
    "age >= 31 and age <= 40"
   ]
  },
  {
   "cell_type": "code",
   "execution_count": null,
   "id": "dd2f16d2",
   "metadata": {},
   "outputs": [],
   "source": [
    "(age >= 20 and age <= 30) or (age >= 31 and age <= 40)"
   ]
  },
  {
   "cell_type": "code",
   "execution_count": null,
   "id": "817084fb",
   "metadata": {},
   "outputs": [],
   "source": [
    "age= int(input(\" quel est votre age ? \" ))\n",
    "\n",
    "if age >= 18 :\n",
    "    print('autorisé à voter')\n",
    "else:\n",
    "    print('pas autorisé, vous etes encore trop')\n",
    "    \n",
    "    \n",
    "    "
   ]
  },
  {
   "cell_type": "code",
   "execution_count": null,
   "id": "809f498b",
   "metadata": {},
   "outputs": [],
   "source": []
  },
  {
   "cell_type": "code",
   "execution_count": null,
   "id": "b1268c61",
   "metadata": {},
   "outputs": [],
   "source": []
  }
 ],
 "metadata": {
  "kernelspec": {
   "display_name": "Python 3 (ipykernel)",
   "language": "python",
   "name": "python3"
  },
  "language_info": {
   "codemirror_mode": {
    "name": "ipython",
    "version": 3
   },
   "file_extension": ".py",
   "mimetype": "text/x-python",
   "name": "python",
   "nbconvert_exporter": "python",
   "pygments_lexer": "ipython3",
   "version": "3.9.13"
  }
 },
 "nbformat": 4,
 "nbformat_minor": 5
}
