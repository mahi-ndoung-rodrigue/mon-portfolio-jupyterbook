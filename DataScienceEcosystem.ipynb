{
 "cells": [
  {
   "cell_type": "code",
   "execution_count": 2,
   "id": "eee450a4-8852-4d37-ae7a-5d837a7e440c",
   "metadata": {},
   "outputs": [],
   "source": [
    "# Exercise 1: Create a Jupyter Notebook\n",
    "# Create a new Jupyter notebook called DataScienceEcosystem.ipynb"
   ]
  },
  {
   "cell_type": "code",
   "execution_count": 3,
   "id": "4281dc5d-c5c6-4e14-80d2-56e1f6f5c819",
   "metadata": {},
   "outputs": [],
   "source": [
    "# Exercise 2 :  Create markdown cell with title of the notebook"
   ]
  },
  {
   "cell_type": "markdown",
   "id": "bad30ac7-dd67-46e3-9a4b-de2817eb4b61",
   "metadata": {},
   "source": [
    " # Data Science Tools and Ecosystem"
   ]
  },
  {
   "cell_type": "code",
   "execution_count": null,
   "id": "813d82d3-2654-42ae-bfe4-4cb282ed0706",
   "metadata": {},
   "outputs": [],
   "source": [
    "# Exercise 3 - Create a markdown cell for an introduction"
   ]
  },
  {
   "cell_type": "markdown",
   "id": "d4c8d7d1-7f4d-4b69-8c00-8740933c40f1",
   "metadata": {},
   "source": [
    "# Objectives:\n",
    "unordered list:\n",
    "* Create a Jupyter Notebook\n",
    "* Insérer du code et des cellules Markdown\n",
    "* evaluating arithmetic expressions in Python\n",
    "\n",
    "List popular languages for Data Science:\n",
    "\n",
    "* python\n",
    "\n",
    "* R\n",
    "\n",
    "* scala\n",
    "\n",
    "* julia\n",
    "\n",
    "* javascript\n",
    "\n",
    "* c++\n",
    "\n",
    "* Matlab"
   ]
  },
  {
   "cell_type": "markdown",
   "id": "506fb6cc-2d16-4083-bc5d-783c4622b3e0",
   "metadata": {},
   "source": [
    "In this notebook, Data Science Tools and Ecosystem are summarized"
   ]
  },
  {
   "cell_type": "code",
   "execution_count": 5,
   "id": "244c6323-e902-4b41-9383-593810a05011",
   "metadata": {},
   "outputs": [],
   "source": [
    "# Exercise 4 - Create a markdown cell to list data science languages"
   ]
  },
  {
   "cell_type": "markdown",
   "id": "47b82fc9-ce3e-429e-86ab-a42d9e3cfbbd",
   "metadata": {},
   "source": [
    "Some of the popular languages that Data Scientists use are:\n",
    "    "
   ]
  },
  {
   "cell_type": "markdown",
   "id": "ebda4eac-4f1d-4a54-b822-02f45eb87e8a",
   "metadata": {},
   "source": [
    "###### 1. python\n",
    "\n",
    "###### 2. R\n",
    "\n",
    "###### 3. scala\n",
    "\n",
    "###### 4.julia\n",
    "\n",
    "###### 5.javascript\n",
    "\n",
    "###### 6. c++\n",
    "\n",
    "###### 7.Matlab\n",
    "\n",
    "\n"
   ]
  },
  {
   "cell_type": "code",
   "execution_count": 4,
   "id": "1da80db4-1659-48fc-a0f1-ac2f70169b21",
   "metadata": {},
   "outputs": [],
   "source": [
    "# Exercise 5 - Create a Markdown Cell to List Data Science Libraries"
   ]
  },
  {
   "cell_type": "code",
   "execution_count": null,
   "id": "4c0d9247-0eb3-4eeb-8b54-aa1230c6690a",
   "metadata": {},
   "outputs": [],
   "source": [
    "Some of the commonly used libraries used by Data Scientists include:"
   ]
  },
  {
   "cell_type": "markdown",
   "id": "7d15958a-f7f3-4ee2-b687-8d009da1ccf1",
   "metadata": {},
   "source": [
    "###### 1.pandas\n",
    "\n",
    "###### 2.numpy\n",
    "\n",
    "###### 3.seaborn\n",
    "\n",
    "###### 4.dplyr\n",
    "\n",
    "###### 5.scipy\n",
    "\n",
    "###### 5.caret\n",
    "\n",
    "###### 6.matplotlib.pyplot\n",
    "\n",
    "###### 7.ggplot\n",
    "\n",
    "\n",
    "\n",
    "\n",
    "\n"
   ]
  },
  {
   "cell_type": "code",
   "execution_count": 7,
   "id": "7c61d66e-d8ad-4180-861e-bc4dc69a5c89",
   "metadata": {},
   "outputs": [],
   "source": [
    "# Exercise 6 - Create a Markdown Cell with an Array of Data Science Tools"
   ]
  },
  {
   "cell_type": "code",
   "execution_count": null,
   "id": "7c6450d8-3188-417a-b80d-8f1b01dc862e",
   "metadata": {},
   "outputs": [],
   "source": [
    "ordered list"
   ]
  },
  {
   "cell_type": "markdown",
   "id": "b0bb1c00-6eee-4c32-bf45-46c914a46ffd",
   "metadata": {},
   "source": [
    "|           Data Science Tools                   |\n",
    "|------------------------------------------------|                           \n",
    "|  1- visual studio code                            |\n",
    "|  2- Apache spark                                  |\n",
    "|  3- github                                        |\n",
    "| 4-JupyterLab                                      |\n",
    "| 5-JupyterLite                                     |\n",
    "| 6- Googlecolab                                    |\n"
   ]
  },
  {
   "cell_type": "code",
   "execution_count": 8,
   "id": "90de2e74-e2af-4884-8af0-c28d8b6d340f",
   "metadata": {},
   "outputs": [],
   "source": [
    "# Exercise 7 - Creating a Markdown Cell with Arithmetic Expression Examples"
   ]
  },
  {
   "cell_type": "markdown",
   "id": "fadd78ae-332e-4dbe-afbf-dbdd71d6c517",
   "metadata": {},
   "source": [
    "### Below are a few examples of evaluating arithmetic expressions in Python"
   ]
  },
  {
   "cell_type": "code",
   "execution_count": 9,
   "id": "ac5a8e50-6f16-48a0-a70e-a9d54fe35330",
   "metadata": {},
   "outputs": [
    {
     "data": {
      "text/plain": [
       "2"
      ]
     },
     "execution_count": 9,
     "metadata": {},
     "output_type": "execute_result"
    }
   ],
   "source": [
    "1+1"
   ]
  },
  {
   "cell_type": "code",
   "execution_count": 13,
   "id": "e7e905e7-9727-44dc-8d63-160afca23578",
   "metadata": {},
   "outputs": [
    {
     "data": {
      "text/plain": [
       "1"
      ]
     },
     "execution_count": 13,
     "metadata": {},
     "output_type": "execute_result"
    }
   ],
   "source": [
    "2-1"
   ]
  },
  {
   "cell_type": "code",
   "execution_count": 10,
   "id": "0a4ce67c-483b-489e-a889-3c2d72e3a099",
   "metadata": {},
   "outputs": [
    {
     "data": {
      "text/plain": [
       "12"
      ]
     },
     "execution_count": 10,
     "metadata": {},
     "output_type": "execute_result"
    }
   ],
   "source": [
    "(2+2)*3"
   ]
  },
  {
   "cell_type": "code",
   "execution_count": 11,
   "id": "fb1ec404-0e25-46e2-905c-4e7bfec6b414",
   "metadata": {},
   "outputs": [
    {
     "data": {
      "text/plain": [
       "9"
      ]
     },
     "execution_count": 11,
     "metadata": {},
     "output_type": "execute_result"
    }
   ],
   "source": [
    "3**2"
   ]
  },
  {
   "cell_type": "code",
   "execution_count": 16,
   "id": "77d087cd-d856-4e69-b3d3-8bed6a0e7f91",
   "metadata": {},
   "outputs": [
    {
     "data": {
      "text/plain": [
       "12"
      ]
     },
     "execution_count": 16,
     "metadata": {},
     "output_type": "execute_result"
    }
   ],
   "source": [
    "3*2*2"
   ]
  },
  {
   "cell_type": "code",
   "execution_count": 17,
   "id": "6e3e28e3-5458-4ff6-ab12-72a8ac1994d8",
   "metadata": {},
   "outputs": [],
   "source": [
    "# Exercise 8 - Creating a Code Cell to Multiply and Add Numbers"
   ]
  },
  {
   "cell_type": "code",
   "execution_count": 18,
   "id": "131ade7e-b0cb-4abb-9779-63843be2de83",
   "metadata": {},
   "outputs": [
    {
     "data": {
      "text/plain": [
       "17"
      ]
     },
     "execution_count": 18,
     "metadata": {},
     "output_type": "execute_result"
    }
   ],
   "source": [
    "# il s’agit d’une expression arithmétique simple pour multiplier puis ajouter des entiers\n",
    "\n",
    "(3*4)+5"
   ]
  },
  {
   "cell_type": "code",
   "execution_count": 31,
   "id": "3e9ce6f4-3638-4e0e-b2fb-3e189737c6f9",
   "metadata": {},
   "outputs": [],
   "source": [
    "# Exercise 9 - Create a Code Cell to Convert Minutes to Hours"
   ]
  },
  {
   "cell_type": "code",
   "execution_count": null,
   "id": "57d7bfde-5efd-478b-bffa-11b283d4a649",
   "metadata": {},
   "outputs": [],
   "source": [
    "# This will convert 200 minutes into hours by diving 60."
   ]
  },
  {
   "cell_type": "code",
   "execution_count": 30,
   "id": "348055cf-e0d3-44c8-b6b3-59ed26130f94",
   "metadata": {},
   "outputs": [
    {
     "name": "stdin",
     "output_type": "stream",
     "text": [
      "Duration in minutes? 200\n"
     ]
    },
    {
     "name": "stdout",
     "output_type": "stream",
     "text": [
      "200 min= 3 hours 20 minutes 1200 Seconds\n"
     ]
    }
   ],
   "source": [
    "d=int(input(\"Duration in minutes?\"))\n",
    "h=d//60\n",
    "m=d%60\n",
    "s=m*60\n",
    "print(d,\"min=\", h, \"hours\", m, \"minutes\", s,\"Seconds\")\n"
   ]
  },
  {
   "cell_type": "markdown",
   "id": "b9d0814a-86f6-47e5-b769-2880de979e62",
   "metadata": {},
   "source": [
    "## Author\n",
    "RODRIGUE MAHI NDOUNG"
   ]
  },
  {
   "cell_type": "code",
   "execution_count": null,
   "id": "c2fd4b9a-bd2c-48a5-b2d4-09fc30e51b5f",
   "metadata": {},
   "outputs": [],
   "source": []
  }
 ],
 "metadata": {
  "kernelspec": {
   "display_name": "Python 3 (ipykernel)",
   "language": "python",
   "name": "python3"
  },
  "language_info": {
   "codemirror_mode": {
    "name": "ipython",
    "version": 3
   },
   "file_extension": ".py",
   "mimetype": "text/x-python",
   "name": "python",
   "nbconvert_exporter": "python",
   "pygments_lexer": "ipython3",
   "version": "3.9.13"
  }
 },
 "nbformat": 4,
 "nbformat_minor": 5
}
