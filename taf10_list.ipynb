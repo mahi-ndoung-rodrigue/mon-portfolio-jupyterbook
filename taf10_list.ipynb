{
 "cells": [
  {
   "cell_type": "code",
   "execution_count": 1,
   "id": "ef5805ac",
   "metadata": {},
   "outputs": [
    {
     "data": {
      "text/plain": [
       "['farine de blé', 'pates', 'lait', 'légumes']"
      ]
     },
     "execution_count": 1,
     "metadata": {},
     "output_type": "execute_result"
    }
   ],
   "source": [
    "course= ['farine de blé','pates','lait','légumes']\n",
    "course"
   ]
  },
  {
   "cell_type": "code",
   "execution_count": 2,
   "id": "941f3dd9",
   "metadata": {},
   "outputs": [
    {
     "data": {
      "text/plain": [
       "list"
      ]
     },
     "execution_count": 2,
     "metadata": {},
     "output_type": "execute_result"
    }
   ],
   "source": [
    "type(course)"
   ]
  },
  {
   "cell_type": "code",
   "execution_count": 3,
   "id": "48a60244",
   "metadata": {},
   "outputs": [
    {
     "data": {
      "text/plain": [
       "'légumes'"
      ]
     },
     "execution_count": 3,
     "metadata": {},
     "output_type": "execute_result"
    }
   ],
   "source": [
    "course[3]"
   ]
  },
  {
   "cell_type": "code",
   "execution_count": 4,
   "id": "21d0cd1f",
   "metadata": {},
   "outputs": [
    {
     "data": {
      "text/plain": [
       "['farine de blé', 'pates', 'lait']"
      ]
     },
     "execution_count": 4,
     "metadata": {},
     "output_type": "execute_result"
    }
   ],
   "source": [
    "course[0:3]"
   ]
  },
  {
   "cell_type": "code",
   "execution_count": 7,
   "id": "c10b694e",
   "metadata": {},
   "outputs": [
    {
     "data": {
      "text/plain": [
       "['farine de blé', 'pates', 'lait', 'légumes', 'manioc', 'sucre', 'eau']"
      ]
     },
     "execution_count": 7,
     "metadata": {},
     "output_type": "execute_result"
    }
   ],
   "source": [
    "l= course + ['manioc', 'sucre', 'eau']\n",
    "l"
   ]
  },
  {
   "cell_type": "code",
   "execution_count": null,
   "id": "dab60682",
   "metadata": {},
   "outputs": [],
   "source": []
  }
 ],
 "metadata": {
  "kernelspec": {
   "display_name": "Python 3 (ipykernel)",
   "language": "python",
   "name": "python3"
  },
  "language_info": {
   "codemirror_mode": {
    "name": "ipython",
    "version": 3
   },
   "file_extension": ".py",
   "mimetype": "text/x-python",
   "name": "python",
   "nbconvert_exporter": "python",
   "pygments_lexer": "ipython3",
   "version": "3.9.13"
  }
 },
 "nbformat": 4,
 "nbformat_minor": 5
}
