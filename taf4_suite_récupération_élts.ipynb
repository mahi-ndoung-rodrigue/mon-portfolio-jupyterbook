{
 "cells": [
  {
   "cell_type": "code",
   "execution_count": 1,
   "id": "46c46a24",
   "metadata": {},
   "outputs": [
    {
     "data": {
      "text/plain": [
       "'a'"
      ]
     },
     "execution_count": 1,
     "metadata": {},
     "output_type": "execute_result"
    }
   ],
   "source": [
    "region= 'aquitaine'\n",
    "region[0]"
   ]
  },
  {
   "cell_type": "code",
   "execution_count": 2,
   "id": "11e9d7b4",
   "metadata": {},
   "outputs": [
    {
     "data": {
      "text/plain": [
       "'q'"
      ]
     },
     "execution_count": 2,
     "metadata": {},
     "output_type": "execute_result"
    }
   ],
   "source": [
    "region[1]"
   ]
  },
  {
   "cell_type": "code",
   "execution_count": 3,
   "id": "71abae0f",
   "metadata": {},
   "outputs": [
    {
     "data": {
      "text/plain": [
       "'t'"
      ]
     },
     "execution_count": 3,
     "metadata": {},
     "output_type": "execute_result"
    }
   ],
   "source": [
    "region[4]"
   ]
  },
  {
   "cell_type": "code",
   "execution_count": 4,
   "id": "be66bb41",
   "metadata": {},
   "outputs": [
    {
     "data": {
      "text/plain": [
       "'a'"
      ]
     },
     "execution_count": 4,
     "metadata": {},
     "output_type": "execute_result"
    }
   ],
   "source": [
    "region[-9]"
   ]
  },
  {
   "cell_type": "code",
   "execution_count": 5,
   "id": "8c8c3372",
   "metadata": {},
   "outputs": [
    {
     "data": {
      "text/plain": [
       "'t'"
      ]
     },
     "execution_count": 5,
     "metadata": {},
     "output_type": "execute_result"
    }
   ],
   "source": [
    "region[-5]"
   ]
  },
  {
   "cell_type": "code",
   "execution_count": 6,
   "id": "4b790aa1",
   "metadata": {},
   "outputs": [
    {
     "data": {
      "text/plain": [
       "'taine'"
      ]
     },
     "execution_count": 6,
     "metadata": {},
     "output_type": "execute_result"
    }
   ],
   "source": [
    "region[4:]"
   ]
  },
  {
   "cell_type": "code",
   "execution_count": 7,
   "id": "f4d50dd5",
   "metadata": {},
   "outputs": [
    {
     "data": {
      "text/plain": [
       "'aqui'"
      ]
     },
     "execution_count": 7,
     "metadata": {},
     "output_type": "execute_result"
    }
   ],
   "source": [
    "region[:4]"
   ]
  },
  {
   "cell_type": "code",
   "execution_count": 8,
   "id": "6ac91a13",
   "metadata": {},
   "outputs": [
    {
     "data": {
      "text/plain": [
       "'quit'"
      ]
     },
     "execution_count": 8,
     "metadata": {},
     "output_type": "execute_result"
    }
   ],
   "source": [
    "region[1:5]"
   ]
  },
  {
   "cell_type": "code",
   "execution_count": 9,
   "id": "a699ff88",
   "metadata": {},
   "outputs": [
    {
     "data": {
      "text/plain": [
       "'san francisco'"
      ]
     },
     "execution_count": 9,
     "metadata": {},
     "output_type": "execute_result"
    }
   ],
   "source": [
    "city='san francisco'\n",
    "city"
   ]
  },
  {
   "cell_type": "code",
   "execution_count": 10,
   "id": "01472ed4",
   "metadata": {},
   "outputs": [
    {
     "data": {
      "text/plain": [
       "'san'"
      ]
     },
     "execution_count": 10,
     "metadata": {},
     "output_type": "execute_result"
    }
   ],
   "source": [
    "city[0:3]"
   ]
  },
  {
   "cell_type": "code",
   "execution_count": 11,
   "id": "e70632d6",
   "metadata": {},
   "outputs": [
    {
     "data": {
      "text/plain": [
       "'francis'"
      ]
     },
     "execution_count": 11,
     "metadata": {},
     "output_type": "execute_result"
    }
   ],
   "source": [
    "city[4:11]"
   ]
  },
  {
   "cell_type": "code",
   "execution_count": 12,
   "id": "f08c5dd8",
   "metadata": {},
   "outputs": [
    {
     "data": {
      "text/plain": [
       "'san '"
      ]
     },
     "execution_count": 12,
     "metadata": {},
     "output_type": "execute_result"
    }
   ],
   "source": [
    "city[0:4]"
   ]
  },
  {
   "cell_type": "code",
   "execution_count": 13,
   "id": "7e657a8c",
   "metadata": {},
   "outputs": [
    {
     "data": {
      "text/plain": [
       "'isco'"
      ]
     },
     "execution_count": 13,
     "metadata": {},
     "output_type": "execute_result"
    }
   ],
   "source": [
    "city[-4:]"
   ]
  },
  {
   "cell_type": "code",
   "execution_count": 14,
   "id": "68f71c0e",
   "metadata": {},
   "outputs": [
    {
     "data": {
      "text/plain": [
       "3"
      ]
     },
     "execution_count": 14,
     "metadata": {},
     "output_type": "execute_result"
    }
   ],
   "source": [
    "len('san')"
   ]
  },
  {
   "cell_type": "code",
   "execution_count": 15,
   "id": "0154114e",
   "metadata": {},
   "outputs": [
    {
     "data": {
      "text/plain": [
       "4"
      ]
     },
     "execution_count": 15,
     "metadata": {},
     "output_type": "execute_result"
    }
   ],
   "source": [
    "len('san ')"
   ]
  },
  {
   "cell_type": "code",
   "execution_count": null,
   "id": "81be6318",
   "metadata": {},
   "outputs": [],
   "source": [
    "print(\"what's your name ?\")\n",
    "name= input()\n",
    "print(\"bonjour\", name)"
   ]
  },
  {
   "cell_type": "markdown",
   "id": "a351932e",
   "metadata": {},
   "source": [
    "print(\"comment vas-tu?\")\n",
    "etat=input()\n",
    "print(\"ok\",etat)"
   ]
  },
  {
   "cell_type": "markdown",
   "id": "840f3be8",
   "metadata": {},
   "source": []
  }
 ],
 "metadata": {
  "kernelspec": {
   "display_name": "Python 3 (ipykernel)",
   "language": "python",
   "name": "python3"
  },
  "language_info": {
   "codemirror_mode": {
    "name": "ipython",
    "version": 3
   },
   "file_extension": ".py",
   "mimetype": "text/x-python",
   "name": "python",
   "nbconvert_exporter": "python",
   "pygments_lexer": "ipython3",
   "version": "3.9.13"
  }
 },
 "nbformat": 4,
 "nbformat_minor": 5
}
