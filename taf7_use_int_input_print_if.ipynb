{
 "cells": [
  {
   "cell_type": "code",
   "execution_count": 1,
   "id": "39864905",
   "metadata": {},
   "outputs": [
    {
     "name": "stdout",
     "output_type": "stream",
     "text": [
      " quel est votre age ? 30\n",
      "vous pouvez voter et aussi jouer aux jeux de hasard\n"
     ]
    }
   ],
   "source": [
    "age = int(input(\" quel est votre age ? \"))\n",
    "\n",
    "if age >= 25 :\n",
    "    print(\"vous pouvez voter et aussi jouer aux jeux de hasard\")\n",
    "elif age >= 18 :\n",
    "    print(\"vous pouvez voter\")\n",
    "else:\n",
    "    print(\"vous ne pouvez pas voter, vous etes jeunes.\")\n",
    "    \n",
    "\n"
   ]
  },
  {
   "cell_type": "code",
   "execution_count": 2,
   "id": "3aa48203",
   "metadata": {},
   "outputs": [
    {
     "name": "stdout",
     "output_type": "stream",
     "text": [
      " quel est votre age ? :18\n",
      "vous pouvez voter\n"
     ]
    }
   ],
   "source": [
    "age = int(input(\" quel est votre age ? :\"))\n",
    "\n",
    "if age >= 18 :\n",
    "    print(\"vous pouvez voter\")\n",
    "    if age >= 25 :\n",
    "        print(\"vous pouvez voter et jouer aux jeux de hasard\")\n",
    "else:\n",
    "    print(\"vous ne pouvez pas voter, vous etes jeunes.\")\n"
   ]
  },
  {
   "cell_type": "code",
   "execution_count": null,
   "id": "192cb27a",
   "metadata": {},
   "outputs": [],
   "source": []
  },
  {
   "cell_type": "code",
   "execution_count": null,
   "id": "54d18f92",
   "metadata": {},
   "outputs": [],
   "source": []
  }
 ],
 "metadata": {
  "kernelspec": {
   "display_name": "Python 3 (ipykernel)",
   "language": "python",
   "name": "python3"
  },
  "language_info": {
   "codemirror_mode": {
    "name": "ipython",
    "version": 3
   },
   "file_extension": ".py",
   "mimetype": "text/x-python",
   "name": "python",
   "nbconvert_exporter": "python",
   "pygments_lexer": "ipython3",
   "version": "3.9.13"
  }
 },
 "nbformat": 4,
 "nbformat_minor": 5
}
