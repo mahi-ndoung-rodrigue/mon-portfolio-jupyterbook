{
 "cells": [
  {
   "cell_type": "code",
   "execution_count": 3,
   "id": "aaf2e669",
   "metadata": {},
   "outputs": [
    {
     "data": {
      "text/plain": [
       "'rodrigueMAHI'"
      ]
     },
     "execution_count": 3,
     "metadata": {},
     "output_type": "execute_result"
    }
   ],
   "source": [
    "first_name = \"rodrigue\"\n",
    "last_name = \"Mahi\"\n",
    "last_name = \"MAHI\"\n",
    "name = first_name + last_name\n",
    "name"
   ]
  },
  {
   "cell_type": "markdown",
   "id": "7ece14ae",
   "metadata": {},
   "source": []
  },
  {
   "cell_type": "code",
   "execution_count": 4,
   "id": "25cbb422",
   "metadata": {},
   "outputs": [
    {
     "data": {
      "text/plain": [
       "12"
      ]
     },
     "execution_count": 4,
     "metadata": {},
     "output_type": "execute_result"
    }
   ],
   "source": [
    "len(name)"
   ]
  },
  {
   "cell_type": "code",
   "execution_count": 6,
   "id": "f58fd327",
   "metadata": {},
   "outputs": [
    {
     "name": "stdout",
     "output_type": "stream",
     "text": [
      "I'am call fouda josi\n",
      "I life in washighton\n"
     ]
    }
   ],
   "source": [
    "city = \"washighton\"\n",
    "print(\"I'am call fouda josi\\nI life in\",city)"
   ]
  },
  {
   "cell_type": "code",
   "execution_count": 7,
   "id": "96879876",
   "metadata": {},
   "outputs": [
    {
     "name": "stdout",
     "output_type": "stream",
     "text": [
      "I am call rodrigue mahi\n",
      "I life in washighton\n"
     ]
    }
   ],
   "source": [
    "print(\"I am call rodrigue mahi\\nI life in\",city)"
   ]
  },
  {
   "cell_type": "code",
   "execution_count": 20,
   "id": "33ee09a5",
   "metadata": {},
   "outputs": [
    {
     "data": {
      "text/plain": [
       "'HELLO WORLD'"
      ]
     },
     "execution_count": 20,
     "metadata": {},
     "output_type": "execute_result"
    }
   ],
   "source": [
    "'hello world'.upper()"
   ]
  },
  {
   "cell_type": "code",
   "execution_count": 21,
   "id": "127ddc1a",
   "metadata": {},
   "outputs": [
    {
     "data": {
      "text/plain": [
       "'hello world'"
      ]
     },
     "execution_count": 21,
     "metadata": {},
     "output_type": "execute_result"
    }
   ],
   "source": [
    "'hELLO WORLD'.lower()"
   ]
  },
  {
   "cell_type": "code",
   "execution_count": 22,
   "id": "1aa39047",
   "metadata": {},
   "outputs": [
    {
     "data": {
      "text/plain": [
       "'minuscule'"
      ]
     },
     "execution_count": 22,
     "metadata": {},
     "output_type": "execute_result"
    }
   ],
   "source": [
    "'MINUSCULE'.lower()"
   ]
  },
  {
   "cell_type": "code",
   "execution_count": 23,
   "id": "6f31e5d1",
   "metadata": {},
   "outputs": [
    {
     "data": {
      "text/plain": [
       "'donne ma part sur ca rapidement'"
      ]
     },
     "execution_count": 23,
     "metadata": {},
     "output_type": "execute_result"
    }
   ],
   "source": [
    "'donne ma part sur ca rapidement'.lower()"
   ]
  },
  {
   "cell_type": "code",
   "execution_count": 25,
   "id": "7e9aec98",
   "metadata": {},
   "outputs": [
    {
     "data": {
      "text/plain": [
       "'DONNE MA PART SUR CA RAPIDEMENT'"
      ]
     },
     "execution_count": 25,
     "metadata": {},
     "output_type": "execute_result"
    }
   ],
   "source": [
    "'donne ma part sur ca rapidement'.upper()"
   ]
  },
  {
   "cell_type": "code",
   "execution_count": 28,
   "id": "94bf2146",
   "metadata": {},
   "outputs": [
    {
     "data": {
      "text/plain": [
       "'BERTILLE'"
      ]
     },
     "execution_count": 28,
     "metadata": {},
     "output_type": "execute_result"
    }
   ],
   "source": [
    "\"Bertille\".replace(\"ertille\",\"ERTILLE\")"
   ]
  },
  {
   "cell_type": "code",
   "execution_count": 37,
   "id": "b3603621",
   "metadata": {},
   "outputs": [
    {
     "data": {
      "text/plain": [
       "'Tomorrow i come give you we leave in school'"
      ]
     },
     "execution_count": 37,
     "metadata": {},
     "output_type": "execute_result"
    }
   ],
   "source": [
    "\"tomorrow I come give you we leave in school\".capitalize()"
   ]
  },
  {
   "cell_type": "code",
   "execution_count": 36,
   "id": "4dd3afe7",
   "metadata": {},
   "outputs": [
    {
     "name": "stdout",
     "output_type": "stream",
     "text": [
      "tomorrow I come give you\n",
      "we leave in school\n"
     ]
    }
   ],
   "source": [
    "print(\"tomorrow I come give you\\nwe leave in school\")"
   ]
  },
  {
   "cell_type": "code",
   "execution_count": 39,
   "id": "29daed89",
   "metadata": {},
   "outputs": [
    {
     "data": {
      "text/plain": [
       "'Josue Afouda'"
      ]
     },
     "execution_count": 39,
     "metadata": {},
     "output_type": "execute_result"
    }
   ],
   "source": [
    "'josue afouda'.title()"
   ]
  },
  {
   "cell_type": "code",
   "execution_count": 40,
   "id": "1c4262f3",
   "metadata": {},
   "outputs": [
    {
     "data": {
      "text/plain": [
       "'Mahi Ndoung Rodrigue'"
      ]
     },
     "execution_count": 40,
     "metadata": {},
     "output_type": "execute_result"
    }
   ],
   "source": [
    "'mahi ndoung rodrigue'.title()"
   ]
  },
  {
   "cell_type": "code",
   "execution_count": 41,
   "id": "86c4a1b4",
   "metadata": {},
   "outputs": [
    {
     "data": {
      "text/plain": [
       "'Ngo Oum Hermine Estelle Clotilde'"
      ]
     },
     "execution_count": 41,
     "metadata": {},
     "output_type": "execute_result"
    }
   ],
   "source": [
    "'ngo oum hermine estelle clotilde'.title()"
   ]
  },
  {
   "cell_type": "code",
   "execution_count": 42,
   "id": "dde731a1",
   "metadata": {},
   "outputs": [
    {
     "data": {
      "text/plain": [
       "'Ntamack Rene Aubin Firmin'"
      ]
     },
     "execution_count": 42,
     "metadata": {},
     "output_type": "execute_result"
    }
   ],
   "source": [
    "'ntamack rene aubin firmin' .title()"
   ]
  },
  {
   "cell_type": "code",
   "execution_count": 45,
   "id": "7e5f51d4",
   "metadata": {},
   "outputs": [
    {
     "data": {
      "text/plain": [
       "['les', 'crises', 'sanitaires', 'et', 'financière']"
      ]
     },
     "execution_count": 45,
     "metadata": {},
     "output_type": "execute_result"
    }
   ],
   "source": [
    "s ='les crises sanitaires et financière'\n",
    "s.split()"
   ]
  },
  {
   "cell_type": "code",
   "execution_count": 61,
   "id": "2c9d0a5f",
   "metadata": {},
   "outputs": [
    {
     "data": {
      "text/plain": [
       "['la',\n",
       " 'politique',\n",
       " 'économique',\n",
       " 'à',\n",
       " 'deux',\n",
       " 'instruments',\n",
       " 'à',\n",
       " 'savoir',\n",
       " ':',\n",
       " 'la',\n",
       " 'politique',\n",
       " 'budgétaire',\n",
       " 'et',\n",
       " 'la',\n",
       " 'politique',\n",
       " 'monétaire']"
      ]
     },
     "execution_count": 61,
     "metadata": {},
     "output_type": "execute_result"
    }
   ],
   "source": [
    "c = 'la politique économique à deux instruments à savoir : la politique budgétaire et la politique monétaire'\n",
    "c.split()"
   ]
  },
  {
   "cell_type": "code",
   "execution_count": 48,
   "id": "d8664f2f",
   "metadata": {},
   "outputs": [
    {
     "data": {
      "text/plain": [
       "list"
      ]
     },
     "execution_count": 48,
     "metadata": {},
     "output_type": "execute_result"
    }
   ],
   "source": [
    "type(s.split())"
   ]
  },
  {
   "cell_type": "code",
   "execution_count": 54,
   "id": "de0aebcb",
   "metadata": {},
   "outputs": [
    {
     "data": {
      "text/plain": [
       "['jet', '7']"
      ]
     },
     "execution_count": 54,
     "metadata": {},
     "output_type": "execute_result"
    }
   ],
   "source": [
    "c= 'jet-7'\n",
    "c.split('-')"
   ]
  },
  {
   "cell_type": "code",
   "execution_count": 57,
   "id": "4c96795e",
   "metadata": {},
   "outputs": [
    {
     "data": {
      "text/plain": [
       "builtin_function_or_method"
      ]
     },
     "execution_count": 57,
     "metadata": {},
     "output_type": "execute_result"
    }
   ],
   "source": [
    "type(c.split)"
   ]
  },
  {
   "cell_type": "code",
   "execution_count": 65,
   "id": "55aad24a",
   "metadata": {},
   "outputs": [
    {
     "data": {
      "text/plain": [
       "'l-a- -p-o-l-i-t-i-q-u-e- -é-c-o-n-o-m-i-q-u-e- -à- -d-e-u-x- -i-n-s-t-r-u-m-e-n-t-s- -à- -s-a-v-o-i-r- -:- -l-a- -p-o-l-i-t-i-q-u-e- -b-u-d-g-é-t-a-i-r-e- -e-t- -l-a- -p-o-l-i-t-i-q-u-e- -m-o-n-é-t-a-i-r-e'"
      ]
     },
     "execution_count": 65,
     "metadata": {},
     "output_type": "execute_result"
    }
   ],
   "source": [
    "'-'.join(c)"
   ]
  },
  {
   "cell_type": "code",
   "execution_count": 67,
   "id": "d756ebf5",
   "metadata": {},
   "outputs": [
    {
     "data": {
      "text/plain": [
       "'A'"
      ]
     },
     "execution_count": 67,
     "metadata": {},
     "output_type": "execute_result"
    }
   ],
   "source": [
    "région= 'Aquitaine'\n",
    "région[0]"
   ]
  },
  {
   "cell_type": "code",
   "execution_count": 68,
   "id": "1b6c225b",
   "metadata": {},
   "outputs": [
    {
     "data": {
      "text/plain": [
       "'q'"
      ]
     },
     "execution_count": 68,
     "metadata": {},
     "output_type": "execute_result"
    }
   ],
   "source": [
    "région[1]"
   ]
  },
  {
   "cell_type": "code",
   "execution_count": 69,
   "id": "42fdc32f",
   "metadata": {},
   "outputs": [
    {
     "data": {
      "text/plain": [
       "'a'"
      ]
     },
     "execution_count": 69,
     "metadata": {},
     "output_type": "execute_result"
    }
   ],
   "source": [
    "région[5]"
   ]
  },
  {
   "cell_type": "code",
   "execution_count": 73,
   "id": "e020bced",
   "metadata": {},
   "outputs": [
    {
     "data": {
      "text/plain": [
       "'t'"
      ]
     },
     "execution_count": 73,
     "metadata": {},
     "output_type": "execute_result"
    }
   ],
   "source": [
    "région[4]"
   ]
  },
  {
   "cell_type": "code",
   "execution_count": 74,
   "id": "d2e3a93c",
   "metadata": {},
   "outputs": [
    {
     "data": {
      "text/plain": [
       "'n'"
      ]
     },
     "execution_count": 74,
     "metadata": {},
     "output_type": "execute_result"
    }
   ],
   "source": [
    "région[7]"
   ]
  },
  {
   "cell_type": "code",
   "execution_count": 75,
   "id": "452263dc",
   "metadata": {},
   "outputs": [
    {
     "data": {
      "text/plain": [
       "'i'"
      ]
     },
     "execution_count": 75,
     "metadata": {},
     "output_type": "execute_result"
    }
   ],
   "source": [
    "région[6]"
   ]
  },
  {
   "cell_type": "code",
   "execution_count": 76,
   "id": "8d2c6bab",
   "metadata": {},
   "outputs": [
    {
     "data": {
      "text/plain": [
       "'A'"
      ]
     },
     "execution_count": 76,
     "metadata": {},
     "output_type": "execute_result"
    }
   ],
   "source": [
    "région[-9]"
   ]
  },
  {
   "cell_type": "code",
   "execution_count": 77,
   "id": "752e666a",
   "metadata": {},
   "outputs": [
    {
     "data": {
      "text/plain": [
       "'t'"
      ]
     },
     "execution_count": 77,
     "metadata": {},
     "output_type": "execute_result"
    }
   ],
   "source": [
    "région[-5]"
   ]
  },
  {
   "cell_type": "code",
   "execution_count": 78,
   "id": "0cce4bd8",
   "metadata": {},
   "outputs": [
    {
     "data": {
      "text/plain": [
       "'taine'"
      ]
     },
     "execution_count": 78,
     "metadata": {},
     "output_type": "execute_result"
    }
   ],
   "source": [
    "région[4:]"
   ]
  },
  {
   "cell_type": "code",
   "execution_count": 79,
   "id": "7bba1a2f",
   "metadata": {},
   "outputs": [
    {
     "data": {
      "text/plain": [
       "'Aqui'"
      ]
     },
     "execution_count": 79,
     "metadata": {},
     "output_type": "execute_result"
    }
   ],
   "source": [
    "région[:4]"
   ]
  },
  {
   "cell_type": "code",
   "execution_count": null,
   "id": "f6341002",
   "metadata": {},
   "outputs": [],
   "source": []
  },
  {
   "cell_type": "code",
   "execution_count": 84,
   "id": "11a35025",
   "metadata": {},
   "outputs": [
    {
     "data": {
      "text/plain": [
       "'quit'"
      ]
     },
     "execution_count": 84,
     "metadata": {},
     "output_type": "execute_result"
    }
   ],
   "source": [
    "région[1:5:]"
   ]
  },
  {
   "cell_type": "code",
   "execution_count": 109,
   "id": "735975fd",
   "metadata": {},
   "outputs": [],
   "source": []
  },
  {
   "cell_type": "code",
   "execution_count": 116,
   "id": "f4e954fd",
   "metadata": {},
   "outputs": [
    {
     "data": {
      "text/plain": [
       "[3]"
      ]
     },
     "execution_count": 116,
     "metadata": {},
     "output_type": "execute_result"
    }
   ],
   "source": []
  },
  {
   "cell_type": "code",
   "execution_count": 117,
   "id": "af972bff",
   "metadata": {},
   "outputs": [],
   "source": [
    "city=[-4]"
   ]
  },
  {
   "cell_type": "code",
   "execution_count": null,
   "id": "c44c6f95",
   "metadata": {},
   "outputs": [],
   "source": []
  },
  {
   "cell_type": "code",
   "execution_count": 95,
   "id": "d5df6056",
   "metadata": {},
   "outputs": [
    {
     "data": {
      "text/plain": [
       "13"
      ]
     },
     "execution_count": 95,
     "metadata": {},
     "output_type": "execute_result"
    }
   ],
   "source": [
    "len(city)"
   ]
  },
  {
   "cell_type": "code",
   "execution_count": 118,
   "id": "59ab54b8",
   "metadata": {},
   "outputs": [],
   "source": [
    "city= 'san francisco'"
   ]
  },
  {
   "cell_type": "code",
   "execution_count": 8,
   "id": "f45dc980",
   "metadata": {},
   "outputs": [
    {
     "data": {
      "text/plain": [
       "'was'"
      ]
     },
     "execution_count": 8,
     "metadata": {},
     "output_type": "execute_result"
    }
   ],
   "source": [
    "city[:3]"
   ]
  },
  {
   "cell_type": "code",
   "execution_count": null,
   "id": "576f9e30",
   "metadata": {},
   "outputs": [],
   "source": []
  }
 ],
 "metadata": {
  "kernelspec": {
   "display_name": "Python 3 (ipykernel)",
   "language": "python",
   "name": "python3"
  },
  "language_info": {
   "codemirror_mode": {
    "name": "ipython",
    "version": 3
   },
   "file_extension": ".py",
   "mimetype": "text/x-python",
   "name": "python",
   "nbconvert_exporter": "python",
   "pygments_lexer": "ipython3",
   "version": "3.9.13"
  }
 },
 "nbformat": 4,
 "nbformat_minor": 5
}
