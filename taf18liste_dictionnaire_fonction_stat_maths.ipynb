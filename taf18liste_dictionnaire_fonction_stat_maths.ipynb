{
 "cells": [
  {
   "cell_type": "code",
   "execution_count": 1,
   "id": "05f58a08",
   "metadata": {},
   "outputs": [
    {
     "data": {
      "text/plain": [
       "['farine de blé', 'pates', 'lait', 'légumes']"
      ]
     },
     "execution_count": 1,
     "metadata": {},
     "output_type": "execute_result"
    }
   ],
   "source": [
    "courses=['farine de blé', 'pates', 'lait', 'légumes']\n",
    "courses"
   ]
  },
  {
   "cell_type": "code",
   "execution_count": 2,
   "id": "d1767029",
   "metadata": {},
   "outputs": [
    {
     "data": {
      "text/plain": [
       "list"
      ]
     },
     "execution_count": 2,
     "metadata": {},
     "output_type": "execute_result"
    }
   ],
   "source": [
    "type(courses)"
   ]
  },
  {
   "cell_type": "code",
   "execution_count": 3,
   "id": "9d26ef6d",
   "metadata": {},
   "outputs": [
    {
     "data": {
      "text/plain": [
       "'farine de blé'"
      ]
     },
     "execution_count": 3,
     "metadata": {},
     "output_type": "execute_result"
    }
   ],
   "source": [
    "courses[0]"
   ]
  },
  {
   "cell_type": "code",
   "execution_count": 4,
   "id": "3674fcbf",
   "metadata": {},
   "outputs": [
    {
     "data": {
      "text/plain": [
       "'légumes'"
      ]
     },
     "execution_count": 4,
     "metadata": {},
     "output_type": "execute_result"
    }
   ],
   "source": [
    "courses[3]"
   ]
  },
  {
   "cell_type": "code",
   "execution_count": 5,
   "id": "f3455e4f",
   "metadata": {},
   "outputs": [
    {
     "data": {
      "text/plain": [
       "2"
      ]
     },
     "execution_count": 5,
     "metadata": {},
     "output_type": "execute_result"
    }
   ],
   "source": [
    "position_lait=courses.index('lait')\n",
    "position_lait\n"
   ]
  },
  {
   "cell_type": "code",
   "execution_count": null,
   "id": "3ad65de6",
   "metadata": {},
   "outputs": [],
   "source": []
  },
  {
   "cell_type": "code",
   "execution_count": null,
   "id": "25f0c717",
   "metadata": {},
   "outputs": [],
   "source": []
  },
  {
   "cell_type": "code",
   "execution_count": 6,
   "id": "69db1625",
   "metadata": {},
   "outputs": [
    {
     "data": {
      "text/plain": [
       "['farine de blé', 'pates', 'légumes']"
      ]
     },
     "execution_count": 6,
     "metadata": {},
     "output_type": "execute_result"
    }
   ],
   "source": [
    "courses.pop(position_lait)\n",
    "courses"
   ]
  },
  {
   "cell_type": "markdown",
   "id": "df0557ad",
   "metadata": {},
   "source": [
    "n=5\n",
    "age_list=[]\n",
    "for i in range(5):\n",
    "    print(\"Quel est votre age ?\")\n",
    "    age= int(input())\n",
    "    "
   ]
  },
  {
   "cell_type": "code",
   "execution_count": 7,
   "id": "a96afce0",
   "metadata": {},
   "outputs": [
    {
     "name": "stdout",
     "output_type": "stream",
     "text": [
      "Quel est votre age?\n",
      "14\n",
      "Quel est votre age?\n",
      "34\n",
      "Quel est votre age?\n",
      "45\n",
      "Quel est votre age?\n",
      "6\n",
      "Quel est votre age?\n",
      "56\n"
     ]
    },
    {
     "data": {
      "text/plain": [
       "[14, 34, 45, 6, 56]"
      ]
     },
     "execution_count": 7,
     "metadata": {},
     "output_type": "execute_result"
    }
   ],
   "source": [
    "n=5\n",
    "age_list=[]\n",
    "for i in range(5):\n",
    "    print(\"Quel est votre age?\")\n",
    "    age= int(input())\n",
    "    age_list.append(age)\n",
    "age_list    "
   ]
  },
  {
   "cell_type": "code",
   "execution_count": 8,
   "id": "400679f1",
   "metadata": {},
   "outputs": [
    {
     "name": "stdout",
     "output_type": "stream",
     "text": [
      "Age_moyen: 31\n",
      "age_médian: 34\n",
      "Age_maximum: 56\n",
      "Age_manimum: 6\n"
     ]
    }
   ],
   "source": [
    "import statistics as st\n",
    "\n",
    "\n",
    "print(\"Age_moyen:\", round(st.mean(age_list)))\n",
    "\n",
    "print(\"age_médian:\", st.median(age_list))\n",
    "\n",
    "print(\"Age_maximum:\",max(age_list))\n",
    "\n",
    "print(\"Age_manimum:\",min(age_list))\n",
    "\n",
    "\n",
    "\n",
    "\n",
    "\n"
   ]
  },
  {
   "cell_type": "code",
   "execution_count": 9,
   "id": "bdb7b1d0",
   "metadata": {},
   "outputs": [
    {
     "data": {
      "text/plain": [
       "['farine de blé', 'pates', 'légumes', 'cahiers', 'savon', 'lampes']"
      ]
     },
     "execution_count": 9,
     "metadata": {},
     "output_type": "execute_result"
    }
   ],
   "source": [
    "courses.extend(['cahiers', 'savon','lampes'])\n",
    "courses"
   ]
  },
  {
   "cell_type": "code",
   "execution_count": 10,
   "id": "616292c6",
   "metadata": {},
   "outputs": [
    {
     "data": {
      "text/plain": [
       "['cahiers', 'farine de blé', 'lampes', 'légumes', 'pates', 'savon']"
      ]
     },
     "execution_count": 10,
     "metadata": {},
     "output_type": "execute_result"
    }
   ],
   "source": [
    "courses.sort()\n",
    "courses"
   ]
  },
  {
   "cell_type": "code",
   "execution_count": 11,
   "id": "8c8c0abf",
   "metadata": {},
   "outputs": [
    {
     "name": "stdout",
     "output_type": "stream",
     "text": [
      "['cahiers', 'farine de blé', 'lampes', 'légumes', 'pates', 'savon']\n"
     ]
    }
   ],
   "source": [
    "courses\n",
    "print(courses)"
   ]
  },
  {
   "cell_type": "code",
   "execution_count": 12,
   "id": "fce7f51d",
   "metadata": {},
   "outputs": [
    {
     "data": {
      "text/plain": [
       "{'nom': 'jackie chan', 'age': 85, 'pays': 'H.K'}"
      ]
     },
     "execution_count": 12,
     "metadata": {},
     "output_type": "execute_result"
    }
   ],
   "source": [
    "acteur= {'nom':'jackie chan','age':85, 'pays':'H.K'}\n",
    "acteur"
   ]
  },
  {
   "cell_type": "code",
   "execution_count": 13,
   "id": "c0e2f220",
   "metadata": {},
   "outputs": [
    {
     "data": {
      "text/plain": [
       "{'nom': 'jackie chan',\n",
       " 'age': 85,\n",
       " 'pays': 'H.K',\n",
       " 'films': ['le maitre chinois', 'police story', 'karaté kids']}"
      ]
     },
     "execution_count": 13,
     "metadata": {},
     "output_type": "execute_result"
    }
   ],
   "source": [
    "acteur['films']=['le maitre chinois', 'police story','karaté kids']\n",
    "acteur"
   ]
  },
  {
   "cell_type": "code",
   "execution_count": 14,
   "id": "c64ca0b5",
   "metadata": {},
   "outputs": [
    {
     "data": {
      "text/plain": [
       "[{'acteur': 'dwayne johnson',\n",
       "  'revenu': 89.4,\n",
       "  'films': ['santa', 'oceanne', 'folere', 'kossam']},\n",
       " {'acteur': 'christ hemswort',\n",
       "  'revenu': 76.4,\n",
       "  'films': ['vacation', 'sos danger', 'folere', 'issam']},\n",
       " {'acteur': ' ROBERT jR',\n",
       "  'revenu': 66,\n",
       "  'films': ['iroman', 'le justicier', 'folere', 'kossam']},\n",
       " {'acteur': 'kUMAR',\n",
       "  'revenu': 65,\n",
       "  'films': ['KESARI', 'oSARIeanne', 'folere', 'kossam']},\n",
       " {'acteur': ' jackie chann',\n",
       "  'revenu': 58,\n",
       "  'films': ['le maitre chinois', 'police story', 'karaté kids']}]"
      ]
     },
     "execution_count": 14,
     "metadata": {},
     "output_type": "execute_result"
    }
   ],
   "source": [
    "acteurs=[\n",
    "                    {'acteur':'dwayne johnson', 'revenu':89.4,'films':['santa','oceanne','folere','kossam']},\n",
    "                    {'acteur':'christ hemswort', 'revenu':76.4 ,'films':['vacation','sos danger','folere','issam']},\n",
    "                    {'acteur':' ROBERT jR', 'revenu':66 ,'films':['iroman','le justicier','folere','kossam']},\n",
    "                    {'acteur':'kUMAR', 'revenu':65,'films':['KESARI','oSARIeanne','folere','kossam']},                                            \n",
    "                    {'acteur':' jackie chann', 'revenu':58 ,'films':[ 'le maitre chinois', 'police story','karaté kids']},                                                    \n",
    "       ]\n",
    "\n",
    "acteurs"
   ]
  },
  {
   "cell_type": "code",
   "execution_count": 15,
   "id": "b4346020",
   "metadata": {},
   "outputs": [
    {
     "data": {
      "text/plain": [
       "[89.4, 76.4, 66, 65, 58]"
      ]
     },
     "execution_count": 15,
     "metadata": {},
     "output_type": "execute_result"
    }
   ],
   "source": [
    "revenus=[]\n",
    "for acteur in acteurs:\n",
    "     revenus.append(acteur[\"revenu\"])\n",
    "    \n",
    "revenus    \n",
    "    "
   ]
  },
  {
   "cell_type": "code",
   "execution_count": 16,
   "id": "55249b71",
   "metadata": {},
   "outputs": [
    {
     "data": {
      "text/plain": [
       "70.96000000000001"
      ]
     },
     "execution_count": 16,
     "metadata": {},
     "output_type": "execute_result"
    }
   ],
   "source": [
    "import statistics as st\n",
    "revenu_moyen = st.mean(revenus)\n",
    "revenu_moyen \n",
    "\n"
   ]
  },
  {
   "cell_type": "code",
   "execution_count": 17,
   "id": "cb3adf75",
   "metadata": {},
   "outputs": [
    {
     "name": "stdout",
     "output_type": "stream",
     "text": [
      "{'acteur': 'dwayne johnson', 'revenu': 89.4, 'films': ['santa', 'oceanne', 'folere', 'kossam']}\n",
      "{'acteur': 'christ hemswort', 'revenu': 76.4, 'films': ['vacation', 'sos danger', 'folere', 'issam']}\n"
     ]
    }
   ],
   "source": [
    "for acteur in acteurs:\n",
    "    if acteur[\"revenu\"] > revenu_moyen:\n",
    "         print(acteur)"
   ]
  },
  {
   "cell_type": "code",
   "execution_count": 18,
   "id": "7a859a53",
   "metadata": {},
   "outputs": [
    {
     "data": {
      "text/plain": [
       "{'Ryan': (18, 16), 'Elisa': (20, 12), 'Martine': (20, 20), 'Robert': (14, 15)}"
      ]
     },
     "execution_count": 18,
     "metadata": {},
     "output_type": "execute_result"
    }
   ],
   "source": [
    "notes={  \"Ryan\": (18,16), \"Elisa\": (20,12),\"Martine\": (20,20),\"Robert\": (14,15) } \n",
    "notes      "
   ]
  },
  {
   "cell_type": "code",
   "execution_count": 19,
   "id": "e9b0a8a5",
   "metadata": {},
   "outputs": [
    {
     "data": {
      "text/html": [
       "<div>\n",
       "<style scoped>\n",
       "    .dataframe tbody tr th:only-of-type {\n",
       "        vertical-align: middle;\n",
       "    }\n",
       "\n",
       "    .dataframe tbody tr th {\n",
       "        vertical-align: top;\n",
       "    }\n",
       "\n",
       "    .dataframe thead th {\n",
       "        text-align: right;\n",
       "    }\n",
       "</style>\n",
       "<table border=\"1\" class=\"dataframe\">\n",
       "  <thead>\n",
       "    <tr style=\"text-align: right;\">\n",
       "      <th></th>\n",
       "      <th>Ryan</th>\n",
       "      <th>Elisa</th>\n",
       "      <th>Martine</th>\n",
       "      <th>Robert</th>\n",
       "    </tr>\n",
       "  </thead>\n",
       "  <tbody>\n",
       "    <tr>\n",
       "      <th>0</th>\n",
       "      <td>18</td>\n",
       "      <td>20</td>\n",
       "      <td>20</td>\n",
       "      <td>14</td>\n",
       "    </tr>\n",
       "    <tr>\n",
       "      <th>1</th>\n",
       "      <td>16</td>\n",
       "      <td>12</td>\n",
       "      <td>20</td>\n",
       "      <td>15</td>\n",
       "    </tr>\n",
       "  </tbody>\n",
       "</table>\n",
       "</div>"
      ],
      "text/plain": [
       "   Ryan  Elisa  Martine  Robert\n",
       "0    18     20       20      14\n",
       "1    16     12       20      15"
      ]
     },
     "execution_count": 19,
     "metadata": {},
     "output_type": "execute_result"
    }
   ],
   "source": [
    "import pandas as pd\n",
    "\n",
    "df= pd.DataFrame(notes)\n",
    "df\n"
   ]
  },
  {
   "cell_type": "code",
   "execution_count": 20,
   "id": "db0956c8",
   "metadata": {},
   "outputs": [
    {
     "data": {
      "text/html": [
       "<div>\n",
       "<style scoped>\n",
       "    .dataframe tbody tr th:only-of-type {\n",
       "        vertical-align: middle;\n",
       "    }\n",
       "\n",
       "    .dataframe tbody tr th {\n",
       "        vertical-align: top;\n",
       "    }\n",
       "\n",
       "    .dataframe thead th {\n",
       "        text-align: right;\n",
       "    }\n",
       "</style>\n",
       "<table border=\"1\" class=\"dataframe\">\n",
       "  <thead>\n",
       "    <tr style=\"text-align: right;\">\n",
       "      <th></th>\n",
       "      <th>0</th>\n",
       "      <th>1</th>\n",
       "    </tr>\n",
       "  </thead>\n",
       "  <tbody>\n",
       "    <tr>\n",
       "      <th>Ryan</th>\n",
       "      <td>18</td>\n",
       "      <td>16</td>\n",
       "    </tr>\n",
       "    <tr>\n",
       "      <th>Elisa</th>\n",
       "      <td>20</td>\n",
       "      <td>12</td>\n",
       "    </tr>\n",
       "    <tr>\n",
       "      <th>Martine</th>\n",
       "      <td>20</td>\n",
       "      <td>20</td>\n",
       "    </tr>\n",
       "    <tr>\n",
       "      <th>Robert</th>\n",
       "      <td>14</td>\n",
       "      <td>15</td>\n",
       "    </tr>\n",
       "  </tbody>\n",
       "</table>\n",
       "</div>"
      ],
      "text/plain": [
       "          0   1\n",
       "Ryan     18  16\n",
       "Elisa    20  12\n",
       "Martine  20  20\n",
       "Robert   14  15"
      ]
     },
     "execution_count": 20,
     "metadata": {},
     "output_type": "execute_result"
    }
   ],
   "source": [
    "df=df.T\n",
    "df"
   ]
  },
  {
   "cell_type": "code",
   "execution_count": 21,
   "id": "39ede210",
   "metadata": {},
   "outputs": [
    {
     "data": {
      "text/html": [
       "<div>\n",
       "<style scoped>\n",
       "    .dataframe tbody tr th:only-of-type {\n",
       "        vertical-align: middle;\n",
       "    }\n",
       "\n",
       "    .dataframe tbody tr th {\n",
       "        vertical-align: top;\n",
       "    }\n",
       "\n",
       "    .dataframe thead th {\n",
       "        text-align: right;\n",
       "    }\n",
       "</style>\n",
       "<table border=\"1\" class=\"dataframe\">\n",
       "  <thead>\n",
       "    <tr style=\"text-align: right;\">\n",
       "      <th></th>\n",
       "      <th>Maths</th>\n",
       "      <th>Francais</th>\n",
       "    </tr>\n",
       "  </thead>\n",
       "  <tbody>\n",
       "    <tr>\n",
       "      <th>Ryan</th>\n",
       "      <td>18</td>\n",
       "      <td>16</td>\n",
       "    </tr>\n",
       "    <tr>\n",
       "      <th>Elisa</th>\n",
       "      <td>20</td>\n",
       "      <td>12</td>\n",
       "    </tr>\n",
       "    <tr>\n",
       "      <th>Martine</th>\n",
       "      <td>20</td>\n",
       "      <td>20</td>\n",
       "    </tr>\n",
       "    <tr>\n",
       "      <th>Robert</th>\n",
       "      <td>14</td>\n",
       "      <td>15</td>\n",
       "    </tr>\n",
       "  </tbody>\n",
       "</table>\n",
       "</div>"
      ],
      "text/plain": [
       "         Maths  Francais\n",
       "Ryan        18        16\n",
       "Elisa       20        12\n",
       "Martine     20        20\n",
       "Robert      14        15"
      ]
     },
     "execution_count": 21,
     "metadata": {},
     "output_type": "execute_result"
    }
   ],
   "source": [
    "df.columns= [\"Maths\",\"Francais\"]\n",
    "df"
   ]
  },
  {
   "cell_type": "code",
   "execution_count": 22,
   "id": "8b6e4580",
   "metadata": {},
   "outputs": [
    {
     "data": {
      "text/plain": [
       "Index(['Ryan', 'Elisa', 'Martine', 'Robert'], dtype='object')"
      ]
     },
     "execution_count": 22,
     "metadata": {},
     "output_type": "execute_result"
    }
   ],
   "source": [
    "df.index"
   ]
  },
  {
   "cell_type": "code",
   "execution_count": 23,
   "id": "184c3a06",
   "metadata": {},
   "outputs": [
    {
     "data": {
      "text/plain": [
       "['Ryan', 'Maryse', 'Antoine', 'Elyse', 'Stecy']"
      ]
     },
     "execution_count": 23,
     "metadata": {},
     "output_type": "execute_result"
    }
   ],
   "source": [
    "peoples= ['Ryan', 'Maryse', 'Antoine', 'Elyse', 'Stecy']\n",
    "peoples"
   ]
  },
  {
   "cell_type": "code",
   "execution_count": 24,
   "id": "6df051ca",
   "metadata": {},
   "outputs": [
    {
     "data": {
      "text/plain": [
       "5"
      ]
     },
     "execution_count": 24,
     "metadata": {},
     "output_type": "execute_result"
    }
   ],
   "source": [
    "len(peoples)"
   ]
  },
  {
   "cell_type": "code",
   "execution_count": 25,
   "id": "18cf03d5",
   "metadata": {},
   "outputs": [
    {
     "data": {
      "text/plain": [
       "[29, 30, 34, 36, 19]"
      ]
     },
     "execution_count": 25,
     "metadata": {},
     "output_type": "execute_result"
    }
   ],
   "source": [
    "ages=[29, 30, 34, 36 , 19]\n",
    "ages"
   ]
  },
  {
   "cell_type": "code",
   "execution_count": 26,
   "id": "076e1d36",
   "metadata": {},
   "outputs": [
    {
     "data": {
      "text/plain": [
       "5"
      ]
     },
     "execution_count": 26,
     "metadata": {},
     "output_type": "execute_result"
    }
   ],
   "source": [
    "len(ages)"
   ]
  },
  {
   "cell_type": "code",
   "execution_count": 27,
   "id": "4ac5ddd2",
   "metadata": {},
   "outputs": [
    {
     "name": "stdout",
     "output_type": "stream",
     "text": [
      "Ryan 29\n",
      "Maryse 30\n",
      "Antoine 34\n",
      "Elyse 36\n",
      "Stecy 19\n"
     ]
    }
   ],
   "source": [
    "for i in range(len(ages)):\n",
    "    print( peoples[i]  , ages[i] )\n",
    "    "
   ]
  },
  {
   "cell_type": "code",
   "execution_count": null,
   "id": "0e3b5ca4",
   "metadata": {},
   "outputs": [],
   "source": [
    "F20 remise fixe égal 20$\n",
    "p30  rémise égal à 30% du tolal du panier\n",
    "P50 rémise égal à 30% du tolal du panierr\n",
    "F15 rémise fixe égal à 15$ "
   ]
  },
  {
   "cell_type": "code",
   "execution_count": 33,
   "id": "5777c661",
   "metadata": {},
   "outputs": [
    {
     "data": {
      "text/plain": [
       "[{'id': 1, 'total_panier': 200, 'coupon_code': 'F20'},\n",
       " {'id': 2, 'total_panier': 150, 'coupon_code': 'P30'},\n",
       " {'id': 3, 'total_panier': 100, 'coupon_code': 'P50'},\n",
       " {'id': 4, 'total_panier': 110, 'coupon_code': 'F15'}]"
      ]
     },
     "execution_count": 33,
     "metadata": {},
     "output_type": "execute_result"
    }
   ],
   "source": [
    "clients = [\n",
    "    \n",
    "           {'id':1, 'total_panier': 200, 'coupon_code':'F20'},\n",
    "           {'id':2 ,'total_panier': 150, 'coupon_code': 'P30'},\n",
    "           {'id':3 ,'total_panier': 100, 'coupon_code': 'P50'},   \n",
    "           {'id':4 ,'total_panier':110, 'coupon_code': 'F15' },\n",
    "           \n",
    "           ]\n",
    "clients"
   ]
  },
  {
   "cell_type": "code",
   "execution_count": 35,
   "id": "869a0593",
   "metadata": {},
   "outputs": [],
   "source": [
    "for client in clients:\n",
    "    if client['coupon_code'] == 'F20':\n",
    "        client['remise'] = 20\n",
    "    elif client['coupon_code'] == 'P30':\n",
    "        client['remise']= 0.3 * client['total_panier']   \n",
    "    elif client['coupon_code'] == 'P50':\n",
    "        client['remise'] = 0.3 *client['total_panier'] \n",
    "        \n",
    "    else:\n",
    "        client['remise']= 15"
   ]
  },
  {
   "cell_type": "code",
   "execution_count": 36,
   "id": "89b88f63",
   "metadata": {},
   "outputs": [
    {
     "name": "stdout",
     "output_type": "stream",
     "text": [
      "1 200 F20 20\n",
      "2 150 P30 45.0\n",
      "3 100 P50 30.0\n",
      "4 110 F15 15\n"
     ]
    }
   ],
   "source": [
    "for client in clients:\n",
    "    print(client['id'], client['total_panier'], client['coupon_code'], client['remise'] )   "
   ]
  },
  {
   "cell_type": "code",
   "execution_count": null,
   "id": "669eb85e",
   "metadata": {},
   "outputs": [],
   "source": []
  }
 ],
 "metadata": {
  "kernelspec": {
   "display_name": "Python 3 (ipykernel)",
   "language": "python",
   "name": "python3"
  },
  "language_info": {
   "codemirror_mode": {
    "name": "ipython",
    "version": 3
   },
   "file_extension": ".py",
   "mimetype": "text/x-python",
   "name": "python",
   "nbconvert_exporter": "python",
   "pygments_lexer": "ipython3",
   "version": "3.9.13"
  }
 },
 "nbformat": 4,
 "nbformat_minor": 5
}
