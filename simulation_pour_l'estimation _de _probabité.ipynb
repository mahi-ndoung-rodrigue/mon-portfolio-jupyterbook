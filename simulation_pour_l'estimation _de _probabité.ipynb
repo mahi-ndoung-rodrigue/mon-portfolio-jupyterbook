{
 "cells": [
  {
   "cell_type": "markdown",
   "id": "a8971bd4-839f-4b4f-a74a-6377205fc0b1",
   "metadata": {},
   "source": [
    "# UTILISATION DES SIMULATIONS POUR L'ESTIMATION DE PROBABILITES\n",
    "\n",
    "\n",
    "  \n",
    "  \n",
    "                                           par Rodriguez MAHI "
   ]
  },
  {
   "cell_type": "code",
   "execution_count": 2,
   "id": "224f780f-1cd0-4456-ac27-ea8d3d671e16",
   "metadata": {},
   "outputs": [],
   "source": [
    "# IMPORTATION DES OUTILS\n",
    "import pandas as pd\n",
    "import numpy as np"
   ]
  },
  {
   "cell_type": "markdown",
   "id": "51b926fe-adef-4ded-9f93-16ca58dde052",
   "metadata": {},
   "source": [
    "La simulation est une technique qui permet de modéliser des systèmes plus ou moins complexes du monde réel.Elle est utilisée dans plusieurs domaines tels que la physique,la biologie, la finance et l'intélligence Artificielle, etc.Les simulations nous donnent une solution approximative à un problème.\n",
    "\n",
    "Pour effectuer des simulations vous devez effectuer les étapes suivantes:\n",
    "\n",
    "- définir l'ensemble de tous les résultats possibles associés à une variable aléatoire;\n",
    "- déterminer comment simuler un résultat aléatoire;\n",
    "- déterminer la régle du succès;\n",
    "- échantillonner à plusieurs reprises et compter les résultats;\n",
    "- calculer la fréquence de succès comme une estimation de probabilité."
   ]
  },
  {
   "cell_type": "markdown",
   "id": "48cd0595-953f-4170-a8b1-7924bf81c4e4",
   "metadata": {},
   "source": [
    "Exemple 1:\n",
    "Soit une expérience consistant à lancer 5 fois une pièce de monnaie.Il y'a 50% de chance d'obtenir pile et 50% de chance d'obtenir de face aucours d'un lancé.Un lancé de pèce de monnaies estune épreuve de bernoulli(une épreuve de bernoulli est une expérience aléatoire qui a deux issues possibels: succès et échec).Ici, nous définissons l'évenement \"obtenir pile\" comme étant le succès et l'évenement \"obtenir face \" comme étant l'échec.\n",
    "\n",
    "L'objectif est de repéter N fois l'expérience E et de calculer la probabilité d'obtenir 5 piles sur les 5 lancers.\n",
    "\n",
    "Pour réaliser cette expérience, nous utiliserons le module random de numpy.Nous allons générer des nombres réel pseudo-aléatoires compris entre 0 et 1.Si le nombre généré est inférieur à 0.5 on dira qu'on a \"pile\".Dans le cas contraire on dira qu'on a face."
   ]
  },
  {
   "cell_type": "code",
   "execution_count": 3,
   "id": "c8288302-f421-44d6-bd28-2fc95b412146",
   "metadata": {},
   "outputs": [],
   "source": [
    "# Code pour s'assurer de la reproductibilité des résultats\n",
    "np.random.seed(111)\n"
   ]
  },
  {
   "cell_type": "markdown",
   "id": "1d284693-ad73-4e75-9778-7521d8bb252d",
   "metadata": {},
   "source": [
    "np.random.seed(111) permet de s'assurer de la reproductibilité du code.sans cette, ligne de codeon obtiendrait différents nombres à chaque exécution du code."
   ]
  },
  {
   "cell_type": "code",
   "execution_count": 4,
   "id": "0be703cd-517e-429e-8e8d-01258aa7744f",
   "metadata": {},
   "outputs": [
    {
     "name": "stdout",
     "output_type": "stream",
     "text": [
      "[0.61217018 0.16906975 0.43605902 0.76926247 0.2953253 ]\n",
      "3\n"
     ]
    }
   ],
   "source": [
    "# Réalisation d'une expérience E\n",
    "outcomes= np.random.random(size=5)\n",
    "\n",
    "print(outcomes)\n",
    "\n",
    "# Nombre de 'pile' obtenu lors de cette expérience\n",
    "\n",
    "print(np.sum(outcomes < 0.5))"
   ]
  },
  {
   "cell_type": "code",
   "execution_count": 5,
   "id": "910436ee-bd21-4b0b-b617-f6140c622571",
   "metadata": {},
   "outputs": [
    {
     "name": "stdout",
     "output_type": "stream",
     "text": [
      "La probabilité d'obtenir 5 piles sur les 5 lancers: 3.1416 %\n"
     ]
    }
   ],
   "source": [
    "# Simulation de N Expérience E\n",
    "\n",
    "N=1000000 # Nombre de répétition de l'expérience\n",
    "    \n",
    "n_all_piles=0    # Initialisation du nombre total de foisou on a eu 5 pile\n",
    "    \n",
    "      #Pendant une expérience durant les  N répétition\n",
    "        \n",
    "for _ in  range(N):\n",
    "    results = np.random.random(size=5)\n",
    "    piles= results < 0.5\n",
    "    n_piles= np.sum(piles)\n",
    "    \n",
    "    if n_piles == 5:\n",
    "        n_all_piles=n_all_piles + 1\n",
    "    \n",
    "prob_all_piles= n_all_piles/ N\n",
    "\n",
    "print (\"La probabilité d'obtenir 5 piles sur les 5 lancers:\", prob_all_piles*100, \"%\")\n",
    "        \n",
    "        "
   ]
  },
  {
   "cell_type": "markdown",
   "id": "5af73756-77be-4783-b9a1-35215c10b3c6",
   "metadata": {},
   "source": [
    "Ainsi,la probabité l'obtention de 5 piles sur les 5 lancers est faible."
   ]
  },
  {
   "cell_type": "markdown",
   "id": "07abd1e0-355e-4729-9207-dba453118865",
   "metadata": {},
   "source": [
    "Exemple 2:\n",
    "Vous lancez deux dés numérotés chacun de 1 à 6.Tous les numéros ont la même probabilité d'apparition(distribution uniforme).Vous gagnez si les deux dès affichent le même numéro et vous perdez dans le cas contraire.Après avoir réalisé le jeu une fois,nous allons le repéter plusieurs fois afin d'estimer la probabilité de gagner à ce jeu."
   ]
  },
  {
   "cell_type": "markdown",
   "id": "c30c50fc-93a7-4380-ab03-1d767b2b8044",
   "metadata": {},
   "source": [
    "le succès c'est obtenir:<<pour chacun des dés le numèro après chaque lancé>>"
   ]
  },
  {
   "cell_type": "code",
   "execution_count": 29,
   "id": "42344426-279c-4c8d-bb0d-729a21d12e58",
   "metadata": {},
   "outputs": [
    {
     "data": {
      "text/plain": [
       "array([3, 3])"
      ]
     },
     "execution_count": 29,
     "metadata": {},
     "output_type": "execute_result"
    }
   ],
   "source": [
    "# Jouons une fois le jeu de  dè\n",
    "\n",
    "de, probs, n_de=[1,2,3,4,5,6], [1/6,1/6,1/6,1/6,1/6,1/6],2\n",
    "\n",
    "outcomes=np.random.choice(de, size=n_de, p=probs)\n",
    "\n",
    "outcomes"
   ]
  },
  {
   "cell_type": "code",
   "execution_count": 30,
   "id": "7cacadca-ee62-437a-a716-046db9d6689f",
   "metadata": {},
   "outputs": [
    {
     "name": "stdout",
     "output_type": "stream",
     "text": [
      "Les deux dès affichent 3 et 3 donc on a gagné\n"
     ]
    }
   ],
   "source": [
    "# Condition pour gagner ou perdre\n",
    "\n",
    "if outcomes[0] == outcomes[1]: # si les 2 numéros sont les mêmes\n",
    "    issue= \"gagné\"             # Alors issue du  jeu est gagné\n",
    "else:\n",
    "    issue=\"perdu\"              # Dans le cas contraire c'est perdu\n",
    "print(\"Les deux dès affichent\", outcomes[0], \"et\" ,outcomes[1], \"donc on a\", issue )\n"
   ]
  },
  {
   "cell_type": "code",
   "execution_count": 31,
   "id": "42715fbf-e37e-4d3c-aa96-66fd958694f6",
   "metadata": {},
   "outputs": [
    {
     "name": "stdout",
     "output_type": "stream",
     "text": [
      "La probabilité de gagner à ce jeu est de: 16.6312 %\n"
     ]
    }
   ],
   "source": [
    "# Jouons plusiuer fois lejeu de dé\n",
    "\n",
    "N=1000000 # Nombres de jeux\n",
    "\n",
    "n_wins=0  # Initialisation du nombre de fois ou on a gagné\n",
    "for i in range(N): \n",
    "    outcomes=np.random.choice(de, size=n_de, p=probs)\n",
    "    \n",
    "    if outcomes[0] == outcomes[1]:\n",
    "        \n",
    "        n_wins=n_wins + 1 # nombre de fois où il agagné +1\n",
    "        \n",
    "prob_wins= n_wins/N # la probabilité que les 2 numéros sont les mêmes\n",
    "\n",
    "print(\"La probabilité de gagner à ce jeu est de:\",prob_wins*100,\"%\")"
   ]
  },
  {
   "cell_type": "markdown",
   "id": "d185fd37-4314-4917-9cc8-eccf42f08110",
   "metadata": {},
   "source": [
    "Excellent!La simulation est un outil puissant pour estimer les statitiques."
   ]
  },
  {
   "cell_type": "markdown",
   "id": "87c1d57d-1941-4a26-a436-252e5e2138b2",
   "metadata": {},
   "source": [
    "Cette section vous a permise de développer votre capacité à pense de manière  probabiliste.Par ailleurs vous avez aussi appris différents outils de python qui vous aideront dans la résolution de problème d'inférence statistique.\n",
    "\n"
   ]
  },
  {
   "cell_type": "code",
   "execution_count": null,
   "id": "7ade84f1-638e-444b-ae21-9a2377ff294f",
   "metadata": {},
   "outputs": [],
   "source": []
  },
  {
   "cell_type": "code",
   "execution_count": null,
   "id": "45d5dafd-c13d-433e-9f2f-cc4a55a4554c",
   "metadata": {},
   "outputs": [],
   "source": []
  },
  {
   "cell_type": "code",
   "execution_count": null,
   "id": "0a15d745-f02d-4495-b1c4-b963b704f221",
   "metadata": {},
   "outputs": [],
   "source": []
  },
  {
   "cell_type": "code",
   "execution_count": null,
   "id": "146670db-c1a4-43cf-abd6-68688eb7f8fb",
   "metadata": {},
   "outputs": [],
   "source": []
  },
  {
   "cell_type": "code",
   "execution_count": null,
   "id": "ed38c442-8aa6-4c8d-b93c-591ee3721ad7",
   "metadata": {},
   "outputs": [],
   "source": []
  },
  {
   "cell_type": "code",
   "execution_count": null,
   "id": "109e8b75-dc6e-4301-bb2b-7466567f3a04",
   "metadata": {},
   "outputs": [],
   "source": []
  },
  {
   "cell_type": "code",
   "execution_count": null,
   "id": "820316f4-337d-45bb-960c-e47812f1c505",
   "metadata": {},
   "outputs": [],
   "source": []
  },
  {
   "cell_type": "code",
   "execution_count": null,
   "id": "90fd5943-dc3f-4631-8789-3f68cc30961f",
   "metadata": {},
   "outputs": [],
   "source": []
  },
  {
   "cell_type": "code",
   "execution_count": null,
   "id": "72865224-f7e7-4895-9882-6274eb6fe1f0",
   "metadata": {},
   "outputs": [],
   "source": []
  },
  {
   "cell_type": "code",
   "execution_count": null,
   "id": "f19f1a7c-f304-4739-8ee2-483c397f6c55",
   "metadata": {},
   "outputs": [],
   "source": []
  },
  {
   "cell_type": "code",
   "execution_count": null,
   "id": "13e05b2f-7d59-4f7d-8c26-8d18e5040528",
   "metadata": {},
   "outputs": [],
   "source": []
  },
  {
   "cell_type": "code",
   "execution_count": null,
   "id": "cec1c23a-3c7b-430a-8677-309ed08b97a5",
   "metadata": {},
   "outputs": [],
   "source": []
  },
  {
   "cell_type": "code",
   "execution_count": null,
   "id": "afd5793e-c961-4a34-a27a-cd39cc362d9c",
   "metadata": {},
   "outputs": [],
   "source": []
  },
  {
   "cell_type": "code",
   "execution_count": null,
   "id": "e055bf8e-1fcd-42a1-933a-5d3cf1b0b65e",
   "metadata": {},
   "outputs": [],
   "source": []
  }
 ],
 "metadata": {
  "kernelspec": {
   "display_name": "Python 3 (ipykernel)",
   "language": "python",
   "name": "python3"
  },
  "language_info": {
   "codemirror_mode": {
    "name": "ipython",
    "version": 3
   },
   "file_extension": ".py",
   "mimetype": "text/x-python",
   "name": "python",
   "nbconvert_exporter": "python",
   "pygments_lexer": "ipython3",
   "version": "3.9.13"
  }
 },
 "nbformat": 4,
 "nbformat_minor": 5
}
