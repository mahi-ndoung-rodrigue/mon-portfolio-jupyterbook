{
 "cells": [
  {
   "cell_type": "code",
   "execution_count": 26,
   "id": "72adabdb",
   "metadata": {},
   "outputs": [
    {
     "name": "stdout",
     "output_type": "stream",
     "text": [
      "san francisco\n"
     ]
    }
   ],
   "source": [
    "city= 'san francisco'\n",
    "print(city)"
   ]
  },
  {
   "cell_type": "code",
   "execution_count": 28,
   "id": "8c4181b7",
   "metadata": {},
   "outputs": [
    {
     "data": {
      "text/plain": [
       "'san'"
      ]
     },
     "execution_count": 28,
     "metadata": {},
     "output_type": "execute_result"
    }
   ],
   "source": [
    "city[:3]"
   ]
  },
  {
   "cell_type": "code",
   "execution_count": 30,
   "id": "a6203bc8",
   "metadata": {},
   "outputs": [
    {
     "data": {
      "text/plain": [
       "'aquitaine'"
      ]
     },
     "execution_count": 30,
     "metadata": {},
     "output_type": "execute_result"
    }
   ],
   "source": [
    "region=\"aquitaine\"\n",
    "region"
   ]
  },
  {
   "cell_type": "code",
   "execution_count": 31,
   "id": "13ad5fd4",
   "metadata": {},
   "outputs": [
    {
     "data": {
      "text/plain": [
       "'quit'"
      ]
     },
     "execution_count": 31,
     "metadata": {},
     "output_type": "execute_result"
    }
   ],
   "source": [
    "region[1:5]"
   ]
  },
  {
   "cell_type": "code",
   "execution_count": 33,
   "id": "da480fb4",
   "metadata": {},
   "outputs": [
    {
     "name": "stdout",
     "output_type": "stream",
     "text": [
      "aquitaine\n"
     ]
    }
   ],
   "source": [
    "region='aquitaine'\n",
    "print(region)"
   ]
  },
  {
   "cell_type": "code",
   "execution_count": 35,
   "id": "88b5907c",
   "metadata": {},
   "outputs": [
    {
     "data": {
      "text/plain": [
       "'taine'"
      ]
     },
     "execution_count": 35,
     "metadata": {},
     "output_type": "execute_result"
    }
   ],
   "source": [
    "region[4:]"
   ]
  },
  {
   "cell_type": "code",
   "execution_count": null,
   "id": "466d079c",
   "metadata": {},
   "outputs": [],
   "source": []
  }
 ],
 "metadata": {
  "kernelspec": {
   "display_name": "Python 3 (ipykernel)",
   "language": "python",
   "name": "python3"
  },
  "language_info": {
   "codemirror_mode": {
    "name": "ipython",
    "version": 3
   },
   "file_extension": ".py",
   "mimetype": "text/x-python",
   "name": "python",
   "nbconvert_exporter": "python",
   "pygments_lexer": "ipython3",
   "version": "3.9.13"
  }
 },
 "nbformat": 4,
 "nbformat_minor": 5
}
