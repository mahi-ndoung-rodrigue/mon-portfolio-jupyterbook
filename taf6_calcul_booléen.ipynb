{
 "cells": [
  {
   "cell_type": "code",
   "execution_count": 1,
   "id": "417ed127",
   "metadata": {},
   "outputs": [
    {
     "data": {
      "text/plain": [
       "8"
      ]
     },
     "execution_count": 1,
     "metadata": {},
     "output_type": "execute_result"
    }
   ],
   "source": [
    "10 - 8 % 3"
   ]
  },
  {
   "cell_type": "code",
   "execution_count": 2,
   "id": "b64facc5",
   "metadata": {},
   "outputs": [
    {
     "name": "stdout",
     "output_type": "stream",
     "text": [
      "8\n"
     ]
    },
    {
     "data": {
      "text/plain": [
       "12"
      ]
     },
     "execution_count": 2,
     "metadata": {},
     "output_type": "execute_result"
    }
   ],
   "source": [
    "y , z = 8 , 12\n",
    "print(y)\n",
    "z"
   ]
  },
  {
   "cell_type": "code",
   "execution_count": 3,
   "id": "6523d8f1",
   "metadata": {},
   "outputs": [
    {
     "data": {
      "text/plain": [
       "'bERT'"
      ]
     },
     "execution_count": 3,
     "metadata": {},
     "output_type": "execute_result"
    }
   ],
   "source": [
    "my_name = 'bert'\n",
    "my_name .replace('ert' , 'ERT')"
   ]
  },
  {
   "cell_type": "code",
   "execution_count": 4,
   "id": "7c94d5da",
   "metadata": {},
   "outputs": [
    {
     "data": {
      "text/plain": [
       "11.001000000000001"
      ]
     },
     "execution_count": 4,
     "metadata": {},
     "output_type": "execute_result"
    }
   ],
   "source": [
    "int(5.999) + float(6.001)"
   ]
  },
  {
   "cell_type": "code",
   "execution_count": 5,
   "id": "f5b3b357",
   "metadata": {},
   "outputs": [
    {
     "name": "stdout",
     "output_type": "stream",
     "text": [
      "true\n",
      "false\n"
     ]
    }
   ],
   "source": [
    "a , b = 'true' , 'false'\n",
    "print(a)\n",
    "print(b)"
   ]
  },
  {
   "cell_type": "code",
   "execution_count": 6,
   "id": "6e76ccd0",
   "metadata": {},
   "outputs": [
    {
     "name": "stdout",
     "output_type": "stream",
     "text": [
      "<class 'bool'>\n",
      "<class 'bool'>\n"
     ]
    }
   ],
   "source": [
    "True\n",
    "False\n",
    "print(type(True))\n",
    "print(type(False))"
   ]
  },
  {
   "cell_type": "code",
   "execution_count": 7,
   "id": "6809a505",
   "metadata": {},
   "outputs": [
    {
     "name": "stdout",
     "output_type": "stream",
     "text": [
      " Vrai and Vrai : True\n"
     ]
    }
   ],
   "source": [
    "print(\" Vrai and Vrai :\" ,True and True)"
   ]
  },
  {
   "cell_type": "code",
   "execution_count": 8,
   "id": "67500332",
   "metadata": {},
   "outputs": [
    {
     "name": "stdout",
     "output_type": "stream",
     "text": [
      "Faux et Vrai : False\n"
     ]
    }
   ],
   "source": [
    "print(\"Faux et Vrai :\" , False and True)"
   ]
  },
  {
   "cell_type": "code",
   "execution_count": 9,
   "id": "3460b5d1",
   "metadata": {},
   "outputs": [
    {
     "name": "stdout",
     "output_type": "stream",
     "text": [
      "Vrai ou Vrai: True\n"
     ]
    }
   ],
   "source": [
    "print(\"Vrai ou Vrai:\" , True or True)"
   ]
  },
  {
   "cell_type": "code",
   "execution_count": 10,
   "id": "437d3753",
   "metadata": {},
   "outputs": [
    {
     "name": "stdout",
     "output_type": "stream",
     "text": [
      "Vrai ou Faux : True\n"
     ]
    }
   ],
   "source": [
    "print(\"Vrai ou Faux :\" , True or False)"
   ]
  },
  {
   "cell_type": "code",
   "execution_count": 11,
   "id": "195ba790",
   "metadata": {},
   "outputs": [
    {
     "name": "stdout",
     "output_type": "stream",
     "text": [
      " Faux ou Vrai : True\n"
     ]
    }
   ],
   "source": [
    "print(\" Faux ou Vrai :\" , False or True)"
   ]
  },
  {
   "cell_type": "code",
   "execution_count": 12,
   "id": "df775d5d",
   "metadata": {},
   "outputs": [
    {
     "name": "stdout",
     "output_type": "stream",
     "text": [
      "Faux ou Faux : False\n"
     ]
    }
   ],
   "source": [
    "print(\"Faux ou Faux :\" , False or False )"
   ]
  },
  {
   "cell_type": "code",
   "execution_count": 13,
   "id": "c03bcf91",
   "metadata": {},
   "outputs": [
    {
     "name": "stdout",
     "output_type": "stream",
     "text": [
      " Négation de vrai : False\n"
     ]
    }
   ],
   "source": [
    "print(\" Négation de vrai :\" , not True )"
   ]
  },
  {
   "cell_type": "code",
   "execution_count": 14,
   "id": "e47f5ca7",
   "metadata": {},
   "outputs": [
    {
     "name": "stdout",
     "output_type": "stream",
     "text": [
      "Négation de faux : True\n"
     ]
    }
   ],
   "source": [
    "print (\"Négation de faux :\" , not False )"
   ]
  },
  {
   "cell_type": "code",
   "execution_count": 15,
   "id": "96e3fd0b",
   "metadata": {},
   "outputs": [],
   "source": [
    "majeur= True\n",
    "senior= False"
   ]
  },
  {
   "cell_type": "code",
   "execution_count": 16,
   "id": "d7707691",
   "metadata": {},
   "outputs": [
    {
     "data": {
      "text/plain": [
       "False"
      ]
     },
     "execution_count": 16,
     "metadata": {},
     "output_type": "execute_result"
    }
   ],
   "source": [
    "majeur and senior"
   ]
  },
  {
   "cell_type": "code",
   "execution_count": 17,
   "id": "4a95a244",
   "metadata": {},
   "outputs": [
    {
     "data": {
      "text/plain": [
       "False"
      ]
     },
     "execution_count": 17,
     "metadata": {},
     "output_type": "execute_result"
    }
   ],
   "source": [
    "not majeur"
   ]
  },
  {
   "cell_type": "code",
   "execution_count": 18,
   "id": "3ed7c7a4",
   "metadata": {},
   "outputs": [
    {
     "data": {
      "text/plain": [
       "True"
      ]
     },
     "execution_count": 18,
     "metadata": {},
     "output_type": "execute_result"
    }
   ],
   "source": [
    "not senior"
   ]
  },
  {
   "cell_type": "code",
   "execution_count": 19,
   "id": "5fc1b034",
   "metadata": {},
   "outputs": [
    {
     "data": {
      "text/plain": [
       "False"
      ]
     },
     "execution_count": 19,
     "metadata": {},
     "output_type": "execute_result"
    }
   ],
   "source": [
    "not majeur and not senior"
   ]
  },
  {
   "cell_type": "code",
   "execution_count": 20,
   "id": "d368860a",
   "metadata": {},
   "outputs": [
    {
     "data": {
      "text/plain": [
       "True"
      ]
     },
     "execution_count": 20,
     "metadata": {},
     "output_type": "execute_result"
    }
   ],
   "source": [
    "not majeur or not senior"
   ]
  },
  {
   "cell_type": "code",
   "execution_count": 21,
   "id": "2e041d33",
   "metadata": {},
   "outputs": [
    {
     "name": "stdout",
     "output_type": "stream",
     "text": [
      "Est-ce que Z est équivalent à Y ? : True\n",
      " Est- ce que b est équivalent à z ? : False\n",
      "Est-ceque y est inférieur à b ? : True\n",
      "Est-ce que 8 est égal à '8' ? : False\n",
      "Est-ce 'parakou' est 'supérieur' à libreville ? : True\n"
     ]
    }
   ],
   "source": [
    "z= 5\n",
    "y= 5.0\n",
    "b= 1000\n",
    "print(\"Est-ce que Z est équivalent à Y ? :\", z == y)\n",
    "print(\" Est- ce que b est équivalent à z ? :\", b == z)\n",
    "print(\"Est-ceque y est inférieur à b ? :\", y < b)\n",
    "print(\"Est-ce que 8 est égal à '8' ? :\", 8 =='8') \n",
    "print(\"Est-ce 'parakou' est 'supérieur' à libreville ? :\" , 'parakou'> 'libreville')\n"
   ]
  },
  {
   "cell_type": "code",
   "execution_count": null,
   "id": "d1ce78d9",
   "metadata": {},
   "outputs": [],
   "source": [
    "print('quel est votre age ?' )\n",
    "age= int(input())\n",
    "print(' age est inférieur à 13 ?' , age < 13)"
   ]
  },
  {
   "cell_type": "code",
   "execution_count": null,
   "id": "603f21f7",
   "metadata": {},
   "outputs": [],
   "source": []
  }
 ],
 "metadata": {
  "kernelspec": {
   "display_name": "Python 3 (ipykernel)",
   "language": "python",
   "name": "python3"
  },
  "language_info": {
   "codemirror_mode": {
    "name": "ipython",
    "version": 3
   },
   "file_extension": ".py",
   "mimetype": "text/x-python",
   "name": "python",
   "nbconvert_exporter": "python",
   "pygments_lexer": "ipython3",
   "version": "3.9.13"
  }
 },
 "nbformat": 4,
 "nbformat_minor": 5
}
