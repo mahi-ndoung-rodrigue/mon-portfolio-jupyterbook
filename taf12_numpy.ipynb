{
 "cells": [
  {
   "cell_type": "code",
   "execution_count": 1,
   "id": "965d66e8",
   "metadata": {},
   "outputs": [],
   "source": [
    "import numpy as np"
   ]
  },
  {
   "cell_type": "code",
   "execution_count": 3,
   "id": "6c3b633a",
   "metadata": {},
   "outputs": [
    {
     "data": {
      "text/plain": [
       "array([1, 2, 3, 4])"
      ]
     },
     "execution_count": 3,
     "metadata": {},
     "output_type": "execute_result"
    }
   ],
   "source": [
    "v = np.array([1,2,3,4])\n",
    "v"
   ]
  },
  {
   "cell_type": "markdown",
   "id": "a0fdbde2",
   "metadata": {},
   "source": [
    "v est un vecteur de dimension 1"
   ]
  },
  {
   "cell_type": "code",
   "execution_count": 4,
   "id": "83b07ff9",
   "metadata": {},
   "outputs": [
    {
     "data": {
      "text/plain": [
       "numpy.ndarray"
      ]
     },
     "execution_count": 4,
     "metadata": {},
     "output_type": "execute_result"
    }
   ],
   "source": [
    "type(v)"
   ]
  },
  {
   "cell_type": "code",
   "execution_count": 10,
   "id": "46c03ddd",
   "metadata": {},
   "outputs": [
    {
     "name": "stdout",
     "output_type": "stream",
     "text": [
      "<class 'list'>\n",
      "<class 'list'>\n"
     ]
    }
   ],
   "source": [
    "tailles=[1.83, 1.85, 1.65, 1.90, 1.72, 1.89, 1.59, 1.68]\n",
    "print(type(tailles))\n",
    "\n",
    "poids= [69, 75, 79, 120, 55, 89, 66, 80]\n",
    "print(type(poids))"
   ]
  },
  {
   "cell_type": "markdown",
   "id": "66767d9e",
   "metadata": {},
   "source": [
    "Calculons l'IMC"
   ]
  },
  {
   "cell_type": "code",
   "execution_count": 13,
   "id": "3bb0cd5e",
   "metadata": {},
   "outputs": [
    {
     "name": "stdout",
     "output_type": "stream",
     "text": [
      "<class 'numpy.ndarray'>\n",
      "<class 'numpy.ndarray'>\n"
     ]
    }
   ],
   "source": [
    "tailles_array=np.array(tailles)\n",
    "\n",
    "poids_array=np.array(poids)\n",
    "\n",
    "print(type(tailles_array))\n",
    "print(type(poids_array))"
   ]
  },
  {
   "cell_type": "code",
   "execution_count": 15,
   "id": "94002468",
   "metadata": {},
   "outputs": [
    {
     "data": {
      "text/plain": [
       "array([20.60378035, 21.9138057 , 29.0174472 , 33.24099723, 18.59113034,\n",
       "       24.91531592, 26.10656224, 28.3446712 ])"
      ]
     },
     "execution_count": 15,
     "metadata": {},
     "output_type": "execute_result"
    }
   ],
   "source": [
    "imc = poids_array /tailles_array**2\n",
    "imc"
   ]
  },
  {
   "cell_type": "code",
   "execution_count": 16,
   "id": "c622c866",
   "metadata": {},
   "outputs": [
    {
     "data": {
      "text/plain": [
       "array([False, False,  True,  True, False, False,  True,  True])"
      ]
     },
     "execution_count": 16,
     "metadata": {},
     "output_type": "execute_result"
    }
   ],
   "source": [
    "imc>25"
   ]
  },
  {
   "cell_type": "code",
   "execution_count": 17,
   "id": "e756a986",
   "metadata": {},
   "outputs": [
    {
     "data": {
      "text/plain": [
       "array([29.0174472 , 33.24099723, 26.10656224, 28.3446712 ])"
      ]
     },
     "execution_count": 17,
     "metadata": {},
     "output_type": "execute_result"
    }
   ],
   "source": [
    "imc[imc>25]"
   ]
  },
  {
   "cell_type": "markdown",
   "id": "715e14d6",
   "metadata": {},
   "source": [
    "matrice: est une liste emboitée ou ilbriquée i.e une liste dans une liste"
   ]
  },
  {
   "cell_type": "code",
   "execution_count": 18,
   "id": "44faf163",
   "metadata": {},
   "outputs": [
    {
     "data": {
      "text/plain": [
       "array([[1, 3],\n",
       "       [2, 4]])"
      ]
     },
     "execution_count": 18,
     "metadata": {},
     "output_type": "execute_result"
    }
   ],
   "source": [
    "M= np.array([ [1 ,3],[2,4] ])\n",
    "M"
   ]
  },
  {
   "cell_type": "code",
   "execution_count": 19,
   "id": "1828e6cb",
   "metadata": {},
   "outputs": [
    {
     "data": {
      "text/plain": [
       "numpy.ndarray"
      ]
     },
     "execution_count": 19,
     "metadata": {},
     "output_type": "execute_result"
    }
   ],
   "source": [
    "type(M)"
   ]
  },
  {
   "cell_type": "markdown",
   "id": "4189afe8",
   "metadata": {},
   "source": [
    "creation tb numpy à partir d'une matrice"
   ]
  },
  {
   "cell_type": "code",
   "execution_count": 22,
   "id": "9a9dc586",
   "metadata": {},
   "outputs": [
    {
     "data": {
      "text/plain": [
       "array([[1, 3],\n",
       "       [2, 4]])"
      ]
     },
     "execution_count": 22,
     "metadata": {},
     "output_type": "execute_result"
    }
   ],
   "source": [
    "M = np.array([[1,3],[2,4]])\n",
    "M"
   ]
  },
  {
   "cell_type": "markdown",
   "id": "6150a4ff",
   "metadata": {},
   "source": [
    "on parle de tableau numpy à 02 dimensions"
   ]
  },
  {
   "cell_type": "code",
   "execution_count": 23,
   "id": "ca36941c",
   "metadata": {},
   "outputs": [
    {
     "data": {
      "text/plain": [
       "1"
      ]
     },
     "execution_count": 23,
     "metadata": {},
     "output_type": "execute_result"
    }
   ],
   "source": [
    "M[0,0]"
   ]
  },
  {
   "cell_type": "code",
   "execution_count": 24,
   "id": "c7133de9",
   "metadata": {},
   "outputs": [
    {
     "data": {
      "text/plain": [
       "4"
      ]
     },
     "execution_count": 24,
     "metadata": {},
     "output_type": "execute_result"
    }
   ],
   "source": [
    "M[1,1]"
   ]
  },
  {
   "cell_type": "code",
   "execution_count": 25,
   "id": "a9b7b33c",
   "metadata": {},
   "outputs": [
    {
     "data": {
      "text/plain": [
       "array([3, 4])"
      ]
     },
     "execution_count": 25,
     "metadata": {},
     "output_type": "execute_result"
    }
   ],
   "source": [
    "M[:,1]"
   ]
  },
  {
   "cell_type": "code",
   "execution_count": 26,
   "id": "59d4929e",
   "metadata": {},
   "outputs": [
    {
     "data": {
      "text/plain": [
       "array([1, 2])"
      ]
     },
     "execution_count": 26,
     "metadata": {},
     "output_type": "execute_result"
    }
   ],
   "source": [
    "M[:,0]"
   ]
  },
  {
   "cell_type": "code",
   "execution_count": 27,
   "id": "f779eb02",
   "metadata": {},
   "outputs": [
    {
     "data": {
      "text/plain": [
       "array([1, 3])"
      ]
     },
     "execution_count": 27,
     "metadata": {},
     "output_type": "execute_result"
    }
   ],
   "source": [
    "M[0]"
   ]
  },
  {
   "cell_type": "code",
   "execution_count": 29,
   "id": "01e7b3e1",
   "metadata": {},
   "outputs": [
    {
     "data": {
      "text/plain": [
       "array([[1, 3],\n",
       "       [2, 4]])"
      ]
     },
     "execution_count": 29,
     "metadata": {},
     "output_type": "execute_result"
    }
   ],
   "source": [
    "M[0:]"
   ]
  },
  {
   "cell_type": "markdown",
   "id": "a6fc1a82",
   "metadata": {},
   "source": [
    "creation d'un tableau numpy à deux dimensions"
   ]
  },
  {
   "cell_type": "code",
   "execution_count": 30,
   "id": "1784bff4",
   "metadata": {},
   "outputs": [
    {
     "data": {
      "text/plain": [
       "array([[  1.83,   1.85,   1.65,   1.9 ,   1.72,   1.89,   1.59,   1.68],\n",
       "       [ 69.  ,  75.  ,  79.  , 120.  ,  55.  ,  89.  ,  66.  ,  80.  ]])"
      ]
     },
     "execution_count": 30,
     "metadata": {},
     "output_type": "execute_result"
    }
   ],
   "source": [
    "family_data=np.array([tailles,poids])\n",
    "family_data"
   ]
  },
  {
   "cell_type": "code",
   "execution_count": 31,
   "id": "2af25d84",
   "metadata": {},
   "outputs": [
    {
     "data": {
      "text/plain": [
       "(2, 8)"
      ]
     },
     "execution_count": 31,
     "metadata": {},
     "output_type": "execute_result"
    }
   ],
   "source": [
    "family_data.shape"
   ]
  },
  {
   "cell_type": "code",
   "execution_count": 33,
   "id": "c7ee64bb",
   "metadata": {},
   "outputs": [
    {
     "data": {
      "text/plain": [
       "2"
      ]
     },
     "execution_count": 33,
     "metadata": {},
     "output_type": "execute_result"
    }
   ],
   "source": [
    "family_data.ndim"
   ]
  },
  {
   "cell_type": "code",
   "execution_count": 35,
   "id": "beae8d78",
   "metadata": {},
   "outputs": [
    {
     "data": {
      "text/plain": [
       "2"
      ]
     },
     "execution_count": 35,
     "metadata": {},
     "output_type": "execute_result"
    }
   ],
   "source": [
    "M.ndim"
   ]
  },
  {
   "cell_type": "code",
   "execution_count": 36,
   "id": "197c1c22",
   "metadata": {},
   "outputs": [
    {
     "data": {
      "text/plain": [
       "(2, 2)"
      ]
     },
     "execution_count": 36,
     "metadata": {},
     "output_type": "execute_result"
    }
   ],
   "source": [
    "M.shape"
   ]
  },
  {
   "cell_type": "code",
   "execution_count": 41,
   "id": "e44df6a2",
   "metadata": {},
   "outputs": [
    {
     "name": "stdout",
     "output_type": "stream",
     "text": [
      "deuxième membre: [ 1.85 75.  ]\n"
     ]
    }
   ],
   "source": [
    "print(\"deuxième membre:\",family_data [:,1])"
   ]
  },
  {
   "cell_type": "code",
   "execution_count": 42,
   "id": "ede7cbe4",
   "metadata": {},
   "outputs": [
    {
     "name": "stdout",
     "output_type": "stream",
     "text": [
      "troisieme membre: [ 1.65 79.  ]\n"
     ]
    }
   ],
   "source": [
    "print(\"troisieme membre:\", family_data [:,2])"
   ]
  },
  {
   "cell_type": "code",
   "execution_count": 43,
   "id": "09127f8e",
   "metadata": {},
   "outputs": [
    {
     "data": {
      "text/plain": [
       "array([0, 1, 2, 3, 4])"
      ]
     },
     "execution_count": 43,
     "metadata": {},
     "output_type": "execute_result"
    }
   ],
   "source": [
    "tab_range= np.array(range(5))\n",
    "tab_range"
   ]
  },
  {
   "cell_type": "code",
   "execution_count": 44,
   "id": "48e77c85",
   "metadata": {},
   "outputs": [
    {
     "data": {
      "text/plain": [
       "array([0, 1, 2, 3, 4])"
      ]
     },
     "execution_count": 44,
     "metadata": {},
     "output_type": "execute_result"
    }
   ],
   "source": [
    "np_arange= np.arange(5)\n",
    "np_arange"
   ]
  },
  {
   "cell_type": "code",
   "execution_count": 45,
   "id": "a74516e4",
   "metadata": {},
   "outputs": [
    {
     "data": {
      "text/plain": [
       "array([1. , 1.1, 1.2, 1.3, 1.4, 1.5, 1.6, 1.7, 1.8, 1.9])"
      ]
     },
     "execution_count": 45,
     "metadata": {},
     "output_type": "execute_result"
    }
   ],
   "source": [
    "np_arange2= np.arange(1.0, 2.0, 0.1)\n",
    "np_arange2"
   ]
  },
  {
   "cell_type": "code",
   "execution_count": 46,
   "id": "6142c66b",
   "metadata": {},
   "outputs": [
    {
     "data": {
      "text/plain": [
       "array([ 0.        ,  0.20408163,  0.40816327,  0.6122449 ,  0.81632653,\n",
       "        1.02040816,  1.2244898 ,  1.42857143,  1.63265306,  1.83673469,\n",
       "        2.04081633,  2.24489796,  2.44897959,  2.65306122,  2.85714286,\n",
       "        3.06122449,  3.26530612,  3.46938776,  3.67346939,  3.87755102,\n",
       "        4.08163265,  4.28571429,  4.48979592,  4.69387755,  4.89795918,\n",
       "        5.10204082,  5.30612245,  5.51020408,  5.71428571,  5.91836735,\n",
       "        6.12244898,  6.32653061,  6.53061224,  6.73469388,  6.93877551,\n",
       "        7.14285714,  7.34693878,  7.55102041,  7.75510204,  7.95918367,\n",
       "        8.16326531,  8.36734694,  8.57142857,  8.7755102 ,  8.97959184,\n",
       "        9.18367347,  9.3877551 ,  9.59183673,  9.79591837, 10.        ])"
      ]
     },
     "execution_count": 46,
     "metadata": {},
     "output_type": "execute_result"
    }
   ],
   "source": [
    "x= np.linspace(0., 10., 50)\n",
    "x"
   ]
  },
  {
   "cell_type": "code",
   "execution_count": 47,
   "id": "ba47a1f4",
   "metadata": {},
   "outputs": [
    {
     "data": {
      "text/plain": [
       "50"
      ]
     },
     "execution_count": 47,
     "metadata": {},
     "output_type": "execute_result"
    }
   ],
   "source": [
    "len(x)"
   ]
  },
  {
   "cell_type": "code",
   "execution_count": null,
   "id": "8b0347c6",
   "metadata": {},
   "outputs": [],
   "source": []
  }
 ],
 "metadata": {
  "kernelspec": {
   "display_name": "Python 3 (ipykernel)",
   "language": "python",
   "name": "python3"
  },
  "language_info": {
   "codemirror_mode": {
    "name": "ipython",
    "version": 3
   },
   "file_extension": ".py",
   "mimetype": "text/x-python",
   "name": "python",
   "nbconvert_exporter": "python",
   "pygments_lexer": "ipython3",
   "version": "3.9.13"
  }
 },
 "nbformat": 4,
 "nbformat_minor": 5
}
