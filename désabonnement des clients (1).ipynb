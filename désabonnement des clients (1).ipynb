{
 "cells": [
  {
   "cell_type": "markdown",
   "id": "1c514362-5584-417c-bfa8-d65d186ddd54",
   "metadata": {
    "tags": []
   },
   "source": [
    "# Construction d'un modèle de machine learning pour prédire le désabonnement des clients d'une entreprise( customer churn) # "
   ]
  },
  {
   "cell_type": "markdown",
   "id": "f21acdb5-0b89-4cba-8a4e-615e8848f088",
   "metadata": {},
   "source": [
    "## Importation des librairies"
   ]
  },
  {
   "cell_type": "code",
   "execution_count": 282,
   "id": "369ed353-bf52-4143-b688-467f6a147750",
   "metadata": {},
   "outputs": [],
   "source": [
    "import pandas as pd\n",
    "import numpy as np\n",
    "import ipywidgets as widgets\n",
    "from ipywidgets import interact,interactive, fixed,interact_manual\n",
    "import matplotlib.pyplot as plt\n",
    "%matplotlib inline\n",
    "import seaborn as sns\n",
    "from sklearn.ensemble import RandomForestClassifier\n",
    "from sklearn.linear_model import LinearRegression\n",
    "from sklearn.linear_model import LogisticRegression\n",
    "from sklearn.preprocessing import MinMaxScaler\n",
    "from sklearn.model_selection import GridSearchCV, train_test_split\n",
    "from sklearn.utils import resample\n",
    "from sklearn.neural_network import MLPClassifier\n",
    "from sklearn.svm import SVC\n",
    "from sklearn.metrics import classification_report\n",
    "from sklearn.feature_selection import RFE\n"
   ]
  },
  {
   "cell_type": "markdown",
   "id": "718b6286-26ea-4f77-aec3-851ae44de936",
   "metadata": {},
   "source": [
    "## Importation des données"
   ]
  },
  {
   "cell_type": "code",
   "execution_count": 35,
   "id": "767798ac-15e1-4e04-9780-dafc65048d2a",
   "metadata": {},
   "outputs": [
    {
     "data": {
      "text/html": [
       "<div>\n",
       "<style scoped>\n",
       "    .dataframe tbody tr th:only-of-type {\n",
       "        vertical-align: middle;\n",
       "    }\n",
       "\n",
       "    .dataframe tbody tr th {\n",
       "        vertical-align: top;\n",
       "    }\n",
       "\n",
       "    .dataframe thead th {\n",
       "        text-align: right;\n",
       "    }\n",
       "</style>\n",
       "<table border=\"1\" class=\"dataframe\">\n",
       "  <thead>\n",
       "    <tr style=\"text-align: right;\">\n",
       "      <th></th>\n",
       "      <th>customerID</th>\n",
       "      <th>gender</th>\n",
       "      <th>SeniorCitizen</th>\n",
       "      <th>Partner</th>\n",
       "      <th>Dependents</th>\n",
       "      <th>tenure</th>\n",
       "      <th>PhoneService</th>\n",
       "      <th>MultipleLines</th>\n",
       "      <th>InternetService</th>\n",
       "      <th>OnlineSecurity</th>\n",
       "      <th>...</th>\n",
       "      <th>DeviceProtection</th>\n",
       "      <th>TechSupport</th>\n",
       "      <th>StreamingTV</th>\n",
       "      <th>StreamingMovies</th>\n",
       "      <th>Contract</th>\n",
       "      <th>PaperlessBilling</th>\n",
       "      <th>PaymentMethod</th>\n",
       "      <th>MonthlyCharges</th>\n",
       "      <th>TotalCharges</th>\n",
       "      <th>Churn</th>\n",
       "    </tr>\n",
       "  </thead>\n",
       "  <tbody>\n",
       "    <tr>\n",
       "      <th>0</th>\n",
       "      <td>7590-VHVEG</td>\n",
       "      <td>Female</td>\n",
       "      <td>0</td>\n",
       "      <td>Yes</td>\n",
       "      <td>No</td>\n",
       "      <td>1</td>\n",
       "      <td>No</td>\n",
       "      <td>No phone service</td>\n",
       "      <td>DSL</td>\n",
       "      <td>No</td>\n",
       "      <td>...</td>\n",
       "      <td>No</td>\n",
       "      <td>No</td>\n",
       "      <td>No</td>\n",
       "      <td>No</td>\n",
       "      <td>Month-to-month</td>\n",
       "      <td>Yes</td>\n",
       "      <td>Electronic check</td>\n",
       "      <td>29.85</td>\n",
       "      <td>29.85</td>\n",
       "      <td>No</td>\n",
       "    </tr>\n",
       "    <tr>\n",
       "      <th>1</th>\n",
       "      <td>5575-GNVDE</td>\n",
       "      <td>Male</td>\n",
       "      <td>0</td>\n",
       "      <td>No</td>\n",
       "      <td>No</td>\n",
       "      <td>34</td>\n",
       "      <td>Yes</td>\n",
       "      <td>No</td>\n",
       "      <td>DSL</td>\n",
       "      <td>Yes</td>\n",
       "      <td>...</td>\n",
       "      <td>Yes</td>\n",
       "      <td>No</td>\n",
       "      <td>No</td>\n",
       "      <td>No</td>\n",
       "      <td>One year</td>\n",
       "      <td>No</td>\n",
       "      <td>Mailed check</td>\n",
       "      <td>56.95</td>\n",
       "      <td>1889.5</td>\n",
       "      <td>No</td>\n",
       "    </tr>\n",
       "    <tr>\n",
       "      <th>2</th>\n",
       "      <td>3668-QPYBK</td>\n",
       "      <td>Male</td>\n",
       "      <td>0</td>\n",
       "      <td>No</td>\n",
       "      <td>No</td>\n",
       "      <td>2</td>\n",
       "      <td>Yes</td>\n",
       "      <td>No</td>\n",
       "      <td>DSL</td>\n",
       "      <td>Yes</td>\n",
       "      <td>...</td>\n",
       "      <td>No</td>\n",
       "      <td>No</td>\n",
       "      <td>No</td>\n",
       "      <td>No</td>\n",
       "      <td>Month-to-month</td>\n",
       "      <td>Yes</td>\n",
       "      <td>Mailed check</td>\n",
       "      <td>53.85</td>\n",
       "      <td>108.15</td>\n",
       "      <td>Yes</td>\n",
       "    </tr>\n",
       "    <tr>\n",
       "      <th>3</th>\n",
       "      <td>7795-CFOCW</td>\n",
       "      <td>Male</td>\n",
       "      <td>0</td>\n",
       "      <td>No</td>\n",
       "      <td>No</td>\n",
       "      <td>45</td>\n",
       "      <td>No</td>\n",
       "      <td>No phone service</td>\n",
       "      <td>DSL</td>\n",
       "      <td>Yes</td>\n",
       "      <td>...</td>\n",
       "      <td>Yes</td>\n",
       "      <td>Yes</td>\n",
       "      <td>No</td>\n",
       "      <td>No</td>\n",
       "      <td>One year</td>\n",
       "      <td>No</td>\n",
       "      <td>Bank transfer (automatic)</td>\n",
       "      <td>42.30</td>\n",
       "      <td>1840.75</td>\n",
       "      <td>No</td>\n",
       "    </tr>\n",
       "    <tr>\n",
       "      <th>4</th>\n",
       "      <td>9237-HQITU</td>\n",
       "      <td>Female</td>\n",
       "      <td>0</td>\n",
       "      <td>No</td>\n",
       "      <td>No</td>\n",
       "      <td>2</td>\n",
       "      <td>Yes</td>\n",
       "      <td>No</td>\n",
       "      <td>Fiber optic</td>\n",
       "      <td>No</td>\n",
       "      <td>...</td>\n",
       "      <td>No</td>\n",
       "      <td>No</td>\n",
       "      <td>No</td>\n",
       "      <td>No</td>\n",
       "      <td>Month-to-month</td>\n",
       "      <td>Yes</td>\n",
       "      <td>Electronic check</td>\n",
       "      <td>70.70</td>\n",
       "      <td>151.65</td>\n",
       "      <td>Yes</td>\n",
       "    </tr>\n",
       "  </tbody>\n",
       "</table>\n",
       "<p>5 rows × 21 columns</p>\n",
       "</div>"
      ],
      "text/plain": [
       "   customerID  gender  SeniorCitizen Partner Dependents  tenure PhoneService  \\\n",
       "0  7590-VHVEG  Female              0     Yes         No       1           No   \n",
       "1  5575-GNVDE    Male              0      No         No      34          Yes   \n",
       "2  3668-QPYBK    Male              0      No         No       2          Yes   \n",
       "3  7795-CFOCW    Male              0      No         No      45           No   \n",
       "4  9237-HQITU  Female              0      No         No       2          Yes   \n",
       "\n",
       "      MultipleLines InternetService OnlineSecurity  ... DeviceProtection  \\\n",
       "0  No phone service             DSL             No  ...               No   \n",
       "1                No             DSL            Yes  ...              Yes   \n",
       "2                No             DSL            Yes  ...               No   \n",
       "3  No phone service             DSL            Yes  ...              Yes   \n",
       "4                No     Fiber optic             No  ...               No   \n",
       "\n",
       "  TechSupport StreamingTV StreamingMovies        Contract PaperlessBilling  \\\n",
       "0          No          No              No  Month-to-month              Yes   \n",
       "1          No          No              No        One year               No   \n",
       "2          No          No              No  Month-to-month              Yes   \n",
       "3         Yes          No              No        One year               No   \n",
       "4          No          No              No  Month-to-month              Yes   \n",
       "\n",
       "               PaymentMethod MonthlyCharges  TotalCharges Churn  \n",
       "0           Electronic check          29.85         29.85    No  \n",
       "1               Mailed check          56.95        1889.5    No  \n",
       "2               Mailed check          53.85        108.15   Yes  \n",
       "3  Bank transfer (automatic)          42.30       1840.75    No  \n",
       "4           Electronic check          70.70        151.65   Yes  \n",
       "\n",
       "[5 rows x 21 columns]"
      ]
     },
     "execution_count": 35,
     "metadata": {},
     "output_type": "execute_result"
    }
   ],
   "source": [
    "df=pd.read_csv(\"/Users/lenovo/Downloads/WA_Fn-UseC_-Telco-Customer-Churn.csv\")\n",
    "df.head()                "
   ]
  },
  {
   "cell_type": "markdown",
   "id": "c76c41e5-919f-492e-96a6-ffb7eef7b63d",
   "metadata": {},
   "source": [
    "## Inspection de la dataframe df "
   ]
  },
  {
   "cell_type": "code",
   "execution_count": 36,
   "id": "d87bd975-c379-4ab6-ae7f-e9600c976846",
   "metadata": {},
   "outputs": [
    {
     "name": "stdout",
     "output_type": "stream",
     "text": [
      "<class 'pandas.core.frame.DataFrame'>\n",
      "RangeIndex: 7043 entries, 0 to 7042\n",
      "Data columns (total 21 columns):\n",
      " #   Column            Non-Null Count  Dtype  \n",
      "---  ------            --------------  -----  \n",
      " 0   customerID        7043 non-null   object \n",
      " 1   gender            7043 non-null   object \n",
      " 2   SeniorCitizen     7043 non-null   int64  \n",
      " 3   Partner           7043 non-null   object \n",
      " 4   Dependents        7043 non-null   object \n",
      " 5   tenure            7043 non-null   int64  \n",
      " 6   PhoneService      7043 non-null   object \n",
      " 7   MultipleLines     7043 non-null   object \n",
      " 8   InternetService   7043 non-null   object \n",
      " 9   OnlineSecurity    7043 non-null   object \n",
      " 10  OnlineBackup      7043 non-null   object \n",
      " 11  DeviceProtection  7043 non-null   object \n",
      " 12  TechSupport       7043 non-null   object \n",
      " 13  StreamingTV       7043 non-null   object \n",
      " 14  StreamingMovies   7043 non-null   object \n",
      " 15  Contract          7043 non-null   object \n",
      " 16  PaperlessBilling  7043 non-null   object \n",
      " 17  PaymentMethod     7043 non-null   object \n",
      " 18  MonthlyCharges    7043 non-null   float64\n",
      " 19  TotalCharges      7043 non-null   object \n",
      " 20  Churn             7043 non-null   object \n",
      "dtypes: float64(1), int64(2), object(18)\n",
      "memory usage: 1.1+ MB\n"
     ]
    }
   ],
   "source": [
    "df.info()"
   ]
  },
  {
   "cell_type": "markdown",
   "id": "94ca6e34-a474-4eff-9ae2-5806dc396f59",
   "metadata": {},
   "source": [
    "on a ici un problème de classification car la variable cible prend deux valeurs yes: \"désabonnement\" et NO: \"pas de désabonnement\".Il s'agit du machine learning supervisé.c'est une variable catégorielle car elle est binaire(variable qualitative)."
   ]
  },
  {
   "cell_type": "markdown",
   "id": "b10751f8-6fa1-43b0-9dce-a24683080fc0",
   "metadata": {},
   "source": [
    "on veut connaitre le nombre de valeurs uniques distinctes qu'on a au niveau de chaque colonne."
   ]
  },
  {
   "cell_type": "code",
   "execution_count": 37,
   "id": "53265a9f-2bf0-49c9-90ec-52b07f169580",
   "metadata": {},
   "outputs": [
    {
     "data": {
      "text/plain": [
       "customerID          7043\n",
       "gender                 2\n",
       "SeniorCitizen          2\n",
       "Partner                2\n",
       "Dependents             2\n",
       "tenure                73\n",
       "PhoneService           2\n",
       "MultipleLines          3\n",
       "InternetService        3\n",
       "OnlineSecurity         3\n",
       "OnlineBackup           3\n",
       "DeviceProtection       3\n",
       "TechSupport            3\n",
       "StreamingTV            3\n",
       "StreamingMovies        3\n",
       "Contract               3\n",
       "PaperlessBilling       2\n",
       "PaymentMethod          4\n",
       "MonthlyCharges      1585\n",
       "TotalCharges        6531\n",
       "Churn                  2\n",
       "dtype: int64"
      ]
     },
     "execution_count": 37,
     "metadata": {},
     "output_type": "execute_result"
    }
   ],
   "source": [
    "# Nombres de valeurs unique par colonne\n",
    "df.nunique()"
   ]
  },
  {
   "cell_type": "markdown",
   "id": "07121f6f-3083-4e07-b97e-ef9a66c8ae08",
   "metadata": {},
   "source": [
    "Etant donné que la variable customerID( identifiant du client)à 7043 VALEURS DISTINCTES, et que la dataframe contient au total 7043 LIGNES,ca veut dire que (chaque ligne réprésente un client) alors nous sommes convaicus que chaque ligne de la dataframe représente unique client.Aussi chaque variable représenteune une caractéristique distincte d'un client."
   ]
  },
  {
   "cell_type": "markdown",
   "id": "fba244c6-c3c6-4031-ae41-55fd9ef3c165",
   "metadata": {},
   "source": [
    "# Analyse exploratoire des données"
   ]
  },
  {
   "cell_type": "markdown",
   "id": "febad5eb-7e17-4654-8450-bba5445c6dc4",
   "metadata": {},
   "source": [
    "commencons cette anayse exploratoire des données en tracant un graphique de visualisations de la distribution pour chacune des variables"
   ]
  },
  {
   "cell_type": "code",
   "execution_count": 39,
   "id": "ac265db6-37e0-4fbd-8114-2a3798e89e68",
   "metadata": {},
   "outputs": [
    {
     "data": {
      "text/plain": [
       "['gender',\n",
       " 'SeniorCitizen',\n",
       " 'Partner',\n",
       " 'Dependents',\n",
       " 'PhoneService',\n",
       " 'MultipleLines',\n",
       " 'InternetService',\n",
       " 'OnlineSecurity',\n",
       " 'OnlineBackup',\n",
       " 'DeviceProtection',\n",
       " 'TechSupport',\n",
       " 'StreamingTV',\n",
       " 'StreamingMovies',\n",
       " 'Contract',\n",
       " 'PaperlessBilling',\n",
       " 'PaymentMethod',\n",
       " 'Churn']"
      ]
     },
     "execution_count": 39,
     "metadata": {},
     "output_type": "execute_result"
    }
   ],
   "source": [
    "# varaibles catégorielles\n",
    "categorical_columns=df.nunique()[df.nunique() < 5].keys().to_list()\n",
    "categorical_columns"
   ]
  },
  {
   "cell_type": "code",
   "execution_count": 43,
   "id": "234876b2-0261-41cf-af3d-c7c1d44d9c18",
   "metadata": {},
   "outputs": [],
   "source": [
    "# création d'une fonction de construction de graphique à barre pour chaque variable et de manière interactive\n",
    "def bar_plot(a):\n",
    "    df[a].value_counts(normalize=True).plot(kind=\"bar\")\n",
    "    plt.ylabel(\"proportion\")\n",
    "    plt.title(\"Disttibution of\"+ str(a))\n",
    "    return plt.show()"
   ]
  },
  {
   "cell_type": "code",
   "execution_count": 44,
   "id": "7b3d1e08-c5c1-4d31-a5b9-1e9ab42af104",
   "metadata": {},
   "outputs": [
    {
     "data": {
      "application/vnd.jupyter.widget-view+json": {
       "model_id": "61cfcb81666f447e946e6cda666a09ed",
       "version_major": 2,
       "version_minor": 0
      },
      "text/plain": [
       "interactive(children=(Dropdown(description='a', options=('gender', 'SeniorCitizen', 'Partner', 'Dependents', '…"
      ]
     },
     "metadata": {},
     "output_type": "display_data"
    }
   ],
   "source": [
    "# Interact\n",
    "interact(bar_plot, a=categorical_columns);"
   ]
  },
  {
   "cell_type": "markdown",
   "id": "bd41d1d1-f7c9-4a98-b9b2-5fc85b84caf1",
   "metadata": {},
   "source": [
    "vous pouvez interagir avec le notebook en sélectionnant la variable catégorielle qui vous intéresse afin de visualiser sa distribution à travers le graphique à barre. Voici quelques informations que l'on peut tirer des graphiques à barres ci-dessus:\n",
    "\n",
    "# . IL Y' a plus de clients qui ne se sont pas désabonnés ( plus de 70%) que les clients qui se sont abonnés(moins de 30%).Donc nous avons un problème de déséquilibre qu'il faut absolument résoudre car cela peut affecter les performances de notre modèle de classification que nous allons construire.\n",
    "# . La distribution des données entre les différents sexes est à peu près également réparties\n",
    "\n",
    "# . Le nombre de clients qui sont des personnes agées est( moins de 20%)  est inférieur à celui des clients jeunes(plus de 80%)\n",
    "\n",
    "# . La variable partner indique si le client a un partenaire (YES) ou (NO).Les deux catégories ont pratiquement la meme proportion.\n",
    "\n",
    "Répétons le meme processus cette fois-ci pour les variables numériques"
   ]
  },
  {
   "cell_type": "code",
   "execution_count": 46,
   "id": "0c573648-1053-4265-ad57-1f1ff0daa172",
   "metadata": {},
   "outputs": [],
   "source": [
    "# Echantillonnement aléatoire  de la variable  \"Totalcharges\""
   ]
  },
  {
   "cell_type": "markdown",
   "id": "cafe4549-c429-4d2d-ab4d-79d471594bfe",
   "metadata": {},
   "source": [
    "Apparemment c'est à cause de la présence d'espacement au niveau \"Totalcharges\" que pandas la considère comme une variable avec des\n",
    "valeurs de type objet(chaine de caractère).\n",
    "Donc nous allonsremplacerces espaces par des NAN( not a number) et transformer le type de ces objets en float(décimal)."
   ]
  },
  {
   "cell_type": "code",
   "execution_count": 77,
   "id": "d98c2653-d6ab-43e9-ad69-8ab7972abac5",
   "metadata": {},
   "outputs": [
    {
     "data": {
      "text/plain": [
       "1096      580.1\n",
       "3640     2745.2\n",
       "6459    1459.35\n",
       "3498     3198.6\n",
       "1082           \n",
       "4627     7049.5\n",
       "4796     5276.1\n",
       "2094      391.7\n",
       "904      5398.6\n",
       "4833     806.95\n",
       "Name: TotalCharges, dtype: object"
      ]
     },
     "execution_count": 77,
     "metadata": {},
     "output_type": "execute_result"
    }
   ],
   "source": [
    "df[\"TotalCharges\"].sample(10)"
   ]
  },
  {
   "cell_type": "markdown",
   "id": "a5e71c8d-c1bb-4e9e-abd8-3a1b67b0766e",
   "metadata": {},
   "source": [
    "on exécuté maintes fois pour trouver la ligne(1082) \n",
    "qui présente l'espace conduisant àce que pandas considére la variable \"Totalcharges\"\n",
    " comme étant un type objet."
   ]
  },
  {
   "cell_type": "code",
   "execution_count": 78,
   "id": "5f0c0a75-7a16-4371-9f98-25a5ffc48c5d",
   "metadata": {},
   "outputs": [
    {
     "name": "stdout",
     "output_type": "stream",
     "text": [
      "<class 'pandas.core.frame.DataFrame'>\n",
      "RangeIndex: 7043 entries, 0 to 7042\n",
      "Data columns (total 21 columns):\n",
      " #   Column            Non-Null Count  Dtype  \n",
      "---  ------            --------------  -----  \n",
      " 0   customerID        7043 non-null   object \n",
      " 1   gender            7043 non-null   object \n",
      " 2   SeniorCitizen     7043 non-null   int64  \n",
      " 3   Partner           7043 non-null   object \n",
      " 4   Dependents        7043 non-null   object \n",
      " 5   tenure            7043 non-null   int64  \n",
      " 6   PhoneService      7043 non-null   object \n",
      " 7   MultipleLines     7043 non-null   object \n",
      " 8   InternetService   7043 non-null   object \n",
      " 9   OnlineSecurity    7043 non-null   object \n",
      " 10  OnlineBackup      7043 non-null   object \n",
      " 11  DeviceProtection  7043 non-null   object \n",
      " 12  TechSupport       7043 non-null   object \n",
      " 13  StreamingTV       7043 non-null   object \n",
      " 14  StreamingMovies   7043 non-null   object \n",
      " 15  Contract          7043 non-null   object \n",
      " 16  PaperlessBilling  7043 non-null   object \n",
      " 17  PaymentMethod     7043 non-null   object \n",
      " 18  MonthlyCharges    7043 non-null   float64\n",
      " 19  TotalCharges      7043 non-null   object \n",
      " 20  Churn             7043 non-null   object \n",
      "dtypes: float64(1), int64(2), object(18)\n",
      "memory usage: 1.1+ MB\n"
     ]
    }
   ],
   "source": [
    "df.info()"
   ]
  },
  {
   "cell_type": "code",
   "execution_count": 89,
   "id": "92e92f45-cff2-46c2-8188-f82e81505144",
   "metadata": {},
   "outputs": [],
   "source": [
    "# varaibles quantitatives\n",
    "\n",
    "numerical_columns=[\"tenure\", \"MonthlyCharges\",  \"TotalCharges\"]\n",
    "\n",
    "# création d'une fonction de construction d'histogramme  pour chaque variable numérique et de manière interactive\n",
    "def hist_plot(b):\n",
    "    sns.displot(df[b], kde=False)\n",
    "    plt.title(\"Histogram of\"+ str(b))\n",
    "    return plt.show()\n",
    "\n",
    "\n",
    "# Conversion du type de la variable \"TotalCharges\" en décimal(float)\n",
    "df[\"TotalCharges\"]=df[\"TotalCharges\"].replace(' ', np.nan).astype(float)\n"
   ]
  },
  {
   "cell_type": "code",
   "execution_count": 91,
   "id": "2323db5a-0beb-4d88-9b24-fe74f53aeeeb",
   "metadata": {},
   "outputs": [
    {
     "data": {
      "application/vnd.jupyter.widget-view+json": {
       "model_id": "950b649d4aa5461d87666c7b8f382d4a",
       "version_major": 2,
       "version_minor": 0
      },
      "text/plain": [
       "interactive(children=(Dropdown(description='b', options=('tenure', 'MonthlyCharges', 'TotalCharges'), value='t…"
      ]
     },
     "metadata": {},
     "output_type": "display_data"
    }
   ],
   "source": [
    "interact(hist_plot, b= numerical_columns);"
   ]
  },
  {
   "cell_type": "markdown",
   "id": "c5212ea2-6fd0-4898-a2ca-8d26b353de8b",
   "metadata": {},
   "source": [
    "la variable est asymétrique étalé vers la droite."
   ]
  },
  {
   "cell_type": "code",
   "execution_count": 88,
   "id": "448d3fae-5ecf-414f-be5d-8f6a7c79338f",
   "metadata": {},
   "outputs": [],
   "source": [
    "# coefficient d'asymétrie de la variable 'TotalCharges'"
   ]
  },
  {
   "cell_type": "code",
   "execution_count": 93,
   "id": "5681aa5d-2076-45ba-91c9-bbe6bbec2db7",
   "metadata": {},
   "outputs": [
    {
     "data": {
      "text/plain": [
       "0.961642499724251"
      ]
     },
     "execution_count": 93,
     "metadata": {},
     "output_type": "execute_result"
    }
   ],
   "source": [
    "df[\"TotalCharges\"].skew()"
   ]
  },
  {
   "cell_type": "markdown",
   "id": "ab2f0adc-e218-4c68-8979-a4f41e9db436",
   "metadata": {},
   "source": [
    "le coefficient d'asymétrie est trop élévé, ce qui montre que la variable est très asymétrique.\n",
    "\n",
    "pour une loi normale le coefficient d'asymétrie est égal=0\n",
    "pour des distributions pseudo normale la distribution est autour de zéro   "
   ]
  },
  {
   "cell_type": "markdown",
   "id": "f69fd4df-6a97-4b0a-bbf7-41a35d081f34",
   "metadata": {},
   "source": [
    "# création d'une fonction de construction de boite à moustache pour chaque variable numérique et de manière interactive"
   ]
  },
  {
   "cell_type": "code",
   "execution_count": 95,
   "id": "d73fcb5a-845d-4f08-a384-e0b2e59c996a",
   "metadata": {},
   "outputs": [],
   "source": [
    "def box_plot(b):\n",
    "    sns.boxplot(y=df[b])\n",
    "    plt.title(\"Boxplot\" + str(b))\n",
    "    return plt.show()\n",
    "    "
   ]
  },
  {
   "cell_type": "code",
   "execution_count": 96,
   "id": "deede643-d82a-4af0-a4f5-25682f935df2",
   "metadata": {},
   "outputs": [
    {
     "data": {
      "application/vnd.jupyter.widget-view+json": {
       "model_id": "3edb5519ee414577941479f853767757",
       "version_major": 2,
       "version_minor": 0
      },
      "text/plain": [
       "interactive(children=(Dropdown(description='b', options=('tenure', 'MonthlyCharges', 'TotalCharges'), value='t…"
      ]
     },
     "metadata": {},
     "output_type": "display_data"
    }
   ],
   "source": [
    "# Interact\n",
    "interact(box_plot, b= numerical_columns);"
   ]
  },
  {
   "cell_type": "markdown",
   "id": "a7ba4043-a5bd-45a6-9975-54cb9fe373d2",
   "metadata": {},
   "source": [
    "Nous remarquons que ces variables continues bien que ne présentant pas de valeurs abérrantes sont très asymétriques\n",
    "ce qui peut causer des erreurs sur notre modeles que nous allons construire.\n",
    "\n",
    "Nous pouvons appliquer des fonctions de transformation à ces variables afin de les rendres moins asymétriques\n",
    "\n",
    "Nous avons une compréhension de la distribution de chaque variable au niveau de notre ensemble de données."
   ]
  },
  {
   "cell_type": "markdown",
   "id": "21d4434d-cc92-4cd3-b2d0-32d4a37df4d6",
   "metadata": {},
   "source": [
    "Maintenant faisons une analyse Bivariée"
   ]
  },
  {
   "cell_type": "code",
   "execution_count": 98,
   "id": "283bcce4-b6c0-4bd2-ba73-f7be1ca25a54",
   "metadata": {},
   "outputs": [
    {
     "name": "stdout",
     "output_type": "stream",
     "text": [
      "<class 'pandas.core.frame.DataFrame'>\n",
      "RangeIndex: 7043 entries, 0 to 7042\n",
      "Data columns (total 21 columns):\n",
      " #   Column            Non-Null Count  Dtype  \n",
      "---  ------            --------------  -----  \n",
      " 0   customerID        7043 non-null   object \n",
      " 1   gender            7043 non-null   object \n",
      " 2   SeniorCitizen     7043 non-null   int64  \n",
      " 3   Partner           7043 non-null   object \n",
      " 4   Dependents        7043 non-null   object \n",
      " 5   tenure            7043 non-null   int64  \n",
      " 6   PhoneService      7043 non-null   object \n",
      " 7   MultipleLines     7043 non-null   object \n",
      " 8   InternetService   7043 non-null   object \n",
      " 9   OnlineSecurity    7043 non-null   object \n",
      " 10  OnlineBackup      7043 non-null   object \n",
      " 11  DeviceProtection  7043 non-null   object \n",
      " 12  TechSupport       7043 non-null   object \n",
      " 13  StreamingTV       7043 non-null   object \n",
      " 14  StreamingMovies   7043 non-null   object \n",
      " 15  Contract          7043 non-null   object \n",
      " 16  PaperlessBilling  7043 non-null   object \n",
      " 17  PaymentMethod     7043 non-null   object \n",
      " 18  MonthlyCharges    7043 non-null   float64\n",
      " 19  TotalCharges      7032 non-null   float64\n",
      " 20  Churn             7043 non-null   object \n",
      "dtypes: float64(2), int64(2), object(17)\n",
      "memory usage: 1.1+ MB\n"
     ]
    }
   ],
   "source": [
    "df.info()"
   ]
  },
  {
   "cell_type": "code",
   "execution_count": 99,
   "id": "42b8f47f-9135-463d-b668-3d8d9c014b60",
   "metadata": {},
   "outputs": [
    {
     "data": {
      "image/png": "[encoded data removed]",
      "text/plain": [
       "<Figure size 640x480 with 1 Axes>"
      ]
     },
     "metadata": {},
     "output_type": "display_data"
    }
   ],
   "source": [
    "# TotalCharges vs churn\n",
    "sns.boxplot(x='Churn', y='TotalCharges', data=df)\n",
    "plt.xlabel(\"Désabonnement\")\n",
    "plt.ylabel(\"Facture totale\")\n",
    "plt.title('Montant total facturé aux clients')\n",
    "plt.show()"
   ]
  },
  {
   "cell_type": "code",
   "execution_count": 100,
   "id": "d1f17c69-8a79-421e-b3d3-a6a672e3dcee",
   "metadata": {},
   "outputs": [
    {
     "data": {
      "image/png": "[encoded data removed]",
      "text/plain": [
       "<Figure size 640x480 with 1 Axes>"
      ]
     },
     "metadata": {},
     "output_type": "display_data"
    }
   ],
   "source": [
    "# MonthlyCharges vs churn\n",
    "sns.boxplot(x='Churn', y='MonthlyCharges', data=df)\n",
    "plt.xlabel(\"Désabonnement\")\n",
    "plt.ylabel(\"Facture mensuelle\")\n",
    "plt.title('Montant facturé  mensuellement aux clients')\n",
    "plt.show()"
   ]
  },
  {
   "cell_type": "markdown",
   "id": "ee740eb7-6c34-40b6-a287-0ddbcd2d8379",
   "metadata": {},
   "source": [
    "Le montant total facturé aux clients qui ont résilié leur contrat est inférieur au  montant total facturé ceux qui ne l'ont pas fait.\n",
    "# Mais les clients qui se sont désabonnés sont plus facturés mensuellement que les clients qui ne se sont pas désabonnés.\n",
    "\n",
    "cette information est très importante pour l'entreprise, car le montant facturé mensuellement peut etre un facteur important pour déterminer si un client va se désabonner ou pas."
   ]
  },
  {
   "cell_type": "code",
   "execution_count": 102,
   "id": "082fdae8-6e78-4798-a765-a915a5523761",
   "metadata": {},
   "outputs": [
    {
     "data": {
      "image/png": "[encoded data removed]",
      "text/plain": [
       "<Figure size 640x480 with 1 Axes>"
      ]
     },
     "metadata": {},
     "output_type": "display_data"
    }
   ],
   "source": [
    "# tenure vs churn\n",
    "sns.boxplot(x='Churn', y='tenure', data=df)\n",
    "plt.xlabel(\"Désabonnement\")\n",
    "plt.title(\"Nombre de mois pendant lesquels les clients sont restés dans l'entreprise\")\n",
    "plt.show()"
   ]
  },
  {
   "cell_type": "code",
   "execution_count": 104,
   "id": "6f68610b-9e17-48ff-8c2d-8af088838ef5",
   "metadata": {},
   "outputs": [
    {
     "data": {
      "image/png": "[encoded data removed]",
      "text/plain": [
       "<Figure size 640x480 with 1 Axes>"
      ]
     },
     "metadata": {},
     "output_type": "display_data"
    }
   ],
   "source": [
    "# MonthlyCharges vs churn by SeniorCitizen \n",
    "sns.boxplot(x='Churn', y='MonthlyCharges', data=df, hue=\"SeniorCitizen\");"
   ]
  },
  {
   "cell_type": "markdown",
   "id": "f54c2bd8-81e4-4933-ac9c-9d663c0ee8a8",
   "metadata": {},
   "source": [
    "Il semble que les personnes agées soient beaucoup plus facturés mensuellement que les jeunes.Malgré cela il reste plus fidèle à l'entreprise  que les jeunes"
   ]
  },
  {
   "cell_type": "code",
   "execution_count": 105,
   "id": "e8ec20af-aebf-4634-935c-78a762947386",
   "metadata": {},
   "outputs": [
    {
     "data": {
      "image/png": "[encoded data removed]",
      "text/plain": [
       "<Figure size 640x480 with 1 Axes>"
      ]
     },
     "metadata": {},
     "output_type": "display_data"
    }
   ],
   "source": [
    "# MonthlyCharges vs churn by Dependents\n",
    "sns.boxplot(x='Churn', y='MonthlyCharges', data=df, hue=\"Dependents\");\n"
   ]
  },
  {
   "cell_type": "code",
   "execution_count": 106,
   "id": "d3b7c42d-860b-4535-b956-800cd9c6b66c",
   "metadata": {},
   "outputs": [
    {
     "data": {
      "text/html": [
       "<div>\n",
       "<style scoped>\n",
       "    .dataframe tbody tr th:only-of-type {\n",
       "        vertical-align: middle;\n",
       "    }\n",
       "\n",
       "    .dataframe tbody tr th {\n",
       "        vertical-align: top;\n",
       "    }\n",
       "\n",
       "    .dataframe thead th {\n",
       "        text-align: right;\n",
       "    }\n",
       "</style>\n",
       "<table border=\"1\" class=\"dataframe\">\n",
       "  <thead>\n",
       "    <tr style=\"text-align: right;\">\n",
       "      <th></th>\n",
       "      <th>SeniorCitizen</th>\n",
       "      <th>tenure</th>\n",
       "      <th>MonthlyCharges</th>\n",
       "      <th>TotalCharges</th>\n",
       "    </tr>\n",
       "  </thead>\n",
       "  <tbody>\n",
       "    <tr>\n",
       "      <th>count</th>\n",
       "      <td>7043.000000</td>\n",
       "      <td>7043.000000</td>\n",
       "      <td>7043.000000</td>\n",
       "      <td>7032.000000</td>\n",
       "    </tr>\n",
       "    <tr>\n",
       "      <th>mean</th>\n",
       "      <td>0.162147</td>\n",
       "      <td>32.371149</td>\n",
       "      <td>64.761692</td>\n",
       "      <td>2283.300441</td>\n",
       "    </tr>\n",
       "    <tr>\n",
       "      <th>std</th>\n",
       "      <td>0.368612</td>\n",
       "      <td>24.559481</td>\n",
       "      <td>30.090047</td>\n",
       "      <td>2266.771362</td>\n",
       "    </tr>\n",
       "    <tr>\n",
       "      <th>min</th>\n",
       "      <td>0.000000</td>\n",
       "      <td>0.000000</td>\n",
       "      <td>18.250000</td>\n",
       "      <td>18.800000</td>\n",
       "    </tr>\n",
       "    <tr>\n",
       "      <th>25%</th>\n",
       "      <td>0.000000</td>\n",
       "      <td>9.000000</td>\n",
       "      <td>35.500000</td>\n",
       "      <td>401.450000</td>\n",
       "    </tr>\n",
       "    <tr>\n",
       "      <th>50%</th>\n",
       "      <td>0.000000</td>\n",
       "      <td>29.000000</td>\n",
       "      <td>70.350000</td>\n",
       "      <td>1397.475000</td>\n",
       "    </tr>\n",
       "    <tr>\n",
       "      <th>75%</th>\n",
       "      <td>0.000000</td>\n",
       "      <td>55.000000</td>\n",
       "      <td>89.850000</td>\n",
       "      <td>3794.737500</td>\n",
       "    </tr>\n",
       "    <tr>\n",
       "      <th>max</th>\n",
       "      <td>1.000000</td>\n",
       "      <td>72.000000</td>\n",
       "      <td>118.750000</td>\n",
       "      <td>8684.800000</td>\n",
       "    </tr>\n",
       "  </tbody>\n",
       "</table>\n",
       "</div>"
      ],
      "text/plain": [
       "       SeniorCitizen       tenure  MonthlyCharges  TotalCharges\n",
       "count    7043.000000  7043.000000     7043.000000   7032.000000\n",
       "mean        0.162147    32.371149       64.761692   2283.300441\n",
       "std         0.368612    24.559481       30.090047   2266.771362\n",
       "min         0.000000     0.000000       18.250000     18.800000\n",
       "25%         0.000000     9.000000       35.500000    401.450000\n",
       "50%         0.000000    29.000000       70.350000   1397.475000\n",
       "75%         0.000000    55.000000       89.850000   3794.737500\n",
       "max         1.000000    72.000000      118.750000   8684.800000"
      ]
     },
     "execution_count": 106,
     "metadata": {},
     "output_type": "execute_result"
    }
   ],
   "source": [
    "# résumé statistique\n",
    "df.describe()"
   ]
  },
  {
   "cell_type": "markdown",
   "id": "f1fd0318-2c76-4c09-af80-f8c7044c31a9",
   "metadata": {},
   "source": [
    "comme vous l'avez remarqué les trois variables quantitatifs( tenure ,MonthlyCharge ,TotalCharges).\n",
    "On différent échelle tenure varie de 0 0 72 tandis que MonthlyCharges varie entre 18.25 et 118.75 et TotalCharges\n",
    "varies entre 18.8 et 8684.8. De nombre modèle de machine et deep learning fonctionne avec des variables standardisées ou normalisées.\n",
    "\n",
    "Nous traiterons la standardisatons des données dans la section de prétraitement des données."
   ]
  },
  {
   "cell_type": "markdown",
   "id": "de3b88e2-e866-48d7-aa31-36529118983c",
   "metadata": {},
   "source": [
    "# prétraitement des données #"
   ]
  },
  {
   "cell_type": "code",
   "execution_count": 109,
   "id": "e9270089-93da-413c-842c-460ff9356d1f",
   "metadata": {},
   "outputs": [
    {
     "data": {
      "text/plain": [
       "customerID           0\n",
       "gender               0\n",
       "SeniorCitizen        0\n",
       "Partner              0\n",
       "Dependents           0\n",
       "tenure               0\n",
       "PhoneService         0\n",
       "MultipleLines        0\n",
       "InternetService      0\n",
       "OnlineSecurity       0\n",
       "OnlineBackup         0\n",
       "DeviceProtection     0\n",
       "TechSupport          0\n",
       "StreamingTV          0\n",
       "StreamingMovies      0\n",
       "Contract             0\n",
       "PaperlessBilling     0\n",
       "PaymentMethod        0\n",
       "MonthlyCharges       0\n",
       "TotalCharges        11\n",
       "Churn                0\n",
       "dtype: int64"
      ]
     },
     "execution_count": 109,
     "metadata": {},
     "output_type": "execute_result"
    }
   ],
   "source": [
    "# Gestion des valeurs manquantes\n",
    "data= df.copy()\n",
    "data.isna().sum()"
   ]
  },
  {
   "cell_type": "code",
   "execution_count": null,
   "id": "40452d44-da91-4e29-ab51-523173533fd0",
   "metadata": {},
   "outputs": [],
   "source": [
    "la colonne TotalCharges prrésente 11 valeurs manquantes\n"
   ]
  },
  {
   "cell_type": "code",
   "execution_count": 110,
   "id": "0e7788d4-78f7-4b14-be7b-fba1111d3f9d",
   "metadata": {},
   "outputs": [
    {
     "data": {
      "text/plain": [
       "0.001561834445548772"
      ]
     },
     "execution_count": 110,
     "metadata": {},
     "output_type": "execute_result"
    }
   ],
   "source": [
    "11/7043"
   ]
  },
  {
   "cell_type": "markdown",
   "id": "fc3c9ee1-f7ac-4a5e-9790-f03faa0fb48d",
   "metadata": {},
   "source": [
    "DONT on a 0% de toute la quantité disponible, on peut la supprimer car les valeurs manquantes sont très infériuer"
   ]
  },
  {
   "cell_type": "markdown",
   "id": "6f285cef-06f0-4132-a222-88860ed49a7a",
   "metadata": {},
   "source": []
  },
  {
   "cell_type": "code",
   "execution_count": 113,
   "id": "9d029a11-8525-4561-8c34-252732a14852",
   "metadata": {},
   "outputs": [],
   "source": [
    "# suppression des valeurs manquantes\n",
    "data.dropna(inplace=True)"
   ]
  },
  {
   "cell_type": "markdown",
   "id": "c1e2e1d7-877d-420c-a3ee-4e2a97479930",
   "metadata": {},
   "source": [
    "vérifions s'il y' a encore de valeurs manquantes"
   ]
  },
  {
   "cell_type": "code",
   "execution_count": 114,
   "id": "50e3cdcf-9a6e-4f35-b64d-e38779c33a1d",
   "metadata": {},
   "outputs": [
    {
     "data": {
      "text/plain": [
       "customerID          0\n",
       "gender              0\n",
       "SeniorCitizen       0\n",
       "Partner             0\n",
       "Dependents          0\n",
       "tenure              0\n",
       "PhoneService        0\n",
       "MultipleLines       0\n",
       "InternetService     0\n",
       "OnlineSecurity      0\n",
       "OnlineBackup        0\n",
       "DeviceProtection    0\n",
       "TechSupport         0\n",
       "StreamingTV         0\n",
       "StreamingMovies     0\n",
       "Contract            0\n",
       "PaperlessBilling    0\n",
       "PaymentMethod       0\n",
       "MonthlyCharges      0\n",
       "TotalCharges        0\n",
       "Churn               0\n",
       "dtype: int64"
      ]
     },
     "execution_count": 114,
     "metadata": {},
     "output_type": "execute_result"
    }
   ],
   "source": [
    "data.isna().sum()"
   ]
  },
  {
   "cell_type": "markdown",
   "id": "8926c5e8-8b39-46b0-a14d-a3afb3bb7c1e",
   "metadata": {},
   "source": [
    "La deuxième chose que nous allons faire pour préparer les données pour la modélisation est  l'encodage des variables catégorielles"
   ]
  },
  {
   "cell_type": "code",
   "execution_count": 115,
   "id": "0fc68ffd-b400-4522-aa76-5947b014c1d7",
   "metadata": {},
   "outputs": [
    {
     "data": {
      "text/html": [
       "<div>\n",
       "<style scoped>\n",
       "    .dataframe tbody tr th:only-of-type {\n",
       "        vertical-align: middle;\n",
       "    }\n",
       "\n",
       "    .dataframe tbody tr th {\n",
       "        vertical-align: top;\n",
       "    }\n",
       "\n",
       "    .dataframe thead th {\n",
       "        text-align: right;\n",
       "    }\n",
       "</style>\n",
       "<table border=\"1\" class=\"dataframe\">\n",
       "  <thead>\n",
       "    <tr style=\"text-align: right;\">\n",
       "      <th></th>\n",
       "      <th>customerID</th>\n",
       "      <th>gender</th>\n",
       "      <th>SeniorCitizen</th>\n",
       "      <th>Partner</th>\n",
       "      <th>Dependents</th>\n",
       "      <th>tenure</th>\n",
       "      <th>PhoneService</th>\n",
       "      <th>MultipleLines</th>\n",
       "      <th>InternetService</th>\n",
       "      <th>OnlineSecurity</th>\n",
       "      <th>...</th>\n",
       "      <th>DeviceProtection</th>\n",
       "      <th>TechSupport</th>\n",
       "      <th>StreamingTV</th>\n",
       "      <th>StreamingMovies</th>\n",
       "      <th>Contract</th>\n",
       "      <th>PaperlessBilling</th>\n",
       "      <th>PaymentMethod</th>\n",
       "      <th>MonthlyCharges</th>\n",
       "      <th>TotalCharges</th>\n",
       "      <th>Churn</th>\n",
       "    </tr>\n",
       "  </thead>\n",
       "  <tbody>\n",
       "    <tr>\n",
       "      <th>0</th>\n",
       "      <td>7590-VHVEG</td>\n",
       "      <td>Female</td>\n",
       "      <td>0</td>\n",
       "      <td>Yes</td>\n",
       "      <td>No</td>\n",
       "      <td>1</td>\n",
       "      <td>No</td>\n",
       "      <td>No phone service</td>\n",
       "      <td>DSL</td>\n",
       "      <td>No</td>\n",
       "      <td>...</td>\n",
       "      <td>No</td>\n",
       "      <td>No</td>\n",
       "      <td>No</td>\n",
       "      <td>No</td>\n",
       "      <td>Month-to-month</td>\n",
       "      <td>Yes</td>\n",
       "      <td>Electronic check</td>\n",
       "      <td>29.85</td>\n",
       "      <td>29.85</td>\n",
       "      <td>No</td>\n",
       "    </tr>\n",
       "    <tr>\n",
       "      <th>1</th>\n",
       "      <td>5575-GNVDE</td>\n",
       "      <td>Male</td>\n",
       "      <td>0</td>\n",
       "      <td>No</td>\n",
       "      <td>No</td>\n",
       "      <td>34</td>\n",
       "      <td>Yes</td>\n",
       "      <td>No</td>\n",
       "      <td>DSL</td>\n",
       "      <td>Yes</td>\n",
       "      <td>...</td>\n",
       "      <td>Yes</td>\n",
       "      <td>No</td>\n",
       "      <td>No</td>\n",
       "      <td>No</td>\n",
       "      <td>One year</td>\n",
       "      <td>No</td>\n",
       "      <td>Mailed check</td>\n",
       "      <td>56.95</td>\n",
       "      <td>1889.50</td>\n",
       "      <td>No</td>\n",
       "    </tr>\n",
       "    <tr>\n",
       "      <th>2</th>\n",
       "      <td>3668-QPYBK</td>\n",
       "      <td>Male</td>\n",
       "      <td>0</td>\n",
       "      <td>No</td>\n",
       "      <td>No</td>\n",
       "      <td>2</td>\n",
       "      <td>Yes</td>\n",
       "      <td>No</td>\n",
       "      <td>DSL</td>\n",
       "      <td>Yes</td>\n",
       "      <td>...</td>\n",
       "      <td>No</td>\n",
       "      <td>No</td>\n",
       "      <td>No</td>\n",
       "      <td>No</td>\n",
       "      <td>Month-to-month</td>\n",
       "      <td>Yes</td>\n",
       "      <td>Mailed check</td>\n",
       "      <td>53.85</td>\n",
       "      <td>108.15</td>\n",
       "      <td>Yes</td>\n",
       "    </tr>\n",
       "    <tr>\n",
       "      <th>3</th>\n",
       "      <td>7795-CFOCW</td>\n",
       "      <td>Male</td>\n",
       "      <td>0</td>\n",
       "      <td>No</td>\n",
       "      <td>No</td>\n",
       "      <td>45</td>\n",
       "      <td>No</td>\n",
       "      <td>No phone service</td>\n",
       "      <td>DSL</td>\n",
       "      <td>Yes</td>\n",
       "      <td>...</td>\n",
       "      <td>Yes</td>\n",
       "      <td>Yes</td>\n",
       "      <td>No</td>\n",
       "      <td>No</td>\n",
       "      <td>One year</td>\n",
       "      <td>No</td>\n",
       "      <td>Bank transfer (automatic)</td>\n",
       "      <td>42.30</td>\n",
       "      <td>1840.75</td>\n",
       "      <td>No</td>\n",
       "    </tr>\n",
       "    <tr>\n",
       "      <th>4</th>\n",
       "      <td>9237-HQITU</td>\n",
       "      <td>Female</td>\n",
       "      <td>0</td>\n",
       "      <td>No</td>\n",
       "      <td>No</td>\n",
       "      <td>2</td>\n",
       "      <td>Yes</td>\n",
       "      <td>No</td>\n",
       "      <td>Fiber optic</td>\n",
       "      <td>No</td>\n",
       "      <td>...</td>\n",
       "      <td>No</td>\n",
       "      <td>No</td>\n",
       "      <td>No</td>\n",
       "      <td>No</td>\n",
       "      <td>Month-to-month</td>\n",
       "      <td>Yes</td>\n",
       "      <td>Electronic check</td>\n",
       "      <td>70.70</td>\n",
       "      <td>151.65</td>\n",
       "      <td>Yes</td>\n",
       "    </tr>\n",
       "  </tbody>\n",
       "</table>\n",
       "<p>5 rows × 21 columns</p>\n",
       "</div>"
      ],
      "text/plain": [
       "   customerID  gender  SeniorCitizen Partner Dependents  tenure PhoneService  \\\n",
       "0  7590-VHVEG  Female              0     Yes         No       1           No   \n",
       "1  5575-GNVDE    Male              0      No         No      34          Yes   \n",
       "2  3668-QPYBK    Male              0      No         No       2          Yes   \n",
       "3  7795-CFOCW    Male              0      No         No      45           No   \n",
       "4  9237-HQITU  Female              0      No         No       2          Yes   \n",
       "\n",
       "      MultipleLines InternetService OnlineSecurity  ... DeviceProtection  \\\n",
       "0  No phone service             DSL             No  ...               No   \n",
       "1                No             DSL            Yes  ...              Yes   \n",
       "2                No             DSL            Yes  ...               No   \n",
       "3  No phone service             DSL            Yes  ...              Yes   \n",
       "4                No     Fiber optic             No  ...               No   \n",
       "\n",
       "  TechSupport StreamingTV StreamingMovies        Contract PaperlessBilling  \\\n",
       "0          No          No              No  Month-to-month              Yes   \n",
       "1          No          No              No        One year               No   \n",
       "2          No          No              No  Month-to-month              Yes   \n",
       "3         Yes          No              No        One year               No   \n",
       "4          No          No              No  Month-to-month              Yes   \n",
       "\n",
       "               PaymentMethod MonthlyCharges  TotalCharges  Churn  \n",
       "0           Electronic check          29.85         29.85     No  \n",
       "1               Mailed check          56.95       1889.50     No  \n",
       "2               Mailed check          53.85        108.15    Yes  \n",
       "3  Bank transfer (automatic)          42.30       1840.75     No  \n",
       "4           Electronic check          70.70        151.65    Yes  \n",
       "\n",
       "[5 rows x 21 columns]"
      ]
     },
     "execution_count": 115,
     "metadata": {},
     "output_type": "execute_result"
    }
   ],
   "source": [
    "df.head()"
   ]
  },
  {
   "cell_type": "code",
   "execution_count": 117,
   "id": "1423e569-a01d-4abf-91b2-2341d7822b3f",
   "metadata": {},
   "outputs": [
    {
     "data": {
      "text/plain": [
       "['SeniorCitizen',\n",
       " 'Partner',\n",
       " 'Dependents',\n",
       " 'PhoneService',\n",
       " 'PaperlessBilling',\n",
       " 'Churn']"
      ]
     },
     "execution_count": 117,
     "metadata": {},
     "output_type": "execute_result"
    }
   ],
   "source": [
    "# Encodzge des variables binaires\n",
    "data[\"gender\"]=data[\"gender\"].apply(lambda row : 1 if row==\"female\" else 0)\n",
    "\n",
    "binary_columns=data.drop(\"gender\", axis=1).nunique()[data.drop(\"gender\", axis=1).nunique() < 3].keys().to_list()\n",
    "binary_columns"
   ]
  },
  {
   "cell_type": "code",
   "execution_count": 118,
   "id": "f4af19f0-4399-4f98-b114-1ed6be22f660",
   "metadata": {},
   "outputs": [],
   "source": [
    "for column in binary_columns:\n",
    "    data[column]=data[column].apply(lambda row : 1 if row==\"Yes\" else 0)"
   ]
  },
  {
   "cell_type": "code",
   "execution_count": 120,
   "id": "7df126cd-fdb1-461c-a514-2f5ebd0e527f",
   "metadata": {},
   "outputs": [],
   "source": [
    "# Encodage des variables Catégorielle restante: celle qui contient plus de 2 valeurs distinctes\n",
    "\n",
    "remaining_cat_vars=data[categorical_columns].nunique()[data[categorical_columns].nunique() > 2].keys().to_list()\n",
    "\n",
    "remaining_cat_vars_dummies=pd.get_dummies(data=data[remaining_cat_vars], columns=remaining_cat_vars, drop_first=True)"
   ]
  },
  {
   "cell_type": "code",
   "execution_count": 121,
   "id": "baf2a3eb-6365-4141-a91a-a668838a2fff",
   "metadata": {},
   "outputs": [],
   "source": [
    "# Nouvelle dataframe\n",
    "data=pd.concat([ data[\"gender\"], data[binary_columns], remaining_cat_vars_dummies,data[numerical_columns]], axis=1)\n"
   ]
  },
  {
   "cell_type": "code",
   "execution_count": 122,
   "id": "2890b36f-0987-4137-8f5a-d45b97073c09",
   "metadata": {},
   "outputs": [
    {
     "data": {
      "text/html": [
       "<div>\n",
       "<style scoped>\n",
       "    .dataframe tbody tr th:only-of-type {\n",
       "        vertical-align: middle;\n",
       "    }\n",
       "\n",
       "    .dataframe tbody tr th {\n",
       "        vertical-align: top;\n",
       "    }\n",
       "\n",
       "    .dataframe thead th {\n",
       "        text-align: right;\n",
       "    }\n",
       "</style>\n",
       "<table border=\"1\" class=\"dataframe\">\n",
       "  <thead>\n",
       "    <tr style=\"text-align: right;\">\n",
       "      <th></th>\n",
       "      <th>gender</th>\n",
       "      <th>SeniorCitizen</th>\n",
       "      <th>Partner</th>\n",
       "      <th>Dependents</th>\n",
       "      <th>PhoneService</th>\n",
       "      <th>PaperlessBilling</th>\n",
       "      <th>Churn</th>\n",
       "      <th>MultipleLines_No phone service</th>\n",
       "      <th>MultipleLines_Yes</th>\n",
       "      <th>InternetService_Fiber optic</th>\n",
       "      <th>...</th>\n",
       "      <th>StreamingMovies_No internet service</th>\n",
       "      <th>StreamingMovies_Yes</th>\n",
       "      <th>Contract_One year</th>\n",
       "      <th>Contract_Two year</th>\n",
       "      <th>PaymentMethod_Credit card (automatic)</th>\n",
       "      <th>PaymentMethod_Electronic check</th>\n",
       "      <th>PaymentMethod_Mailed check</th>\n",
       "      <th>tenure</th>\n",
       "      <th>MonthlyCharges</th>\n",
       "      <th>TotalCharges</th>\n",
       "    </tr>\n",
       "  </thead>\n",
       "  <tbody>\n",
       "    <tr>\n",
       "      <th>0</th>\n",
       "      <td>0</td>\n",
       "      <td>0</td>\n",
       "      <td>1</td>\n",
       "      <td>0</td>\n",
       "      <td>0</td>\n",
       "      <td>1</td>\n",
       "      <td>0</td>\n",
       "      <td>1</td>\n",
       "      <td>0</td>\n",
       "      <td>0</td>\n",
       "      <td>...</td>\n",
       "      <td>0</td>\n",
       "      <td>0</td>\n",
       "      <td>0</td>\n",
       "      <td>0</td>\n",
       "      <td>0</td>\n",
       "      <td>1</td>\n",
       "      <td>0</td>\n",
       "      <td>1</td>\n",
       "      <td>29.85</td>\n",
       "      <td>29.85</td>\n",
       "    </tr>\n",
       "    <tr>\n",
       "      <th>1</th>\n",
       "      <td>0</td>\n",
       "      <td>0</td>\n",
       "      <td>0</td>\n",
       "      <td>0</td>\n",
       "      <td>1</td>\n",
       "      <td>0</td>\n",
       "      <td>0</td>\n",
       "      <td>0</td>\n",
       "      <td>0</td>\n",
       "      <td>0</td>\n",
       "      <td>...</td>\n",
       "      <td>0</td>\n",
       "      <td>0</td>\n",
       "      <td>1</td>\n",
       "      <td>0</td>\n",
       "      <td>0</td>\n",
       "      <td>0</td>\n",
       "      <td>1</td>\n",
       "      <td>34</td>\n",
       "      <td>56.95</td>\n",
       "      <td>1889.50</td>\n",
       "    </tr>\n",
       "    <tr>\n",
       "      <th>2</th>\n",
       "      <td>0</td>\n",
       "      <td>0</td>\n",
       "      <td>0</td>\n",
       "      <td>0</td>\n",
       "      <td>1</td>\n",
       "      <td>1</td>\n",
       "      <td>1</td>\n",
       "      <td>0</td>\n",
       "      <td>0</td>\n",
       "      <td>0</td>\n",
       "      <td>...</td>\n",
       "      <td>0</td>\n",
       "      <td>0</td>\n",
       "      <td>0</td>\n",
       "      <td>0</td>\n",
       "      <td>0</td>\n",
       "      <td>0</td>\n",
       "      <td>1</td>\n",
       "      <td>2</td>\n",
       "      <td>53.85</td>\n",
       "      <td>108.15</td>\n",
       "    </tr>\n",
       "    <tr>\n",
       "      <th>3</th>\n",
       "      <td>0</td>\n",
       "      <td>0</td>\n",
       "      <td>0</td>\n",
       "      <td>0</td>\n",
       "      <td>0</td>\n",
       "      <td>0</td>\n",
       "      <td>0</td>\n",
       "      <td>1</td>\n",
       "      <td>0</td>\n",
       "      <td>0</td>\n",
       "      <td>...</td>\n",
       "      <td>0</td>\n",
       "      <td>0</td>\n",
       "      <td>1</td>\n",
       "      <td>0</td>\n",
       "      <td>0</td>\n",
       "      <td>0</td>\n",
       "      <td>0</td>\n",
       "      <td>45</td>\n",
       "      <td>42.30</td>\n",
       "      <td>1840.75</td>\n",
       "    </tr>\n",
       "    <tr>\n",
       "      <th>4</th>\n",
       "      <td>0</td>\n",
       "      <td>0</td>\n",
       "      <td>0</td>\n",
       "      <td>0</td>\n",
       "      <td>1</td>\n",
       "      <td>1</td>\n",
       "      <td>1</td>\n",
       "      <td>0</td>\n",
       "      <td>0</td>\n",
       "      <td>1</td>\n",
       "      <td>...</td>\n",
       "      <td>0</td>\n",
       "      <td>0</td>\n",
       "      <td>0</td>\n",
       "      <td>0</td>\n",
       "      <td>0</td>\n",
       "      <td>1</td>\n",
       "      <td>0</td>\n",
       "      <td>2</td>\n",
       "      <td>70.70</td>\n",
       "      <td>151.65</td>\n",
       "    </tr>\n",
       "  </tbody>\n",
       "</table>\n",
       "<p>5 rows × 31 columns</p>\n",
       "</div>"
      ],
      "text/plain": [
       "   gender  SeniorCitizen  Partner  Dependents  PhoneService  PaperlessBilling  \\\n",
       "0       0              0        1           0             0                 1   \n",
       "1       0              0        0           0             1                 0   \n",
       "2       0              0        0           0             1                 1   \n",
       "3       0              0        0           0             0                 0   \n",
       "4       0              0        0           0             1                 1   \n",
       "\n",
       "   Churn  MultipleLines_No phone service  MultipleLines_Yes  \\\n",
       "0      0                               1                  0   \n",
       "1      0                               0                  0   \n",
       "2      1                               0                  0   \n",
       "3      0                               1                  0   \n",
       "4      1                               0                  0   \n",
       "\n",
       "   InternetService_Fiber optic  ...  StreamingMovies_No internet service  \\\n",
       "0                            0  ...                                    0   \n",
       "1                            0  ...                                    0   \n",
       "2                            0  ...                                    0   \n",
       "3                            0  ...                                    0   \n",
       "4                            1  ...                                    0   \n",
       "\n",
       "   StreamingMovies_Yes  Contract_One year  Contract_Two year  \\\n",
       "0                    0                  0                  0   \n",
       "1                    0                  1                  0   \n",
       "2                    0                  0                  0   \n",
       "3                    0                  1                  0   \n",
       "4                    0                  0                  0   \n",
       "\n",
       "   PaymentMethod_Credit card (automatic)  PaymentMethod_Electronic check  \\\n",
       "0                                      0                               1   \n",
       "1                                      0                               0   \n",
       "2                                      0                               0   \n",
       "3                                      0                               0   \n",
       "4                                      0                               1   \n",
       "\n",
       "   PaymentMethod_Mailed check  tenure  MonthlyCharges  TotalCharges  \n",
       "0                           0       1           29.85         29.85  \n",
       "1                           1      34           56.95       1889.50  \n",
       "2                           1       2           53.85        108.15  \n",
       "3                           0      45           42.30       1840.75  \n",
       "4                           0       2           70.70        151.65  \n",
       "\n",
       "[5 rows x 31 columns]"
      ]
     },
     "execution_count": 122,
     "metadata": {},
     "output_type": "execute_result"
    }
   ],
   "source": [
    "# Affichage de la nouvelle dataframe\n",
    "data.head()"
   ]
  },
  {
   "cell_type": "code",
   "execution_count": 123,
   "id": "7ad0d1ee-ed4a-4c77-a022-67f4c8bef3e1",
   "metadata": {},
   "outputs": [
    {
     "data": {
      "text/plain": [
       "(7032, 31)"
      ]
     },
     "execution_count": 123,
     "metadata": {},
     "output_type": "execute_result"
    }
   ],
   "source": [
    "data.shape"
   ]
  },
  {
   "cell_type": "code",
   "execution_count": 131,
   "id": "869bb2e1-42f9-420f-96e1-a9b3eafdd81e",
   "metadata": {},
   "outputs": [
    {
     "name": "stdout",
     "output_type": "stream",
     "text": [
      "<class 'pandas.core.frame.DataFrame'>\n",
      "Int64Index: 7032 entries, 0 to 7042\n",
      "Data columns (total 31 columns):\n",
      " #   Column                                 Non-Null Count  Dtype  \n",
      "---  ------                                 --------------  -----  \n",
      " 0   gender                                 7032 non-null   int64  \n",
      " 1   SeniorCitizen                          7032 non-null   int64  \n",
      " 2   Partner                                7032 non-null   int64  \n",
      " 3   Dependents                             7032 non-null   int64  \n",
      " 4   PhoneService                           7032 non-null   int64  \n",
      " 5   PaperlessBilling                       7032 non-null   int64  \n",
      " 6   Churn                                  7032 non-null   int64  \n",
      " 7   MultipleLines_No phone service         7032 non-null   uint8  \n",
      " 8   MultipleLines_Yes                      7032 non-null   uint8  \n",
      " 9   InternetService_Fiber optic            7032 non-null   uint8  \n",
      " 10  InternetService_No                     7032 non-null   uint8  \n",
      " 11  OnlineSecurity_No internet service     7032 non-null   uint8  \n",
      " 12  OnlineSecurity_Yes                     7032 non-null   uint8  \n",
      " 13  OnlineBackup_No internet service       7032 non-null   uint8  \n",
      " 14  OnlineBackup_Yes                       7032 non-null   uint8  \n",
      " 15  DeviceProtection_No internet service   7032 non-null   uint8  \n",
      " 16  DeviceProtection_Yes                   7032 non-null   uint8  \n",
      " 17  TechSupport_No internet service        7032 non-null   uint8  \n",
      " 18  TechSupport_Yes                        7032 non-null   uint8  \n",
      " 19  StreamingTV_No internet service        7032 non-null   uint8  \n",
      " 20  StreamingTV_Yes                        7032 non-null   uint8  \n",
      " 21  StreamingMovies_No internet service    7032 non-null   uint8  \n",
      " 22  StreamingMovies_Yes                    7032 non-null   uint8  \n",
      " 23  Contract_One year                      7032 non-null   uint8  \n",
      " 24  Contract_Two year                      7032 non-null   uint8  \n",
      " 25  PaymentMethod_Credit card (automatic)  7032 non-null   uint8  \n",
      " 26  PaymentMethod_Electronic check         7032 non-null   uint8  \n",
      " 27  PaymentMethod_Mailed check             7032 non-null   uint8  \n",
      " 28  tenure                                 7032 non-null   int64  \n",
      " 29  MonthlyCharges                         7032 non-null   float64\n",
      " 30  TotalCharges                           7032 non-null   float64\n",
      "dtypes: float64(2), int64(8), uint8(21)\n",
      "memory usage: 748.5 KB\n"
     ]
    }
   ],
   "source": [
    "data.info()"
   ]
  },
  {
   "cell_type": "markdown",
   "id": "ca534a41-37db-436f-a021-4f31bebc6706",
   "metadata": {},
   "source": [
    "Nous avons vu que la variable TotalCharges est très asymétrique ,alors transformons là par une fonction racine carrée"
   ]
  },
  {
   "cell_type": "code",
   "execution_count": 148,
   "id": "22f8c423-b67d-475e-a859-19fce75ee958",
   "metadata": {},
   "outputs": [
    {
     "data": {
      "text/plain": [
       "0       1.003322\n",
       "1       1.007394\n",
       "2       1.004584\n",
       "3       1.007369\n",
       "4       1.004916\n",
       "          ...   \n",
       "7038    1.007446\n",
       "7039    1.008733\n",
       "7040    1.005727\n",
       "7041    1.005607\n",
       "7042    1.008662\n",
       "Name: TotalCharges, Length: 7032, dtype: float64"
      ]
     },
     "execution_count": 148,
     "metadata": {},
     "output_type": "execute_result"
    }
   ],
   "source": [
    "# Transformation de la variable 'TotalCharges'\n",
    "\n",
    "data[\"TotalCharges\"]=np.sqrt(data[\"TotalCharges\"])\n",
    "data[\"TotalCharges\"]"
   ]
  },
  {
   "cell_type": "code",
   "execution_count": 151,
   "id": "5894fd66-64ce-4eeb-93fc-73b33df5a7ae",
   "metadata": {},
   "outputs": [
    {
     "data": {
      "image/png": "[encoded data removed]",
      "text/plain": [
       "<Figure size 640x480 with 1 Axes>"
      ]
     },
     "metadata": {},
     "output_type": "display_data"
    }
   ],
   "source": [
    "# Histogramme de la variable transformée\n",
    "sns.distplot(data[\"TotalCharges\"], kde=False);"
   ]
  },
  {
   "cell_type": "code",
   "execution_count": 152,
   "id": "90cc297c-436c-4b43-8a66-46d8974540ef",
   "metadata": {},
   "outputs": [
    {
     "data": {
      "text/plain": [
       "-0.7509686060271484"
      ]
     },
     "execution_count": 152,
     "metadata": {},
     "output_type": "execute_result"
    }
   ],
   "source": [
    "# Coeffiecient d'asymétrie  de la variable 'TotalCharges' après transformation\n",
    "data[\"TotalCharges\"].skew()"
   ]
  },
  {
   "cell_type": "code",
   "execution_count": 256,
   "id": "9bc252cc-25f2-47ff-b2bf-dc46175b2351",
   "metadata": {},
   "outputs": [],
   "source": [
    "# Données d'entrainement 60%, données de validation 20%, test20%\n",
    "X= data.drop(\"Churn\", axis=1)\n",
    "\n",
    "y= data[\"Churn\"]\n",
    "\n",
    "seed=1111\n",
    "\n",
    "X_train, X_test, y_train, y_test= train_test_split(X, y, test_size=0.4, random_state=seed, stratify= y)\n",
    "\n",
    "X_val, X_test, y_val, y_test= train_test_split(X_test, y_test, test_size=0.5, random_state=seed, stratify= y_test)"
   ]
  },
  {
   "cell_type": "markdown",
   "id": "e9ff6d77-6141-4252-b316-80911c5e4d4f",
   "metadata": {},
   "source": [
    "il faut s'assurer que les proportions des personnes ayant résiliées leur contrat soient les memes dans les différents ensemble de données."
   ]
  },
  {
   "cell_type": "code",
   "execution_count": 257,
   "id": "324e7306-8cb6-4e0b-ae89-a9a61ad5fabf",
   "metadata": {},
   "outputs": [
    {
     "data": {
      "text/plain": [
       "Churn\n",
       "0        0.734215\n",
       "1        0.265785\n",
       "dtype: float64"
      ]
     },
     "execution_count": 257,
     "metadata": {},
     "output_type": "execute_result"
    }
   ],
   "source": [
    "# Fréquence des classes dans y\n",
    "pd.DataFrame(y).value_counts(normalize=True)"
   ]
  },
  {
   "cell_type": "code",
   "execution_count": 258,
   "id": "e3bfaa6a-1766-44d9-9f0c-ffadeff8babb",
   "metadata": {},
   "outputs": [
    {
     "data": {
      "text/plain": [
       "Churn\n",
       "0        0.734297\n",
       "1        0.265703\n",
       "dtype: float64"
      ]
     },
     "execution_count": 258,
     "metadata": {},
     "output_type": "execute_result"
    }
   ],
   "source": [
    "# Fréquence des classes dans y_train\n",
    "pd.DataFrame(y_train).value_counts(normalize=True)\n"
   ]
  },
  {
   "cell_type": "code",
   "execution_count": 259,
   "id": "3ed02529-279b-4f5e-a415-4dae4e870e9a",
   "metadata": {},
   "outputs": [
    {
     "data": {
      "text/plain": [
       "Churn\n",
       "0        0.733997\n",
       "1        0.266003\n",
       "dtype: float64"
      ]
     },
     "execution_count": 259,
     "metadata": {},
     "output_type": "execute_result"
    }
   ],
   "source": [
    "# Fréquence des classes dans y_val\n",
    "pd.DataFrame(y_val).value_counts(normalize=True)"
   ]
  },
  {
   "cell_type": "code",
   "execution_count": 261,
   "id": "b90bc88e-9fb3-446f-b5d4-85ddab2edd5a",
   "metadata": {},
   "outputs": [
    {
     "data": {
      "text/plain": [
       "Churn\n",
       "0        0.734186\n",
       "1        0.265814\n",
       "dtype: float64"
      ]
     },
     "execution_count": 261,
     "metadata": {},
     "output_type": "execute_result"
    }
   ],
   "source": [
    "# Fréquence des classes dans y_test\n",
    "pd.DataFrame(y_test).value_counts(normalize=True)\n"
   ]
  },
  {
   "cell_type": "markdown",
   "id": "1e33bca3-51cd-4c11-8d71-7106adb6d462",
   "metadata": {},
   "source": [
    "Attaquons nous maintenant au problème de déséquilibre de classe.\n",
    "\n",
    "Lorsqu'il y'a une très grande différence entre le nombre d'observation dans chaque catégorie de la variable à prédire cela peut entrainer \n",
    "des erreurs de modélisation.\n",
    "\n",
    "Dans notre cas ici , il y'a un peu plus de 73% de personnes qui n'ont pas résilié leur abonnement contre un plus de 26% qui ont résilié leur abonnement.Il y'a donc un déséquilibre de classe, on peut donc utiliser le réechantillonnage pour créer plus d'équilibre entre les catégories de la variable cible.Soit on créee plus d'observation dans la classe minoritaire(modalité 1) c'est-à-dire on fait le sur-échantillonnage, soit on diminue les observations de la classe majoritaire(sous-échantillonnage)\n"
   ]
  },
  {
   "cell_type": "code",
   "execution_count": 262,
   "id": "b3bc70dd-c671-4d5d-9d4d-779f3aa1d324",
   "metadata": {},
   "outputs": [
    {
     "data": {
      "text/html": [
       "<div>\n",
       "<style scoped>\n",
       "    .dataframe tbody tr th:only-of-type {\n",
       "        vertical-align: middle;\n",
       "    }\n",
       "\n",
       "    .dataframe tbody tr th {\n",
       "        vertical-align: top;\n",
       "    }\n",
       "\n",
       "    .dataframe thead th {\n",
       "        text-align: right;\n",
       "    }\n",
       "</style>\n",
       "<table border=\"1\" class=\"dataframe\">\n",
       "  <thead>\n",
       "    <tr style=\"text-align: right;\">\n",
       "      <th></th>\n",
       "      <th>gender</th>\n",
       "      <th>SeniorCitizen</th>\n",
       "      <th>Partner</th>\n",
       "      <th>Dependents</th>\n",
       "      <th>PhoneService</th>\n",
       "      <th>PaperlessBilling</th>\n",
       "      <th>MultipleLines_No phone service</th>\n",
       "      <th>MultipleLines_Yes</th>\n",
       "      <th>InternetService_Fiber optic</th>\n",
       "      <th>InternetService_No</th>\n",
       "      <th>...</th>\n",
       "      <th>StreamingMovies_Yes</th>\n",
       "      <th>Contract_One year</th>\n",
       "      <th>Contract_Two year</th>\n",
       "      <th>PaymentMethod_Credit card (automatic)</th>\n",
       "      <th>PaymentMethod_Electronic check</th>\n",
       "      <th>PaymentMethod_Mailed check</th>\n",
       "      <th>tenure</th>\n",
       "      <th>MonthlyCharges</th>\n",
       "      <th>TotalCharges</th>\n",
       "      <th>Churn</th>\n",
       "    </tr>\n",
       "  </thead>\n",
       "  <tbody>\n",
       "    <tr>\n",
       "      <th>6406</th>\n",
       "      <td>0</td>\n",
       "      <td>0</td>\n",
       "      <td>0</td>\n",
       "      <td>0</td>\n",
       "      <td>0</td>\n",
       "      <td>1</td>\n",
       "      <td>1</td>\n",
       "      <td>0</td>\n",
       "      <td>0</td>\n",
       "      <td>0</td>\n",
       "      <td>...</td>\n",
       "      <td>1</td>\n",
       "      <td>0</td>\n",
       "      <td>0</td>\n",
       "      <td>1</td>\n",
       "      <td>0</td>\n",
       "      <td>0</td>\n",
       "      <td>39</td>\n",
       "      <td>50.65</td>\n",
       "      <td>1.007403</td>\n",
       "      <td>0</td>\n",
       "    </tr>\n",
       "    <tr>\n",
       "      <th>6124</th>\n",
       "      <td>0</td>\n",
       "      <td>0</td>\n",
       "      <td>1</td>\n",
       "      <td>1</td>\n",
       "      <td>1</td>\n",
       "      <td>1</td>\n",
       "      <td>0</td>\n",
       "      <td>0</td>\n",
       "      <td>0</td>\n",
       "      <td>0</td>\n",
       "      <td>...</td>\n",
       "      <td>0</td>\n",
       "      <td>1</td>\n",
       "      <td>0</td>\n",
       "      <td>0</td>\n",
       "      <td>0</td>\n",
       "      <td>1</td>\n",
       "      <td>57</td>\n",
       "      <td>59.30</td>\n",
       "      <td>1.007935</td>\n",
       "      <td>0</td>\n",
       "    </tr>\n",
       "    <tr>\n",
       "      <th>4051</th>\n",
       "      <td>0</td>\n",
       "      <td>0</td>\n",
       "      <td>1</td>\n",
       "      <td>0</td>\n",
       "      <td>1</td>\n",
       "      <td>1</td>\n",
       "      <td>0</td>\n",
       "      <td>1</td>\n",
       "      <td>1</td>\n",
       "      <td>0</td>\n",
       "      <td>...</td>\n",
       "      <td>1</td>\n",
       "      <td>0</td>\n",
       "      <td>1</td>\n",
       "      <td>1</td>\n",
       "      <td>0</td>\n",
       "      <td>0</td>\n",
       "      <td>72</td>\n",
       "      <td>97.70</td>\n",
       "      <td>1.008665</td>\n",
       "      <td>0</td>\n",
       "    </tr>\n",
       "    <tr>\n",
       "      <th>3839</th>\n",
       "      <td>0</td>\n",
       "      <td>0</td>\n",
       "      <td>1</td>\n",
       "      <td>1</td>\n",
       "      <td>1</td>\n",
       "      <td>0</td>\n",
       "      <td>0</td>\n",
       "      <td>0</td>\n",
       "      <td>0</td>\n",
       "      <td>1</td>\n",
       "      <td>...</td>\n",
       "      <td>0</td>\n",
       "      <td>0</td>\n",
       "      <td>0</td>\n",
       "      <td>0</td>\n",
       "      <td>0</td>\n",
       "      <td>1</td>\n",
       "      <td>15</td>\n",
       "      <td>20.05</td>\n",
       "      <td>1.005533</td>\n",
       "      <td>0</td>\n",
       "    </tr>\n",
       "    <tr>\n",
       "      <th>2523</th>\n",
       "      <td>0</td>\n",
       "      <td>0</td>\n",
       "      <td>1</td>\n",
       "      <td>1</td>\n",
       "      <td>1</td>\n",
       "      <td>0</td>\n",
       "      <td>0</td>\n",
       "      <td>0</td>\n",
       "      <td>0</td>\n",
       "      <td>1</td>\n",
       "      <td>...</td>\n",
       "      <td>0</td>\n",
       "      <td>0</td>\n",
       "      <td>1</td>\n",
       "      <td>1</td>\n",
       "      <td>0</td>\n",
       "      <td>0</td>\n",
       "      <td>47</td>\n",
       "      <td>20.25</td>\n",
       "      <td>1.006636</td>\n",
       "      <td>0</td>\n",
       "    </tr>\n",
       "    <tr>\n",
       "      <th>...</th>\n",
       "      <td>...</td>\n",
       "      <td>...</td>\n",
       "      <td>...</td>\n",
       "      <td>...</td>\n",
       "      <td>...</td>\n",
       "      <td>...</td>\n",
       "      <td>...</td>\n",
       "      <td>...</td>\n",
       "      <td>...</td>\n",
       "      <td>...</td>\n",
       "      <td>...</td>\n",
       "      <td>...</td>\n",
       "      <td>...</td>\n",
       "      <td>...</td>\n",
       "      <td>...</td>\n",
       "      <td>...</td>\n",
       "      <td>...</td>\n",
       "      <td>...</td>\n",
       "      <td>...</td>\n",
       "      <td>...</td>\n",
       "      <td>...</td>\n",
       "    </tr>\n",
       "    <tr>\n",
       "      <th>5872</th>\n",
       "      <td>0</td>\n",
       "      <td>0</td>\n",
       "      <td>0</td>\n",
       "      <td>1</td>\n",
       "      <td>1</td>\n",
       "      <td>1</td>\n",
       "      <td>0</td>\n",
       "      <td>0</td>\n",
       "      <td>1</td>\n",
       "      <td>0</td>\n",
       "      <td>...</td>\n",
       "      <td>0</td>\n",
       "      <td>0</td>\n",
       "      <td>0</td>\n",
       "      <td>0</td>\n",
       "      <td>1</td>\n",
       "      <td>0</td>\n",
       "      <td>1</td>\n",
       "      <td>69.65</td>\n",
       "      <td>1.004153</td>\n",
       "      <td>1</td>\n",
       "    </tr>\n",
       "    <tr>\n",
       "      <th>6040</th>\n",
       "      <td>0</td>\n",
       "      <td>0</td>\n",
       "      <td>0</td>\n",
       "      <td>0</td>\n",
       "      <td>1</td>\n",
       "      <td>0</td>\n",
       "      <td>0</td>\n",
       "      <td>0</td>\n",
       "      <td>1</td>\n",
       "      <td>0</td>\n",
       "      <td>...</td>\n",
       "      <td>0</td>\n",
       "      <td>0</td>\n",
       "      <td>0</td>\n",
       "      <td>0</td>\n",
       "      <td>0</td>\n",
       "      <td>1</td>\n",
       "      <td>1</td>\n",
       "      <td>70.75</td>\n",
       "      <td>1.004168</td>\n",
       "      <td>1</td>\n",
       "    </tr>\n",
       "    <tr>\n",
       "      <th>4212</th>\n",
       "      <td>0</td>\n",
       "      <td>0</td>\n",
       "      <td>0</td>\n",
       "      <td>0</td>\n",
       "      <td>1</td>\n",
       "      <td>0</td>\n",
       "      <td>0</td>\n",
       "      <td>0</td>\n",
       "      <td>1</td>\n",
       "      <td>0</td>\n",
       "      <td>...</td>\n",
       "      <td>1</td>\n",
       "      <td>0</td>\n",
       "      <td>0</td>\n",
       "      <td>0</td>\n",
       "      <td>1</td>\n",
       "      <td>0</td>\n",
       "      <td>1</td>\n",
       "      <td>90.60</td>\n",
       "      <td>1.004411</td>\n",
       "      <td>1</td>\n",
       "    </tr>\n",
       "    <tr>\n",
       "      <th>508</th>\n",
       "      <td>0</td>\n",
       "      <td>0</td>\n",
       "      <td>1</td>\n",
       "      <td>1</td>\n",
       "      <td>1</td>\n",
       "      <td>1</td>\n",
       "      <td>0</td>\n",
       "      <td>1</td>\n",
       "      <td>1</td>\n",
       "      <td>0</td>\n",
       "      <td>...</td>\n",
       "      <td>0</td>\n",
       "      <td>0</td>\n",
       "      <td>0</td>\n",
       "      <td>0</td>\n",
       "      <td>1</td>\n",
       "      <td>0</td>\n",
       "      <td>6</td>\n",
       "      <td>80.50</td>\n",
       "      <td>1.006093</td>\n",
       "      <td>1</td>\n",
       "    </tr>\n",
       "    <tr>\n",
       "      <th>1056</th>\n",
       "      <td>0</td>\n",
       "      <td>0</td>\n",
       "      <td>0</td>\n",
       "      <td>0</td>\n",
       "      <td>1</td>\n",
       "      <td>1</td>\n",
       "      <td>0</td>\n",
       "      <td>0</td>\n",
       "      <td>1</td>\n",
       "      <td>0</td>\n",
       "      <td>...</td>\n",
       "      <td>1</td>\n",
       "      <td>0</td>\n",
       "      <td>0</td>\n",
       "      <td>0</td>\n",
       "      <td>1</td>\n",
       "      <td>0</td>\n",
       "      <td>5</td>\n",
       "      <td>80.00</td>\n",
       "      <td>1.005898</td>\n",
       "      <td>1</td>\n",
       "    </tr>\n",
       "  </tbody>\n",
       "</table>\n",
       "<p>6196 rows × 31 columns</p>\n",
       "</div>"
      ],
      "text/plain": [
       "      gender  SeniorCitizen  Partner  Dependents  PhoneService  \\\n",
       "6406       0              0        0           0             0   \n",
       "6124       0              0        1           1             1   \n",
       "4051       0              0        1           0             1   \n",
       "3839       0              0        1           1             1   \n",
       "2523       0              0        1           1             1   \n",
       "...      ...            ...      ...         ...           ...   \n",
       "5872       0              0        0           1             1   \n",
       "6040       0              0        0           0             1   \n",
       "4212       0              0        0           0             1   \n",
       "508        0              0        1           1             1   \n",
       "1056       0              0        0           0             1   \n",
       "\n",
       "      PaperlessBilling  MultipleLines_No phone service  MultipleLines_Yes  \\\n",
       "6406                 1                               1                  0   \n",
       "6124                 1                               0                  0   \n",
       "4051                 1                               0                  1   \n",
       "3839                 0                               0                  0   \n",
       "2523                 0                               0                  0   \n",
       "...                ...                             ...                ...   \n",
       "5872                 1                               0                  0   \n",
       "6040                 0                               0                  0   \n",
       "4212                 0                               0                  0   \n",
       "508                  1                               0                  1   \n",
       "1056                 1                               0                  0   \n",
       "\n",
       "      InternetService_Fiber optic  InternetService_No  ...  \\\n",
       "6406                            0                   0  ...   \n",
       "6124                            0                   0  ...   \n",
       "4051                            1                   0  ...   \n",
       "3839                            0                   1  ...   \n",
       "2523                            0                   1  ...   \n",
       "...                           ...                 ...  ...   \n",
       "5872                            1                   0  ...   \n",
       "6040                            1                   0  ...   \n",
       "4212                            1                   0  ...   \n",
       "508                             1                   0  ...   \n",
       "1056                            1                   0  ...   \n",
       "\n",
       "      StreamingMovies_Yes  Contract_One year  Contract_Two year  \\\n",
       "6406                    1                  0                  0   \n",
       "6124                    0                  1                  0   \n",
       "4051                    1                  0                  1   \n",
       "3839                    0                  0                  0   \n",
       "2523                    0                  0                  1   \n",
       "...                   ...                ...                ...   \n",
       "5872                    0                  0                  0   \n",
       "6040                    0                  0                  0   \n",
       "4212                    1                  0                  0   \n",
       "508                     0                  0                  0   \n",
       "1056                    1                  0                  0   \n",
       "\n",
       "      PaymentMethod_Credit card (automatic)  PaymentMethod_Electronic check  \\\n",
       "6406                                      1                               0   \n",
       "6124                                      0                               0   \n",
       "4051                                      1                               0   \n",
       "3839                                      0                               0   \n",
       "2523                                      1                               0   \n",
       "...                                     ...                             ...   \n",
       "5872                                      0                               1   \n",
       "6040                                      0                               0   \n",
       "4212                                      0                               1   \n",
       "508                                       0                               1   \n",
       "1056                                      0                               1   \n",
       "\n",
       "      PaymentMethod_Mailed check  tenure  MonthlyCharges  TotalCharges  Churn  \n",
       "6406                           0      39           50.65      1.007403      0  \n",
       "6124                           1      57           59.30      1.007935      0  \n",
       "4051                           0      72           97.70      1.008665      0  \n",
       "3839                           1      15           20.05      1.005533      0  \n",
       "2523                           0      47           20.25      1.006636      0  \n",
       "...                          ...     ...             ...           ...    ...  \n",
       "5872                           0       1           69.65      1.004153      1  \n",
       "6040                           1       1           70.75      1.004168      1  \n",
       "4212                           0       1           90.60      1.004411      1  \n",
       "508                            0       6           80.50      1.006093      1  \n",
       "1056                           0       5           80.00      1.005898      1  \n",
       "\n",
       "[6196 rows x 31 columns]"
      ]
     },
     "execution_count": 262,
     "metadata": {},
     "output_type": "execute_result"
    }
   ],
   "source": [
    "#  résolution du problème de désèquilibre de classe: Méthode de sur-échantionnage de la classse minoritaire\n",
    "X2= X_train\n",
    "\n",
    "X2[\"Churn\"]= y_train.values\n",
    "\n",
    "minority= X2[X2.Churn == 1]\n",
    "\n",
    "majority= X2[X2.Churn == 0]\n",
    "\n",
    "minority_upsampled = resample(minority, replace=True, n_samples= len(majority), random_state= seed)\n",
    "                             \n",
    "upsampled = pd.concat([majority, minority_upsampled], axis=0)\n",
    "upsampled                             \n",
    "                             "
   ]
  },
  {
   "cell_type": "code",
   "execution_count": 263,
   "id": "cecb7521-7284-4df0-ab9b-bc1cb991258f",
   "metadata": {},
   "outputs": [
    {
     "data": {
      "text/plain": [
       "0    0.5\n",
       "1    0.5\n",
       "Name: Churn, dtype: float64"
      ]
     },
     "execution_count": 263,
     "metadata": {},
     "output_type": "execute_result"
    }
   ],
   "source": [
    "# Vérification\n",
    "upsampled[\"Churn\"].value_counts(normalize=True)"
   ]
  },
  {
   "cell_type": "markdown",
   "id": "27130f88-daf5-4600-9fcc-320026eba116",
   "metadata": {},
   "source": [
    "notre variable ciable est déja équilibré"
   ]
  },
  {
   "cell_type": "code",
   "execution_count": 264,
   "id": "673722e7-66f7-450d-8d39-b601f33b4363",
   "metadata": {},
   "outputs": [],
   "source": [
    "# Données d'entrainnement sur la base de la méthode se sur-échantillonnage de la classe minoritaire\n",
    "\n",
    "X_train_up= upsampled.drop(\"Churn\", axis=1)\n",
    "\n",
    "y_train_up= upsampled[\"Churn\"]"
   ]
  },
  {
   "cell_type": "code",
   "execution_count": 265,
   "id": "0b4abb27-7abf-47b1-bd18-636c6e9cabff",
   "metadata": {},
   "outputs": [
    {
     "data": {
      "text/html": [
       "<div>\n",
       "<style scoped>\n",
       "    .dataframe tbody tr th:only-of-type {\n",
       "        vertical-align: middle;\n",
       "    }\n",
       "\n",
       "    .dataframe tbody tr th {\n",
       "        vertical-align: top;\n",
       "    }\n",
       "\n",
       "    .dataframe thead th {\n",
       "        text-align: right;\n",
       "    }\n",
       "</style>\n",
       "<table border=\"1\" class=\"dataframe\">\n",
       "  <thead>\n",
       "    <tr style=\"text-align: right;\">\n",
       "      <th></th>\n",
       "      <th>gender</th>\n",
       "      <th>SeniorCitizen</th>\n",
       "      <th>Partner</th>\n",
       "      <th>Dependents</th>\n",
       "      <th>PhoneService</th>\n",
       "      <th>PaperlessBilling</th>\n",
       "      <th>MultipleLines_No phone service</th>\n",
       "      <th>MultipleLines_Yes</th>\n",
       "      <th>InternetService_Fiber optic</th>\n",
       "      <th>InternetService_No</th>\n",
       "      <th>...</th>\n",
       "      <th>StreamingMovies_Yes</th>\n",
       "      <th>Contract_One year</th>\n",
       "      <th>Contract_Two year</th>\n",
       "      <th>PaymentMethod_Credit card (automatic)</th>\n",
       "      <th>PaymentMethod_Electronic check</th>\n",
       "      <th>PaymentMethod_Mailed check</th>\n",
       "      <th>tenure</th>\n",
       "      <th>MonthlyCharges</th>\n",
       "      <th>TotalCharges</th>\n",
       "      <th>Churn</th>\n",
       "    </tr>\n",
       "  </thead>\n",
       "  <tbody>\n",
       "    <tr>\n",
       "      <th>6908</th>\n",
       "      <td>0</td>\n",
       "      <td>0</td>\n",
       "      <td>0</td>\n",
       "      <td>1</td>\n",
       "      <td>1</td>\n",
       "      <td>0</td>\n",
       "      <td>0</td>\n",
       "      <td>0</td>\n",
       "      <td>0</td>\n",
       "      <td>0</td>\n",
       "      <td>...</td>\n",
       "      <td>0</td>\n",
       "      <td>0</td>\n",
       "      <td>0</td>\n",
       "      <td>0</td>\n",
       "      <td>1</td>\n",
       "      <td>0</td>\n",
       "      <td>9</td>\n",
       "      <td>55.35</td>\n",
       "      <td>1.005983</td>\n",
       "      <td>1</td>\n",
       "    </tr>\n",
       "    <tr>\n",
       "      <th>1530</th>\n",
       "      <td>0</td>\n",
       "      <td>0</td>\n",
       "      <td>1</td>\n",
       "      <td>1</td>\n",
       "      <td>1</td>\n",
       "      <td>0</td>\n",
       "      <td>0</td>\n",
       "      <td>0</td>\n",
       "      <td>1</td>\n",
       "      <td>0</td>\n",
       "      <td>...</td>\n",
       "      <td>1</td>\n",
       "      <td>0</td>\n",
       "      <td>0</td>\n",
       "      <td>1</td>\n",
       "      <td>0</td>\n",
       "      <td>0</td>\n",
       "      <td>2</td>\n",
       "      <td>90.00</td>\n",
       "      <td>1.005137</td>\n",
       "      <td>1</td>\n",
       "    </tr>\n",
       "    <tr>\n",
       "      <th>3617</th>\n",
       "      <td>0</td>\n",
       "      <td>0</td>\n",
       "      <td>1</td>\n",
       "      <td>0</td>\n",
       "      <td>0</td>\n",
       "      <td>1</td>\n",
       "      <td>1</td>\n",
       "      <td>0</td>\n",
       "      <td>0</td>\n",
       "      <td>0</td>\n",
       "      <td>...</td>\n",
       "      <td>1</td>\n",
       "      <td>0</td>\n",
       "      <td>0</td>\n",
       "      <td>0</td>\n",
       "      <td>1</td>\n",
       "      <td>0</td>\n",
       "      <td>18</td>\n",
       "      <td>48.35</td>\n",
       "      <td>1.006562</td>\n",
       "      <td>1</td>\n",
       "    </tr>\n",
       "    <tr>\n",
       "      <th>6800</th>\n",
       "      <td>0</td>\n",
       "      <td>0</td>\n",
       "      <td>1</td>\n",
       "      <td>0</td>\n",
       "      <td>1</td>\n",
       "      <td>0</td>\n",
       "      <td>0</td>\n",
       "      <td>0</td>\n",
       "      <td>1</td>\n",
       "      <td>0</td>\n",
       "      <td>...</td>\n",
       "      <td>1</td>\n",
       "      <td>1</td>\n",
       "      <td>0</td>\n",
       "      <td>0</td>\n",
       "      <td>0</td>\n",
       "      <td>1</td>\n",
       "      <td>14</td>\n",
       "      <td>105.95</td>\n",
       "      <td>1.007063</td>\n",
       "      <td>1</td>\n",
       "    </tr>\n",
       "    <tr>\n",
       "      <th>3772</th>\n",
       "      <td>0</td>\n",
       "      <td>0</td>\n",
       "      <td>1</td>\n",
       "      <td>0</td>\n",
       "      <td>1</td>\n",
       "      <td>1</td>\n",
       "      <td>0</td>\n",
       "      <td>0</td>\n",
       "      <td>1</td>\n",
       "      <td>0</td>\n",
       "      <td>...</td>\n",
       "      <td>1</td>\n",
       "      <td>0</td>\n",
       "      <td>0</td>\n",
       "      <td>0</td>\n",
       "      <td>1</td>\n",
       "      <td>0</td>\n",
       "      <td>1</td>\n",
       "      <td>95.00</td>\n",
       "      <td>1.004457</td>\n",
       "      <td>1</td>\n",
       "    </tr>\n",
       "    <tr>\n",
       "      <th>...</th>\n",
       "      <td>...</td>\n",
       "      <td>...</td>\n",
       "      <td>...</td>\n",
       "      <td>...</td>\n",
       "      <td>...</td>\n",
       "      <td>...</td>\n",
       "      <td>...</td>\n",
       "      <td>...</td>\n",
       "      <td>...</td>\n",
       "      <td>...</td>\n",
       "      <td>...</td>\n",
       "      <td>...</td>\n",
       "      <td>...</td>\n",
       "      <td>...</td>\n",
       "      <td>...</td>\n",
       "      <td>...</td>\n",
       "      <td>...</td>\n",
       "      <td>...</td>\n",
       "      <td>...</td>\n",
       "      <td>...</td>\n",
       "      <td>...</td>\n",
       "    </tr>\n",
       "    <tr>\n",
       "      <th>6303</th>\n",
       "      <td>0</td>\n",
       "      <td>0</td>\n",
       "      <td>1</td>\n",
       "      <td>0</td>\n",
       "      <td>1</td>\n",
       "      <td>0</td>\n",
       "      <td>0</td>\n",
       "      <td>1</td>\n",
       "      <td>1</td>\n",
       "      <td>0</td>\n",
       "      <td>...</td>\n",
       "      <td>1</td>\n",
       "      <td>0</td>\n",
       "      <td>1</td>\n",
       "      <td>0</td>\n",
       "      <td>1</td>\n",
       "      <td>0</td>\n",
       "      <td>71</td>\n",
       "      <td>109.25</td>\n",
       "      <td>1.008779</td>\n",
       "      <td>0</td>\n",
       "    </tr>\n",
       "    <tr>\n",
       "      <th>3663</th>\n",
       "      <td>0</td>\n",
       "      <td>0</td>\n",
       "      <td>0</td>\n",
       "      <td>0</td>\n",
       "      <td>1</td>\n",
       "      <td>1</td>\n",
       "      <td>0</td>\n",
       "      <td>0</td>\n",
       "      <td>1</td>\n",
       "      <td>0</td>\n",
       "      <td>...</td>\n",
       "      <td>1</td>\n",
       "      <td>0</td>\n",
       "      <td>0</td>\n",
       "      <td>0</td>\n",
       "      <td>0</td>\n",
       "      <td>1</td>\n",
       "      <td>9</td>\n",
       "      <td>88.40</td>\n",
       "      <td>1.006535</td>\n",
       "      <td>0</td>\n",
       "    </tr>\n",
       "    <tr>\n",
       "      <th>5033</th>\n",
       "      <td>0</td>\n",
       "      <td>0</td>\n",
       "      <td>0</td>\n",
       "      <td>0</td>\n",
       "      <td>1</td>\n",
       "      <td>1</td>\n",
       "      <td>0</td>\n",
       "      <td>0</td>\n",
       "      <td>0</td>\n",
       "      <td>1</td>\n",
       "      <td>...</td>\n",
       "      <td>0</td>\n",
       "      <td>0</td>\n",
       "      <td>0</td>\n",
       "      <td>0</td>\n",
       "      <td>0</td>\n",
       "      <td>1</td>\n",
       "      <td>1</td>\n",
       "      <td>19.40</td>\n",
       "      <td>1.002900</td>\n",
       "      <td>0</td>\n",
       "    </tr>\n",
       "    <tr>\n",
       "      <th>2183</th>\n",
       "      <td>0</td>\n",
       "      <td>0</td>\n",
       "      <td>0</td>\n",
       "      <td>0</td>\n",
       "      <td>1</td>\n",
       "      <td>1</td>\n",
       "      <td>0</td>\n",
       "      <td>0</td>\n",
       "      <td>0</td>\n",
       "      <td>0</td>\n",
       "      <td>...</td>\n",
       "      <td>0</td>\n",
       "      <td>0</td>\n",
       "      <td>0</td>\n",
       "      <td>1</td>\n",
       "      <td>0</td>\n",
       "      <td>0</td>\n",
       "      <td>2</td>\n",
       "      <td>50.20</td>\n",
       "      <td>1.004594</td>\n",
       "      <td>0</td>\n",
       "    </tr>\n",
       "    <tr>\n",
       "      <th>2403</th>\n",
       "      <td>0</td>\n",
       "      <td>0</td>\n",
       "      <td>1</td>\n",
       "      <td>0</td>\n",
       "      <td>1</td>\n",
       "      <td>1</td>\n",
       "      <td>0</td>\n",
       "      <td>0</td>\n",
       "      <td>0</td>\n",
       "      <td>0</td>\n",
       "      <td>...</td>\n",
       "      <td>1</td>\n",
       "      <td>1</td>\n",
       "      <td>0</td>\n",
       "      <td>0</td>\n",
       "      <td>0</td>\n",
       "      <td>0</td>\n",
       "      <td>71</td>\n",
       "      <td>84.80</td>\n",
       "      <td>1.008539</td>\n",
       "      <td>0</td>\n",
       "    </tr>\n",
       "  </tbody>\n",
       "</table>\n",
       "<p>2242 rows × 31 columns</p>\n",
       "</div>"
      ],
      "text/plain": [
       "      gender  SeniorCitizen  Partner  Dependents  PhoneService  \\\n",
       "6908       0              0        0           1             1   \n",
       "1530       0              0        1           1             1   \n",
       "3617       0              0        1           0             0   \n",
       "6800       0              0        1           0             1   \n",
       "3772       0              0        1           0             1   \n",
       "...      ...            ...      ...         ...           ...   \n",
       "6303       0              0        1           0             1   \n",
       "3663       0              0        0           0             1   \n",
       "5033       0              0        0           0             1   \n",
       "2183       0              0        0           0             1   \n",
       "2403       0              0        1           0             1   \n",
       "\n",
       "      PaperlessBilling  MultipleLines_No phone service  MultipleLines_Yes  \\\n",
       "6908                 0                               0                  0   \n",
       "1530                 0                               0                  0   \n",
       "3617                 1                               1                  0   \n",
       "6800                 0                               0                  0   \n",
       "3772                 1                               0                  0   \n",
       "...                ...                             ...                ...   \n",
       "6303                 0                               0                  1   \n",
       "3663                 1                               0                  0   \n",
       "5033                 1                               0                  0   \n",
       "2183                 1                               0                  0   \n",
       "2403                 1                               0                  0   \n",
       "\n",
       "      InternetService_Fiber optic  InternetService_No  ...  \\\n",
       "6908                            0                   0  ...   \n",
       "1530                            1                   0  ...   \n",
       "3617                            0                   0  ...   \n",
       "6800                            1                   0  ...   \n",
       "3772                            1                   0  ...   \n",
       "...                           ...                 ...  ...   \n",
       "6303                            1                   0  ...   \n",
       "3663                            1                   0  ...   \n",
       "5033                            0                   1  ...   \n",
       "2183                            0                   0  ...   \n",
       "2403                            0                   0  ...   \n",
       "\n",
       "      StreamingMovies_Yes  Contract_One year  Contract_Two year  \\\n",
       "6908                    0                  0                  0   \n",
       "1530                    1                  0                  0   \n",
       "3617                    1                  0                  0   \n",
       "6800                    1                  1                  0   \n",
       "3772                    1                  0                  0   \n",
       "...                   ...                ...                ...   \n",
       "6303                    1                  0                  1   \n",
       "3663                    1                  0                  0   \n",
       "5033                    0                  0                  0   \n",
       "2183                    0                  0                  0   \n",
       "2403                    1                  1                  0   \n",
       "\n",
       "      PaymentMethod_Credit card (automatic)  PaymentMethod_Electronic check  \\\n",
       "6908                                      0                               1   \n",
       "1530                                      1                               0   \n",
       "3617                                      0                               1   \n",
       "6800                                      0                               0   \n",
       "3772                                      0                               1   \n",
       "...                                     ...                             ...   \n",
       "6303                                      0                               1   \n",
       "3663                                      0                               0   \n",
       "5033                                      0                               0   \n",
       "2183                                      1                               0   \n",
       "2403                                      0                               0   \n",
       "\n",
       "      PaymentMethod_Mailed check  tenure  MonthlyCharges  TotalCharges  Churn  \n",
       "6908                           0       9           55.35      1.005983      1  \n",
       "1530                           0       2           90.00      1.005137      1  \n",
       "3617                           0      18           48.35      1.006562      1  \n",
       "6800                           1      14          105.95      1.007063      1  \n",
       "3772                           0       1           95.00      1.004457      1  \n",
       "...                          ...     ...             ...           ...    ...  \n",
       "6303                           0      71          109.25      1.008779      0  \n",
       "3663                           1       9           88.40      1.006535      0  \n",
       "5033                           1       1           19.40      1.002900      0  \n",
       "2183                           0       2           50.20      1.004594      0  \n",
       "2403                           0      71           84.80      1.008539      0  \n",
       "\n",
       "[2242 rows x 31 columns]"
      ]
     },
     "execution_count": 265,
     "metadata": {},
     "output_type": "execute_result"
    }
   ],
   "source": [
    "#  résolution du problème de désèquilibre de classe: Méthode de sous-échantionnage de la classse majoritaire\n",
    "\n",
    "majority_downsampled= resample(majority, replace=False, n_samples= len(minority), random_state= seed)\n",
    "\n",
    "downsampled=pd.concat([minority, majority_downsampled])\n",
    "\n",
    "downsampled"
   ]
  },
  {
   "cell_type": "code",
   "execution_count": 266,
   "id": "817204bb-b1ba-474a-b1d6-182816d1db2b",
   "metadata": {},
   "outputs": [],
   "source": [
    "X_train_down= downsampled.drop(\"Churn\", axis=1)\n",
    "\n",
    "y_train_down= downsampled[\"Churn\"]"
   ]
  },
  {
   "cell_type": "code",
   "execution_count": 267,
   "id": "75581c00-ccb4-4dbc-b756-acf59ee55508",
   "metadata": {},
   "outputs": [],
   "source": [
    "# y_train et X_train\n",
    "\n",
    "y_train= X_train[\"Churn\"]\n",
    "\n",
    "X_train=X_train.drop(\"Churn\", axis=1)"
   ]
  },
  {
   "cell_type": "code",
   "execution_count": 268,
   "id": "2d9d382a-c0de-4b4e-8bef-387c1d036fa9",
   "metadata": {},
   "outputs": [],
   "source": [
    "# Définition des données d'entrainement\n",
    "# choix possible: ( y_train et X_train), (X_train_up et y_train_up) et (X_train_down et y_train_down)\n",
    "\n",
    "train_features= X_train_up\n",
    "\n",
    "train_labels= y_train_up"
   ]
  },
  {
   "cell_type": "markdown",
   "id": "f44a4628-0677-4f6d-8bf6-f9429424d91a",
   "metadata": {},
   "source": [
    "Passons finalement la normalisation des données\n"
   ]
  },
  {
   "cell_type": "code",
   "execution_count": 269,
   "id": "277134a0-e028-4e66-aa14-1494d180fda6",
   "metadata": {},
   "outputs": [
    {
     "data": {
      "text/html": [
       "<div>\n",
       "<style scoped>\n",
       "    .dataframe tbody tr th:only-of-type {\n",
       "        vertical-align: middle;\n",
       "    }\n",
       "\n",
       "    .dataframe tbody tr th {\n",
       "        vertical-align: top;\n",
       "    }\n",
       "\n",
       "    .dataframe thead th {\n",
       "        text-align: right;\n",
       "    }\n",
       "</style>\n",
       "<table border=\"1\" class=\"dataframe\">\n",
       "  <thead>\n",
       "    <tr style=\"text-align: right;\">\n",
       "      <th></th>\n",
       "      <th>gender</th>\n",
       "      <th>SeniorCitizen</th>\n",
       "      <th>Partner</th>\n",
       "      <th>Dependents</th>\n",
       "      <th>PhoneService</th>\n",
       "      <th>PaperlessBilling</th>\n",
       "      <th>MultipleLines_No phone service</th>\n",
       "      <th>MultipleLines_Yes</th>\n",
       "      <th>InternetService_Fiber optic</th>\n",
       "      <th>InternetService_No</th>\n",
       "      <th>...</th>\n",
       "      <th>StreamingMovies_No internet service</th>\n",
       "      <th>StreamingMovies_Yes</th>\n",
       "      <th>Contract_One year</th>\n",
       "      <th>Contract_Two year</th>\n",
       "      <th>PaymentMethod_Credit card (automatic)</th>\n",
       "      <th>PaymentMethod_Electronic check</th>\n",
       "      <th>PaymentMethod_Mailed check</th>\n",
       "      <th>tenure</th>\n",
       "      <th>MonthlyCharges</th>\n",
       "      <th>TotalCharges</th>\n",
       "    </tr>\n",
       "  </thead>\n",
       "  <tbody>\n",
       "    <tr>\n",
       "      <th>6406</th>\n",
       "      <td>0</td>\n",
       "      <td>0</td>\n",
       "      <td>0</td>\n",
       "      <td>0</td>\n",
       "      <td>0</td>\n",
       "      <td>1</td>\n",
       "      <td>1</td>\n",
       "      <td>0</td>\n",
       "      <td>0</td>\n",
       "      <td>0</td>\n",
       "      <td>...</td>\n",
       "      <td>0</td>\n",
       "      <td>1</td>\n",
       "      <td>0</td>\n",
       "      <td>0</td>\n",
       "      <td>1</td>\n",
       "      <td>0</td>\n",
       "      <td>0</td>\n",
       "      <td>39</td>\n",
       "      <td>50.65</td>\n",
       "      <td>1.007403</td>\n",
       "    </tr>\n",
       "    <tr>\n",
       "      <th>6124</th>\n",
       "      <td>0</td>\n",
       "      <td>0</td>\n",
       "      <td>1</td>\n",
       "      <td>1</td>\n",
       "      <td>1</td>\n",
       "      <td>1</td>\n",
       "      <td>0</td>\n",
       "      <td>0</td>\n",
       "      <td>0</td>\n",
       "      <td>0</td>\n",
       "      <td>...</td>\n",
       "      <td>0</td>\n",
       "      <td>0</td>\n",
       "      <td>1</td>\n",
       "      <td>0</td>\n",
       "      <td>0</td>\n",
       "      <td>0</td>\n",
       "      <td>1</td>\n",
       "      <td>57</td>\n",
       "      <td>59.30</td>\n",
       "      <td>1.007935</td>\n",
       "    </tr>\n",
       "    <tr>\n",
       "      <th>4051</th>\n",
       "      <td>0</td>\n",
       "      <td>0</td>\n",
       "      <td>1</td>\n",
       "      <td>0</td>\n",
       "      <td>1</td>\n",
       "      <td>1</td>\n",
       "      <td>0</td>\n",
       "      <td>1</td>\n",
       "      <td>1</td>\n",
       "      <td>0</td>\n",
       "      <td>...</td>\n",
       "      <td>0</td>\n",
       "      <td>1</td>\n",
       "      <td>0</td>\n",
       "      <td>1</td>\n",
       "      <td>1</td>\n",
       "      <td>0</td>\n",
       "      <td>0</td>\n",
       "      <td>72</td>\n",
       "      <td>97.70</td>\n",
       "      <td>1.008665</td>\n",
       "    </tr>\n",
       "    <tr>\n",
       "      <th>3839</th>\n",
       "      <td>0</td>\n",
       "      <td>0</td>\n",
       "      <td>1</td>\n",
       "      <td>1</td>\n",
       "      <td>1</td>\n",
       "      <td>0</td>\n",
       "      <td>0</td>\n",
       "      <td>0</td>\n",
       "      <td>0</td>\n",
       "      <td>1</td>\n",
       "      <td>...</td>\n",
       "      <td>1</td>\n",
       "      <td>0</td>\n",
       "      <td>0</td>\n",
       "      <td>0</td>\n",
       "      <td>0</td>\n",
       "      <td>0</td>\n",
       "      <td>1</td>\n",
       "      <td>15</td>\n",
       "      <td>20.05</td>\n",
       "      <td>1.005533</td>\n",
       "    </tr>\n",
       "    <tr>\n",
       "      <th>2523</th>\n",
       "      <td>0</td>\n",
       "      <td>0</td>\n",
       "      <td>1</td>\n",
       "      <td>1</td>\n",
       "      <td>1</td>\n",
       "      <td>0</td>\n",
       "      <td>0</td>\n",
       "      <td>0</td>\n",
       "      <td>0</td>\n",
       "      <td>1</td>\n",
       "      <td>...</td>\n",
       "      <td>1</td>\n",
       "      <td>0</td>\n",
       "      <td>0</td>\n",
       "      <td>1</td>\n",
       "      <td>1</td>\n",
       "      <td>0</td>\n",
       "      <td>0</td>\n",
       "      <td>47</td>\n",
       "      <td>20.25</td>\n",
       "      <td>1.006636</td>\n",
       "    </tr>\n",
       "  </tbody>\n",
       "</table>\n",
       "<p>5 rows × 30 columns</p>\n",
       "</div>"
      ],
      "text/plain": [
       "      gender  SeniorCitizen  Partner  Dependents  PhoneService  \\\n",
       "6406       0              0        0           0             0   \n",
       "6124       0              0        1           1             1   \n",
       "4051       0              0        1           0             1   \n",
       "3839       0              0        1           1             1   \n",
       "2523       0              0        1           1             1   \n",
       "\n",
       "      PaperlessBilling  MultipleLines_No phone service  MultipleLines_Yes  \\\n",
       "6406                 1                               1                  0   \n",
       "6124                 1                               0                  0   \n",
       "4051                 1                               0                  1   \n",
       "3839                 0                               0                  0   \n",
       "2523                 0                               0                  0   \n",
       "\n",
       "      InternetService_Fiber optic  InternetService_No  ...  \\\n",
       "6406                            0                   0  ...   \n",
       "6124                            0                   0  ...   \n",
       "4051                            1                   0  ...   \n",
       "3839                            0                   1  ...   \n",
       "2523                            0                   1  ...   \n",
       "\n",
       "      StreamingMovies_No internet service  StreamingMovies_Yes  \\\n",
       "6406                                    0                    1   \n",
       "6124                                    0                    0   \n",
       "4051                                    0                    1   \n",
       "3839                                    1                    0   \n",
       "2523                                    1                    0   \n",
       "\n",
       "      Contract_One year  Contract_Two year  \\\n",
       "6406                  0                  0   \n",
       "6124                  1                  0   \n",
       "4051                  0                  1   \n",
       "3839                  0                  0   \n",
       "2523                  0                  1   \n",
       "\n",
       "      PaymentMethod_Credit card (automatic)  PaymentMethod_Electronic check  \\\n",
       "6406                                      1                               0   \n",
       "6124                                      0                               0   \n",
       "4051                                      1                               0   \n",
       "3839                                      0                               0   \n",
       "2523                                      1                               0   \n",
       "\n",
       "      PaymentMethod_Mailed check  tenure  MonthlyCharges  TotalCharges  \n",
       "6406                           0      39           50.65      1.007403  \n",
       "6124                           1      57           59.30      1.007935  \n",
       "4051                           0      72           97.70      1.008665  \n",
       "3839                           1      15           20.05      1.005533  \n",
       "2523                           0      47           20.25      1.006636  \n",
       "\n",
       "[5 rows x 30 columns]"
      ]
     },
     "execution_count": 269,
     "metadata": {},
     "output_type": "execute_result"
    }
   ],
   "source": [
    "train_features.head()"
   ]
  },
  {
   "cell_type": "code",
   "execution_count": null,
   "id": "c709fe1e-1f32-4dbb-8566-4c3ba650e9a3",
   "metadata": {},
   "outputs": [],
   "source": [
    "# c'est par ici qu'on peut commencer à améliorer les performances de notre modele"
   ]
  },
  {
   "cell_type": "code",
   "execution_count": 270,
   "id": "d58dabcd-f9d2-4923-8d82-fb11b7abd6c3",
   "metadata": {},
   "outputs": [],
   "source": [
    "# Normalisation des variables indépendantes des différents ensembles de données\n",
    "\n",
    "# Vous pouvez choisir de standardiser au lieu de normaliser. # on peut choisir StandardScaler()\n",
    "\n",
    "scaler= MinMaxScaler()\n",
    "\n",
    "mod_scaler= scaler.fit(train_features)\n",
    "train_features= mod_scaler.transform(train_features)\n",
    "X_val= mod_scaler.transform(X_val)\n",
    "X_test= mod_scaler.transform(X_test)\n"
   ]
  },
  {
   "cell_type": "code",
   "execution_count": 271,
   "id": "4a6c6110-edbc-4c31-a34d-609df41d2133",
   "metadata": {},
   "outputs": [],
   "source": [
    "# Retransformation en Dataframe\n",
    "train_features= pd.DataFrame(train_features,  columns=X.columns)\n",
    "X_val=pd.DataFrame(X_val, columns=X.columns)\n",
    "X_test= pd.DataFrame(X_test, columns=X.columns)\n"
   ]
  },
  {
   "cell_type": "code",
   "execution_count": null,
   "id": "9ed6f4ac-f2ad-4a9e-9069-08087126ebf1",
   "metadata": {},
   "outputs": [],
   "source": [
    "# Toutes les valeurs sont maintenat entre 0 et 1"
   ]
  },
  {
   "cell_type": "code",
   "execution_count": 272,
   "id": "262e1e35-8235-4a73-ae9a-68263d457af9",
   "metadata": {},
   "outputs": [
    {
     "data": {
      "text/html": [
       "<div>\n",
       "<style scoped>\n",
       "    .dataframe tbody tr th:only-of-type {\n",
       "        vertical-align: middle;\n",
       "    }\n",
       "\n",
       "    .dataframe tbody tr th {\n",
       "        vertical-align: top;\n",
       "    }\n",
       "\n",
       "    .dataframe thead th {\n",
       "        text-align: right;\n",
       "    }\n",
       "</style>\n",
       "<table border=\"1\" class=\"dataframe\">\n",
       "  <thead>\n",
       "    <tr style=\"text-align: right;\">\n",
       "      <th></th>\n",
       "      <th>gender</th>\n",
       "      <th>SeniorCitizen</th>\n",
       "      <th>Partner</th>\n",
       "      <th>Dependents</th>\n",
       "      <th>PhoneService</th>\n",
       "      <th>PaperlessBilling</th>\n",
       "      <th>MultipleLines_No phone service</th>\n",
       "      <th>MultipleLines_Yes</th>\n",
       "      <th>InternetService_Fiber optic</th>\n",
       "      <th>InternetService_No</th>\n",
       "      <th>...</th>\n",
       "      <th>StreamingMovies_No internet service</th>\n",
       "      <th>StreamingMovies_Yes</th>\n",
       "      <th>Contract_One year</th>\n",
       "      <th>Contract_Two year</th>\n",
       "      <th>PaymentMethod_Credit card (automatic)</th>\n",
       "      <th>PaymentMethod_Electronic check</th>\n",
       "      <th>PaymentMethod_Mailed check</th>\n",
       "      <th>tenure</th>\n",
       "      <th>MonthlyCharges</th>\n",
       "      <th>TotalCharges</th>\n",
       "    </tr>\n",
       "  </thead>\n",
       "  <tbody>\n",
       "    <tr>\n",
       "      <th>count</th>\n",
       "      <td>6196.0</td>\n",
       "      <td>6196.0</td>\n",
       "      <td>6196.000000</td>\n",
       "      <td>6196.000000</td>\n",
       "      <td>6196.000000</td>\n",
       "      <td>6196.000000</td>\n",
       "      <td>6196.000000</td>\n",
       "      <td>6196.000000</td>\n",
       "      <td>6196.000000</td>\n",
       "      <td>6196.000000</td>\n",
       "      <td>...</td>\n",
       "      <td>6196.000000</td>\n",
       "      <td>6196.000000</td>\n",
       "      <td>6196.000000</td>\n",
       "      <td>6196.000000</td>\n",
       "      <td>6196.000000</td>\n",
       "      <td>6196.000000</td>\n",
       "      <td>6196.000000</td>\n",
       "      <td>6196.000000</td>\n",
       "      <td>6196.000000</td>\n",
       "      <td>6196.000000</td>\n",
       "    </tr>\n",
       "    <tr>\n",
       "      <th>mean</th>\n",
       "      <td>0.0</td>\n",
       "      <td>0.0</td>\n",
       "      <td>0.438509</td>\n",
       "      <td>0.248870</td>\n",
       "      <td>0.904939</td>\n",
       "      <td>0.650904</td>\n",
       "      <td>0.095061</td>\n",
       "      <td>0.439638</td>\n",
       "      <td>0.530826</td>\n",
       "      <td>0.166720</td>\n",
       "      <td>...</td>\n",
       "      <td>0.166720</td>\n",
       "      <td>0.413331</td>\n",
       "      <td>0.165752</td>\n",
       "      <td>0.168496</td>\n",
       "      <td>0.186572</td>\n",
       "      <td>0.419787</td>\n",
       "      <td>0.205939</td>\n",
       "      <td>0.377363</td>\n",
       "      <td>0.496667</td>\n",
       "      <td>0.621765</td>\n",
       "    </tr>\n",
       "    <tr>\n",
       "      <th>std</th>\n",
       "      <td>0.0</td>\n",
       "      <td>0.0</td>\n",
       "      <td>0.496244</td>\n",
       "      <td>0.432393</td>\n",
       "      <td>0.293323</td>\n",
       "      <td>0.476723</td>\n",
       "      <td>0.293323</td>\n",
       "      <td>0.496383</td>\n",
       "      <td>0.499089</td>\n",
       "      <td>0.372756</td>\n",
       "      <td>...</td>\n",
       "      <td>0.372756</td>\n",
       "      <td>0.492471</td>\n",
       "      <td>0.371888</td>\n",
       "      <td>0.374336</td>\n",
       "      <td>0.389599</td>\n",
       "      <td>0.493564</td>\n",
       "      <td>0.404419</td>\n",
       "      <td>0.337783</td>\n",
       "      <td>0.287344</td>\n",
       "      <td>0.259557</td>\n",
       "    </tr>\n",
       "    <tr>\n",
       "      <th>min</th>\n",
       "      <td>0.0</td>\n",
       "      <td>0.0</td>\n",
       "      <td>0.000000</td>\n",
       "      <td>0.000000</td>\n",
       "      <td>0.000000</td>\n",
       "      <td>0.000000</td>\n",
       "      <td>0.000000</td>\n",
       "      <td>0.000000</td>\n",
       "      <td>0.000000</td>\n",
       "      <td>0.000000</td>\n",
       "      <td>...</td>\n",
       "      <td>0.000000</td>\n",
       "      <td>0.000000</td>\n",
       "      <td>0.000000</td>\n",
       "      <td>0.000000</td>\n",
       "      <td>0.000000</td>\n",
       "      <td>0.000000</td>\n",
       "      <td>0.000000</td>\n",
       "      <td>0.000000</td>\n",
       "      <td>0.000000</td>\n",
       "      <td>0.000000</td>\n",
       "    </tr>\n",
       "    <tr>\n",
       "      <th>25%</th>\n",
       "      <td>0.0</td>\n",
       "      <td>0.0</td>\n",
       "      <td>0.000000</td>\n",
       "      <td>0.000000</td>\n",
       "      <td>1.000000</td>\n",
       "      <td>0.000000</td>\n",
       "      <td>0.000000</td>\n",
       "      <td>0.000000</td>\n",
       "      <td>0.000000</td>\n",
       "      <td>0.000000</td>\n",
       "      <td>...</td>\n",
       "      <td>0.000000</td>\n",
       "      <td>0.000000</td>\n",
       "      <td>0.000000</td>\n",
       "      <td>0.000000</td>\n",
       "      <td>0.000000</td>\n",
       "      <td>0.000000</td>\n",
       "      <td>0.000000</td>\n",
       "      <td>0.056338</td>\n",
       "      <td>0.269652</td>\n",
       "      <td>0.444068</td>\n",
       "    </tr>\n",
       "    <tr>\n",
       "      <th>50%</th>\n",
       "      <td>0.0</td>\n",
       "      <td>0.0</td>\n",
       "      <td>0.000000</td>\n",
       "      <td>0.000000</td>\n",
       "      <td>1.000000</td>\n",
       "      <td>1.000000</td>\n",
       "      <td>0.000000</td>\n",
       "      <td>0.000000</td>\n",
       "      <td>1.000000</td>\n",
       "      <td>0.000000</td>\n",
       "      <td>...</td>\n",
       "      <td>0.000000</td>\n",
       "      <td>0.000000</td>\n",
       "      <td>0.000000</td>\n",
       "      <td>0.000000</td>\n",
       "      <td>0.000000</td>\n",
       "      <td>0.000000</td>\n",
       "      <td>0.000000</td>\n",
       "      <td>0.281690</td>\n",
       "      <td>0.563682</td>\n",
       "      <td>0.669198</td>\n",
       "    </tr>\n",
       "    <tr>\n",
       "      <th>75%</th>\n",
       "      <td>0.0</td>\n",
       "      <td>0.0</td>\n",
       "      <td>1.000000</td>\n",
       "      <td>0.000000</td>\n",
       "      <td>1.000000</td>\n",
       "      <td>1.000000</td>\n",
       "      <td>0.000000</td>\n",
       "      <td>1.000000</td>\n",
       "      <td>1.000000</td>\n",
       "      <td>0.000000</td>\n",
       "      <td>...</td>\n",
       "      <td>0.000000</td>\n",
       "      <td>1.000000</td>\n",
       "      <td>0.000000</td>\n",
       "      <td>0.000000</td>\n",
       "      <td>0.000000</td>\n",
       "      <td>1.000000</td>\n",
       "      <td>0.000000</td>\n",
       "      <td>0.676056</td>\n",
       "      <td>0.724876</td>\n",
       "      <td>0.838602</td>\n",
       "    </tr>\n",
       "    <tr>\n",
       "      <th>max</th>\n",
       "      <td>0.0</td>\n",
       "      <td>0.0</td>\n",
       "      <td>1.000000</td>\n",
       "      <td>1.000000</td>\n",
       "      <td>1.000000</td>\n",
       "      <td>1.000000</td>\n",
       "      <td>1.000000</td>\n",
       "      <td>1.000000</td>\n",
       "      <td>1.000000</td>\n",
       "      <td>1.000000</td>\n",
       "      <td>...</td>\n",
       "      <td>1.000000</td>\n",
       "      <td>1.000000</td>\n",
       "      <td>1.000000</td>\n",
       "      <td>1.000000</td>\n",
       "      <td>1.000000</td>\n",
       "      <td>1.000000</td>\n",
       "      <td>1.000000</td>\n",
       "      <td>1.000000</td>\n",
       "      <td>1.000000</td>\n",
       "      <td>1.000000</td>\n",
       "    </tr>\n",
       "  </tbody>\n",
       "</table>\n",
       "<p>8 rows × 30 columns</p>\n",
       "</div>"
      ],
      "text/plain": [
       "       gender  SeniorCitizen      Partner   Dependents  PhoneService  \\\n",
       "count  6196.0         6196.0  6196.000000  6196.000000   6196.000000   \n",
       "mean      0.0            0.0     0.438509     0.248870      0.904939   \n",
       "std       0.0            0.0     0.496244     0.432393      0.293323   \n",
       "min       0.0            0.0     0.000000     0.000000      0.000000   \n",
       "25%       0.0            0.0     0.000000     0.000000      1.000000   \n",
       "50%       0.0            0.0     0.000000     0.000000      1.000000   \n",
       "75%       0.0            0.0     1.000000     0.000000      1.000000   \n",
       "max       0.0            0.0     1.000000     1.000000      1.000000   \n",
       "\n",
       "       PaperlessBilling  MultipleLines_No phone service  MultipleLines_Yes  \\\n",
       "count       6196.000000                     6196.000000        6196.000000   \n",
       "mean           0.650904                        0.095061           0.439638   \n",
       "std            0.476723                        0.293323           0.496383   \n",
       "min            0.000000                        0.000000           0.000000   \n",
       "25%            0.000000                        0.000000           0.000000   \n",
       "50%            1.000000                        0.000000           0.000000   \n",
       "75%            1.000000                        0.000000           1.000000   \n",
       "max            1.000000                        1.000000           1.000000   \n",
       "\n",
       "       InternetService_Fiber optic  InternetService_No  ...  \\\n",
       "count                  6196.000000         6196.000000  ...   \n",
       "mean                      0.530826            0.166720  ...   \n",
       "std                       0.499089            0.372756  ...   \n",
       "min                       0.000000            0.000000  ...   \n",
       "25%                       0.000000            0.000000  ...   \n",
       "50%                       1.000000            0.000000  ...   \n",
       "75%                       1.000000            0.000000  ...   \n",
       "max                       1.000000            1.000000  ...   \n",
       "\n",
       "       StreamingMovies_No internet service  StreamingMovies_Yes  \\\n",
       "count                          6196.000000          6196.000000   \n",
       "mean                              0.166720             0.413331   \n",
       "std                               0.372756             0.492471   \n",
       "min                               0.000000             0.000000   \n",
       "25%                               0.000000             0.000000   \n",
       "50%                               0.000000             0.000000   \n",
       "75%                               0.000000             1.000000   \n",
       "max                               1.000000             1.000000   \n",
       "\n",
       "       Contract_One year  Contract_Two year  \\\n",
       "count        6196.000000        6196.000000   \n",
       "mean            0.165752           0.168496   \n",
       "std             0.371888           0.374336   \n",
       "min             0.000000           0.000000   \n",
       "25%             0.000000           0.000000   \n",
       "50%             0.000000           0.000000   \n",
       "75%             0.000000           0.000000   \n",
       "max             1.000000           1.000000   \n",
       "\n",
       "       PaymentMethod_Credit card (automatic)  PaymentMethod_Electronic check  \\\n",
       "count                            6196.000000                     6196.000000   \n",
       "mean                                0.186572                        0.419787   \n",
       "std                                 0.389599                        0.493564   \n",
       "min                                 0.000000                        0.000000   \n",
       "25%                                 0.000000                        0.000000   \n",
       "50%                                 0.000000                        0.000000   \n",
       "75%                                 0.000000                        1.000000   \n",
       "max                                 1.000000                        1.000000   \n",
       "\n",
       "       PaymentMethod_Mailed check       tenure  MonthlyCharges  TotalCharges  \n",
       "count                 6196.000000  6196.000000     6196.000000   6196.000000  \n",
       "mean                     0.205939     0.377363        0.496667      0.621765  \n",
       "std                      0.404419     0.337783        0.287344      0.259557  \n",
       "min                      0.000000     0.000000        0.000000      0.000000  \n",
       "25%                      0.000000     0.056338        0.269652      0.444068  \n",
       "50%                      0.000000     0.281690        0.563682      0.669198  \n",
       "75%                      0.000000     0.676056        0.724876      0.838602  \n",
       "max                      1.000000     1.000000        1.000000      1.000000  \n",
       "\n",
       "[8 rows x 30 columns]"
      ]
     },
     "execution_count": 272,
     "metadata": {},
     "output_type": "execute_result"
    }
   ],
   "source": [
    "train_features.describe()"
   ]
  },
  {
   "cell_type": "markdown",
   "id": "645db94a-531b-4cfa-b454-37d82e2abb60",
   "metadata": {},
   "source": [
    "Toutes les valeurs( à partir de  min et max) sont maintenat entre 0 et 1"
   ]
  },
  {
   "cell_type": "markdown",
   "id": "ffae51fd-b24e-43b2-a587-7c77be1ec100",
   "metadata": {},
   "source": [
    "Nous avons terminé le prétraitement des données passons maintenant à la modélisation"
   ]
  },
  {
   "cell_type": "markdown",
   "id": "96e2e1f3-52b0-4a6d-b951-a2bf51fba50a",
   "metadata": {},
   "source": [
    "# Modélisation"
   ]
  },
  {
   "cell_type": "markdown",
   "id": "63acae68-cb72-401c-874e-18c40302d805",
   "metadata": {},
   "source": [
    "quelle métrique choisir pour l' évaluation de la performance des modèles"
   ]
  },
  {
   "cell_type": "markdown",
   "id": "d0260b1b-3d1c-49b3-9220-b377cd9330f2",
   "metadata": {},
   "source": [
    "vous devez préablement comprendre ce qu'on appelle la matrice de confusion"
   ]
  },
  {
   "cell_type": "markdown",
   "id": "f6cf4ce3-ce55-4ed5-9c08-21cf84e269cc",
   "metadata": {},
   "source": [
    "La matrice de confusion est la matrice carrée qui rapporte le nombre de vrai positif(True positif ou TP), \n",
    "vrai négatif(True Négatif ou TN), Faux positif(False positif ou FP ) et Faux négatif(False Negatif ou FN).\n",
    "\n",
    "Dans notre cas le positif c'est 1 : le client s'est désabonné et le négatif c'est 0 le client ne s'est pas désabonné.\n",
    "\n",
    "# TP: le client s'est désabonné et le modèle prédit qu'il s'est désabonné\n",
    "\n",
    "# TN: le client ne s'est pas désabonné et le modèle prédit qu'il ne s'est pas désabonné\n",
    "\n",
    "les 2 cas(TP et TN) ci-dessus sont les bons cas et (FP et FN) sont les mauvais cas\n",
    "\n",
    "# FP: le client ne s'est pas désabonné et le modèle prédit qu'il s'est désabonné\n",
    "\n",
    "# FN: le client  s'est  désabonné et le modèle prédit qu'il ne s'est pas désabonné\n"
   ]
  },
  {
   "cell_type": "markdown",
   "id": "d568a43b-0296-4764-99c9-b82ca3a7a7d9",
   "metadata": {},
   "source": [
    "Les choix des métriques: https://scikit-learn.org/stable/auto_examples/model_selection/plot_precision_recall.html"
   ]
  },
  {
   "cell_type": "markdown",
   "id": "8bd93ace-08e2-4778-b981-8ad6c5b9955b",
   "metadata": {},
   "source": [
    "# accuracy : La précision globale du modèle(accuracy en anglais) est la proportion de prévision correctes, c'est-à-dire\n",
    "la somme de nombres de vrais positifs et vrai négatifs divisée par le nombre total d'observations. Elle se calcul donc avec la formule\n",
    "ci-dessous:\n",
    "accuracy= (TP + TN)/ ( FN+ FP+ TN + TP)"
   ]
  },
  {
   "cell_type": "markdown",
   "id": "e296d763-1150-4b2c-b559-e3196dbcc8d7",
   "metadata": {},
   "source": [
    "Il faut faire attention avec la précision globale. Une forte précision ne signifie pas forcement que le modèle est performant.\n",
    "Le choix de la métrique pour quantifier la performance du modèle doit se faire en fonction du contexte de l'étude, c'est-à-dire la problématique qu'on veut résoudre\n",
    "\n",
    "Lorsqu'il y'a un déséquilibre de classe, la précision globale n'est pas une bonne métrique d'évaluation de la performance du modèle\n",
    "Précision et recall sont des métriques très utiliseés, surtout lorsque les classes de la variables cibles sont très déséquilibrées\n",
    "\n",
    "# précision  est l'indicateur qui vous indique sur tous les points positifs préditifs, combien étaient de vrais positifs\n",
    "               #précision# = (TP)/ (TP + FP)\n",
    "               \n",
    "# recall: cette métrique montre la capacité du modèle à identifer tous les vrais positifs.\n",
    "\n",
    "               #recall#= (TP)/ (TP + FN)\n",
    "               \n",
    "L'amélioration de précision diminue recall et vice-versa. Alors quoi faire?\n",
    "\n",
    "Fort heuresementil y'a une métrique qui tient compte à la fois de la sensibilité et la spécifité.C'est le F1 score\n",
    "\n",
    "F1 SCORE :MOYENNE HARMONIQUE DE PRECISION et de RECALL.Elle se calcul donc par formule:\n",
    "                       F1 score= 2* [ (precision)(recall)/ (precision +recall)      ]\n",
    "                       \n",
    "                       \n",
    "                       \n",
    "pour un modèle parfait f1 score est égal à 1 et la plus mauvaise performance est un modèle avec un f1 score égale à 0    \n",
    "\n",
    "\n",
    "Nous choississons le F1 score pour évaluer la performance de chaque modèle qui sera conduit."
   ]
  },
  {
   "cell_type": "code",
   "execution_count": 273,
   "id": "237509f3-4dc9-43ad-b73f-c1f4b6d307fb",
   "metadata": {},
   "outputs": [
    {
     "name": "stdout",
     "output_type": "stream",
     "text": [
      "              precision    recall  f1-score   support\n",
      "\n",
      "           0       0.83      0.86      0.84      1032\n",
      "           1       0.57      0.52      0.54       374\n",
      "\n",
      "    accuracy                           0.77      1406\n",
      "   macro avg       0.70      0.69      0.69      1406\n",
      "weighted avg       0.76      0.77      0.76      1406\n",
      "\n"
     ]
    }
   ],
   "source": [
    "# Selon des meilleures variables prédictrices\n",
    "rf= RandomForestClassifier()\n",
    "rf.fit(train_features, train_labels)\n",
    "\n",
    "print(classification_report(y_val, rf.predict(X_val)))"
   ]
  },
  {
   "cell_type": "code",
   "execution_count": 274,
   "id": "7467b61e-5e73-411b-936a-bba03d5338d3",
   "metadata": {},
   "outputs": [
    {
     "data": {
      "image/png": "[encoded data removed]",
      "text/plain": [
       "<Figure size 1400x600 with 1 Axes>"
      ]
     },
     "metadata": {},
     "output_type": "display_data"
    }
   ],
   "source": [
    "# Importante des variables indépendantes\n",
    "plt.figure(figsize=(14, 6))\n",
    "vars_imp= pd.Series(rf.feature_importances_, index=train_features.columns).sort_values(ascending=False)\n",
    "\n",
    "sns.barplot(x= vars_imp.index, y=vars_imp)\n",
    "plt.xticks(rotation=90)\n",
    "plt.xlabel(\"variables\")\n",
    "plt.ylabel(\"score d'importance de la variable\")\n",
    "plt.title(\"Importance des varibles prédictrices\")\n",
    "plt.show()"
   ]
  },
  {
   "cell_type": "code",
   "execution_count": 275,
   "id": "d4203c89-fb51-4f48-a0c6-09723973fa23",
   "metadata": {},
   "outputs": [
    {
     "data": {
      "text/plain": [
       "TotalCharges                             0.188472\n",
       "tenure                                   0.169982\n",
       "MonthlyCharges                           0.160670\n",
       "Contract_Two year                        0.061659\n",
       "PaymentMethod_Electronic check           0.046520\n",
       "InternetService_Fiber optic              0.040913\n",
       "Contract_One year                        0.032704\n",
       "OnlineSecurity_Yes                       0.025971\n",
       "TechSupport_Yes                          0.024566\n",
       "PaperlessBilling                         0.024310\n",
       "Partner                                  0.022022\n",
       "OnlineBackup_Yes                         0.021312\n",
       "Dependents                               0.020279\n",
       "DeviceProtection_Yes                     0.017819\n",
       "MultipleLines_Yes                        0.017731\n",
       "StreamingMovies_Yes                      0.017203\n",
       "StreamingTV_Yes                          0.016275\n",
       "PaymentMethod_Credit card (automatic)    0.014975\n",
       "PaymentMethod_Mailed check               0.012401\n",
       "TechSupport_No internet service          0.011267\n",
       "DeviceProtection_No internet service     0.009657\n",
       "StreamingMovies_No internet service      0.008963\n",
       "InternetService_No                       0.007658\n",
       "StreamingTV_No internet service          0.006935\n",
       "OnlineSecurity_No internet service       0.006321\n",
       "OnlineBackup_No internet service         0.005134\n",
       "MultipleLines_No phone service           0.004152\n",
       "PhoneService                             0.004130\n",
       "SeniorCitizen                            0.000000\n",
       "gender                                   0.000000\n",
       "dtype: float64"
      ]
     },
     "execution_count": 275,
     "metadata": {},
     "output_type": "execute_result"
    }
   ],
   "source": [
    "# Affichage de vars_imp\n",
    "vars_imp"
   ]
  },
  {
   "cell_type": "code",
   "execution_count": null,
   "id": "8a296795-c8a2-42f9-bcc3-c383baf55171",
   "metadata": {},
   "outputs": [],
   "source": [
    "# on peut aussi modifier ici pour améliorer la performance du modele en choississant un autre seuil par exemple 0.009"
   ]
  },
  {
   "cell_type": "code",
   "execution_count": 276,
   "id": "37e9c7d9-5428-47d6-87fd-470b40c5b67d",
   "metadata": {},
   "outputs": [],
   "source": [
    "# Variables selectionnées pour les algorithmes\n",
    "seuil=0.004\n",
    "\n",
    "vars_selected= vars_imp[vars_imp > seuil].index.to_list()\n",
    "\n",
    "train_features=train_features[vars_selected]\n",
    "\n",
    "X_val=X_val[vars_selected]\n",
    "\n",
    "X_test= X_test[vars_selected]"
   ]
  },
  {
   "cell_type": "code",
   "execution_count": 277,
   "id": "78d3de5f-ee48-48b0-8731-c865a6110b49",
   "metadata": {},
   "outputs": [
    {
     "data": {
      "text/plain": [
       "28"
      ]
     },
     "execution_count": 277,
     "metadata": {},
     "output_type": "execute_result"
    }
   ],
   "source": [
    "# Nombres de variables prédictrices\n",
    "len(train_features.columns)"
   ]
  },
  {
   "cell_type": "markdown",
   "id": "d1bc5fde-333d-4b59-a22e-823e358a5f2e",
   "metadata": {},
   "source": [
    "Notre objectif est de construire un modèle de classification qui prédit si le client va se désabonner ou non.\n",
    "\n",
    "Nous utiliserons les différents algorithmes (Logistic regression, Random Forest, Grandient Boosting, Classificateur Perceptron Multicouche\n",
    "                                            et Support Vecteur Machine) afin de comparer leur performance et de choisir le meilleur modèle.\n",
    "\n"
   ]
  },
  {
   "cell_type": "markdown",
   "id": "407b0cc5-d2b0-48e0-884d-1d55a7e6aed7",
   "metadata": {},
   "source": [
    "# MODELE DE REGRESSION LOGISTIQUE"
   ]
  },
  {
   "cell_type": "markdown",
   "id": "1999ad22-e3bc-4791-ba80-611c85705f5f",
   "metadata": {},
   "source": [
    "### on peut aussi choisir de règler d'autres hyperparametre pour améliorer la performance du modele\n",
    "\n",
    "on peut faire pareille pour tous les autres algorithmes"
   ]
  },
  {
   "cell_type": "code",
   "execution_count": 292,
   "id": "6c23c460-efc5-4c8a-bde6-2ea140745f92",
   "metadata": {},
   "outputs": [
    {
     "name": "stdout",
     "output_type": "stream",
     "text": [
      "0.789\n",
      "LogisticRegression(C=10, max_iter=500, random_state=1111)\n"
     ]
    }
   ],
   "source": [
    "# Dictionnaire des hyperparamètre\n",
    "param_grid= {\"C\":[0.001, 0.01, 1, 10, 50, 100, 500]}\n",
    "\n",
    "# Objet GridSearchCV\n",
    "grid_logreg_class= GridSearchCV(estimator= LogisticRegression(random_state=seed, max_iter=500),\n",
    "                                param_grid=param_grid,\n",
    "                                scoring=\"f1\", \n",
    "                                cv=5)\n",
    "# Entrainement de l'algorithme\n",
    "logreg_model= grid_logreg_class.fit(train_features, train_labels)\n",
    "\n",
    "# Meilleur score et meilleur hyperparamètre\n",
    "print(round(logreg_model.best_score_, 3 ))\n",
    "print(logreg_model.best_estimator_)"
   ]
  },
  {
   "cell_type": "markdown",
   "id": "bf92bf71-bc65-4464-8752-c0bc1c321d3a",
   "metadata": {},
   "source": [
    "C'est le C=10 qui donne le meilleur score qui est 0.789.\n",
    "\n",
    "Le modèle a un bon score d'entrainement.Evaluons sa performance sur les données de validation afin d'apprécier sa capacité à généraliser\n",
    "sur de nouvelles données.\n",
    "\n",
    "N.B: pour un scoring=\"f1\" plus le score est proche de 1 plus le modèle a une bonne performance."
   ]
  },
  {
   "cell_type": "code",
   "execution_count": 293,
   "id": "fdff1d95-07c2-4839-be4d-84f1595c8917",
   "metadata": {},
   "outputs": [],
   "source": [
    "# Fonction d'évaluation de la performance du modèle\n",
    "def model_evaluation(model, features, labels):\n",
    "    pred=model.predict(features)\n",
    "    print(classification_report(labels, pred))"
   ]
  },
  {
   "cell_type": "code",
   "execution_count": 294,
   "id": "fd067b0b-d5d0-4997-85bd-b488df96c7be",
   "metadata": {},
   "outputs": [
    {
     "name": "stdout",
     "output_type": "stream",
     "text": [
      "              precision    recall  f1-score   support\n",
      "\n",
      "           0       0.89      0.74      0.81      1032\n",
      "           1       0.51      0.75      0.60       374\n",
      "\n",
      "    accuracy                           0.74      1406\n",
      "   macro avg       0.70      0.74      0.70      1406\n",
      "weighted avg       0.79      0.74      0.75      1406\n",
      "\n"
     ]
    }
   ],
   "source": [
    "# Evaluation du modèle de regression logistique\n",
    "model_evaluation(logreg_model, X_val, y_val)"
   ]
  },
  {
   "cell_type": "markdown",
   "id": "d924e61d-a3b0-4ac6-a88c-cff4b7cf5445",
   "metadata": {},
   "source": [
    "Appliquons l'algorithme # Recursive Feature Eliminator # (RFE) sur le modèle afin de voir s'il garde les memes performances \n",
    "lorsqu'on réduit le nombre de prédicteur. En effet, plus le modéle est complexe, plus il est difficile de l'interpréter."
   ]
  },
  {
   "cell_type": "code",
   "execution_count": 297,
   "id": "12757b2a-d96a-4515-84f6-b8813050f223",
   "metadata": {},
   "outputs": [],
   "source": [
    "# Création d'une fonction de construction d'un modèle avec l'utilisation de l'algorithme RFE\n",
    "def model_with_rfe(model):\n",
    "    rfe_model= RFE(estimator=model, verbose=0)\n",
    "    rfe_model.fit(train_features, train_labels)\n",
    "    mask=rfe_model.support_\n",
    "    reduced_X= train_features.loc[:, mask]\n",
    "    print(reduced_X.columns)\n",
    "    return rfe_model\n",
    "    \n",
    " "
   ]
  },
  {
   "cell_type": "code",
   "execution_count": 298,
   "id": "d5d94a33-a9c7-46d2-9d49-16c093b0da1f",
   "metadata": {},
   "outputs": [
    {
     "name": "stdout",
     "output_type": "stream",
     "text": [
      "Index(['TotalCharges', 'tenure', 'MonthlyCharges', 'Contract_Two year',\n",
      "       'PaymentMethod_Electronic check', 'InternetService_Fiber optic',\n",
      "       'Contract_One year', 'MultipleLines_Yes', 'StreamingMovies_Yes',\n",
      "       'StreamingTV_Yes', 'DeviceProtection_No internet service',\n",
      "       'StreamingMovies_No internet service', 'InternetService_No',\n",
      "       'StreamingTV_No internet service'],\n",
      "      dtype='object')\n"
     ]
    },
    {
     "data": {
      "text/plain": [
       "RFE(estimator=LogisticRegression(C=10, max_iter=500, random_state=1111))"
      ]
     },
     "execution_count": 298,
     "metadata": {},
     "output_type": "execute_result"
    }
   ],
   "source": [
    "# Logistic Regression RFE\n",
    "rfe_logreg_model= model_with_rfe(logreg_model.best_estimator_)\n",
    "\n",
    "rfe_logreg_model"
   ]
  },
  {
   "cell_type": "code",
   "execution_count": 299,
   "id": "9661bcf8-0f02-44c7-a454-2d53d6298604",
   "metadata": {},
   "outputs": [
    {
     "name": "stdout",
     "output_type": "stream",
     "text": [
      "              precision    recall  f1-score   support\n",
      "\n",
      "           0       0.89      0.73      0.81      1032\n",
      "           1       0.51      0.76      0.61       374\n",
      "\n",
      "    accuracy                           0.74      1406\n",
      "   macro avg       0.70      0.75      0.71      1406\n",
      "weighted avg       0.79      0.74      0.75      1406\n",
      "\n"
     ]
    }
   ],
   "source": [
    "# Evaluation du modèle de regression logistique avec RFE\n",
    "model_evaluation(rfe_logreg_model, X_val, y_val)"
   ]
  },
  {
   "cell_type": "markdown",
   "id": "dd331f53-8e60-45ca-bea2-0b2366510050",
   "metadata": {},
   "source": [
    "La RFE a reduit le nombre de prédicteurs de 28 à 14 et n'a pas amélioré la performance du modèle.\n",
    "\n",
    "Passons a l'algorithme de foret aléatoire."
   ]
  },
  {
   "cell_type": "markdown",
   "id": "1ec58fcb-978a-4c55-8a8f-722f3f7da0de",
   "metadata": {},
   "source": [
    "# Modèle de foret aléatoire"
   ]
  },
  {
   "cell_type": "code",
   "execution_count": null,
   "id": "9fd4ee81-afa0-4a20-9135-0ca42f17b1df",
   "metadata": {},
   "outputs": [],
   "source": [
    "# pour améliorer la performance du modele, icion a choisi 2 hyperparamètre, onpeut choisir plus"
   ]
  },
  {
   "cell_type": "code",
   "execution_count": 301,
   "id": "84e75804-b87f-4af9-806b-4233a0d519a1",
   "metadata": {},
   "outputs": [
    {
     "name": "stdout",
     "output_type": "stream",
     "text": [
      "0.908\n",
      "RandomForestClassifier(n_estimators=50, random_state=1111)\n"
     ]
    }
   ],
   "source": [
    "# Dictionnaire des hyperparamètre\n",
    "param_grid_rf= {\"n_estimators\":[ 10, 50, 100, 500, 1000],\n",
    "             \"max_depth\":[3 , 5, 10, 20, None]}\n",
    "\n",
    "# Objet GridSearchCV\n",
    "grid_rf_class= GridSearchCV(estimator= RandomForestClassifier(random_state=seed),\n",
    "                                param_grid=param_grid_rf,\n",
    "                                scoring=\"f1\", \n",
    "                                cv=5)\n",
    "# Entrainement de l'algorithme\n",
    "rf_model= grid_rf_class.fit(train_features, train_labels)\n",
    "\n",
    "# Meilleur score et meilleur hyperparamètre\n",
    "print(round(rf_model.best_score_, 3 ))\n",
    "print(rf_model.best_estimator_)"
   ]
  },
  {
   "cell_type": "code",
   "execution_count": 305,
   "id": "ba4ca4c9-fcc8-4f79-acaa-5833ec0d9774",
   "metadata": {},
   "outputs": [
    {
     "name": "stdout",
     "output_type": "stream",
     "text": [
      "              precision    recall  f1-score   support\n",
      "\n",
      "           0       0.83      0.85      0.84      1032\n",
      "           1       0.56      0.52      0.54       374\n",
      "\n",
      "    accuracy                           0.77      1406\n",
      "   macro avg       0.70      0.69      0.69      1406\n",
      "weighted avg       0.76      0.77      0.76      1406\n",
      "\n"
     ]
    }
   ],
   "source": [
    "# Evaluation du modele de foret aléatoire\n",
    "model_evaluation(rf_model.best_estimator_, X_val, y_val)"
   ]
  },
  {
   "cell_type": "markdown",
   "id": "caa2b9b6-4180-46e9-8448-23a822a38f4d",
   "metadata": {},
   "source": [
    "Comparé aux valeurs du modèle de régression logistique, le modèle de foret aléatoire semble etre le moins efficace.\n",
    "Appliquons une RFE."
   ]
  },
  {
   "cell_type": "code",
   "execution_count": 306,
   "id": "ff20aef8-ba9d-4f57-b66c-ed3b66b3dd7e",
   "metadata": {},
   "outputs": [
    {
     "name": "stdout",
     "output_type": "stream",
     "text": [
      "Index(['TotalCharges', 'tenure', 'MonthlyCharges', 'Contract_Two year',\n",
      "       'PaymentMethod_Electronic check', 'InternetService_Fiber optic',\n",
      "       'Contract_One year', 'OnlineSecurity_Yes', 'TechSupport_Yes',\n",
      "       'PaperlessBilling', 'Partner', 'OnlineBackup_Yes',\n",
      "       'StreamingMovies_Yes', 'TechSupport_No internet service'],\n",
      "      dtype='object')\n"
     ]
    },
    {
     "data": {
      "text/plain": [
       "RFE(estimator=RandomForestClassifier(n_estimators=50, random_state=1111))"
      ]
     },
     "execution_count": 306,
     "metadata": {},
     "output_type": "execute_result"
    }
   ],
   "source": [
    "# Random Forest avec RFE\n",
    "rfe_forest_model= model_with_rfe(rf_model.best_estimator_)\n",
    "rfe_forest_model"
   ]
  },
  {
   "cell_type": "markdown",
   "id": "15488a0a-9ef1-47f7-a7fe-07f46ae52367",
   "metadata": {},
   "source": [
    "par défaut l'algorithme RFE réduit de moitié le nombre de prédicteur."
   ]
  },
  {
   "cell_type": "code",
   "execution_count": 307,
   "id": "16051668-0d77-4bc4-9542-45c8fb7d48c9",
   "metadata": {},
   "outputs": [
    {
     "name": "stdout",
     "output_type": "stream",
     "text": [
      "              precision    recall  f1-score   support\n",
      "\n",
      "           0       0.83      0.86      0.84      1032\n",
      "           1       0.57      0.52      0.54       374\n",
      "\n",
      "    accuracy                           0.77      1406\n",
      "   macro avg       0.70      0.69      0.69      1406\n",
      "weighted avg       0.76      0.77      0.76      1406\n",
      "\n"
     ]
    }
   ],
   "source": [
    "# Evaluation du modele de foret aléatoire avec RFE\n",
    "model_evaluation(rfe_forest_model, X_val, y_val)"
   ]
  },
  {
   "cell_type": "markdown",
   "id": "e02de952-5ea2-4d89-b8a0-9ff43db3c761",
   "metadata": {},
   "source": [
    "Le modèle avec RFE performe moins.\n",
    "Au vu de ces valeurs nous rétiendrons le modèle de foret aléatoire obtenu sans RFE.\n",
    "\n",
    "passons à la construction d'un modèle de réseau de neuronnes artificielle.\n"
   ]
  },
  {
   "cell_type": "markdown",
   "id": "4fc29092-5a1e-4e61-aeee-739b6c488b8f",
   "metadata": {},
   "source": [
    "# classificateur perceptron multicouche\n",
    "\n",
    "Il prend beaucoup de temps pour converger(pour afficher, ca utilise la capacité de la machine)"
   ]
  },
  {
   "cell_type": "code",
   "execution_count": null,
   "id": "e17b87ec-c3bc-4e94-9380-7ecaa5d0f3b3",
   "metadata": {},
   "outputs": [],
   "source": [
    "# MLPClassifier\n",
    "mlp= MLPClassifier(random_state=seed, max_iter=1000)\n",
    "parameters={\"hidden_layer_size\": [(50,),(100,),(200,)], [\"identity\",\"logistic\",\"tanh\", \"relu\"],           \n",
    "           # \"activation\": [\"identity\",\"logistic\",\"tanh\", \"relu\"],\n",
    "            \"learning_rate\": [\"constant\",\"invscaling\",\"adaptive\"]}\n",
    "mlp_cv= GridSearchCV(mlp, parameters, scoring=\"f1\", cv=5, n_jobs=-1)\n",
    "\n",
    "mlp_cv.fit(train_features,train_labels)"
   ]
  },
  {
   "cell_type": "code",
   "execution_count": null,
   "id": "74c6a719-b539-40b7-b838-e18487d09fc8",
   "metadata": {},
   "outputs": [],
   "source": [
    "# Meilleur score et meilleur hyperparametre\n",
    "round(mlp_cv.best_score_, 3)\n",
    "\n",
    "mlp_cv.best_estimator_"
   ]
  },
  {
   "cell_type": "code",
   "execution_count": null,
   "id": "6d1f3c66-5313-4b77-9010-c2c83fdd8649",
   "metadata": {},
   "outputs": [],
   "source": [
    "# evaluation du modèle perceptron\n",
    "\n",
    "model_evaluation(mlp_cv.best_estimator_, X_val, y_val)"
   ]
  },
  {
   "cell_type": "markdown",
   "id": "f0f912f2-e7a8-4c11-98af-380d7448075e",
   "metadata": {},
   "source": [
    "En conclusion c'est le modèle de régression logistique qui a une bonne performance f1-score (0.61)<<on veut prédire les clients qui se désabonne et tandis que le  modèle perceptron a un f1-score(0.51) d'après la vidéo 18 J.A(désabonnement des clients). J'ai pas exécuté car ca prend du temps pour afficher."
   ]
  },
  {
   "cell_type": "markdown",
   "id": "394dc317-11ea-407b-8c32-d2270e7664d9",
   "metadata": {},
   "source": [
    "Passons maintenant à un modele svm( support vecteur machine)"
   ]
  },
  {
   "cell_type": "markdown",
   "id": "3329e8a7-5be7-4877-9882-025b9580c255",
   "metadata": {},
   "source": [
    "# support vecteur machine"
   ]
  },
  {
   "cell_type": "code",
   "execution_count": null,
   "id": "c1828905-4170-4170-bc0f-3396ca8675e5",
   "metadata": {},
   "outputs": [],
   "source": [
    "# support vecteur machine: Classifieur qui trouve l'hyperplan optimal qui maximise la frontière entre deux plans\n",
    "\n",
    "svm_model= SVC(random_state=seed)\n",
    "\n",
    "svm_hyp={\"kernel\": [\"linear\",\"rbf\"], \"C\": [0.1, 1.0, 10, 50, 100]}  \n",
    "\n",
    "svm_cv= GridSearchCV(svm_model,svm_hyp , scoring=\"f1\", cv=5)\n",
    "\n",
    "svm_cv.fit(train_features, train_labels)\n",
    "\n",
    "print(round(svm_cv.best_score_, 3))\n",
    "\n",
    "print(svm_cv.best_estimator_)"
   ]
  },
  {
   "cell_type": "code",
   "execution_count": null,
   "id": "e76faa63",
   "metadata": {},
   "outputs": [],
   "source": [
    "# support vecteur machine: Classifieur qui trouve l'hyperplan optimal qui maximise la frontière entre deux plans\n",
    "\n",
    "svm_model= SVC(random_state=seed)\n",
    "\n",
    "svm_hyp={\"kernel\": [\"linear\",\"rbf\"], \"C\": [0.1, 1.0, 10, 50, 100]}  \n",
    "\n",
    "svm_cv= GridSearchCV(svm_model,svm_hyp , scoring=\"f1\", cv=5)\n",
    "\n",
    "svm_cv.fit(train_features, train_labels)\n",
    "\n",
    "print(round(svm_cv.best_score_, 3))\n",
    "\n",
    "print(svm_cv.best_estimator_)"
   ]
  },
  {
   "cell_type": "code",
   "execution_count": null,
   "id": "96c1be1c-64cb-4c14-b35b-061c5895bd7b",
   "metadata": {},
   "outputs": [],
   "source": [
    "# Evaluation du modele SVM\n",
    "model_evaluation(svm_cv.best_estimator_, X_val, y_val)"
   ]
  },
  {
   "cell_type": "code",
   "execution_count": null,
   "id": "baac81f3-e5f5-491a-99f1-aa5e8bbf4fbe",
   "metadata": {},
   "outputs": [],
   "source": [
    "A vu d'oeil le modèle de svm n'est pas plus performant que celui de la regression logistique"
   ]
  },
  {
   "cell_type": "markdown",
   "id": "69ddad98-a3b6-42fc-9e28-69a85f4f84ce",
   "metadata": {},
   "source": [
    "# Conclusion\n",
    "\n",
    "Nous avons utilisé les données d'évaluation pour sélectionner le  meilleur modèle. Ensuite nous évaluerons le meilleur modèle selectionné sur les données de test afin d'apprécier sa performance sur de nouvelles données.Idéalement les performances de ce modèle sur les données d'évaluation et sur les données de test doivent etre idéalement proches."
   ]
  },
  {
   "cell_type": "code",
   "execution_count": 311,
   "id": "f46dd2a2-edaa-40b4-9ad8-373781fd68b4",
   "metadata": {},
   "outputs": [
    {
     "name": "stdout",
     "output_type": "stream",
     "text": [
      "              precision    recall  f1-score   support\n",
      "\n",
      "           0       0.89      0.74      0.81      1032\n",
      "           1       0.51      0.75      0.60       374\n",
      "\n",
      "    accuracy                           0.74      1406\n",
      "   macro avg       0.70      0.74      0.70      1406\n",
      "weighted avg       0.79      0.74      0.75      1406\n",
      "\n"
     ]
    }
   ],
   "source": [
    "model_evaluation(logreg_model.best_estimator_, X_val, y_val)"
   ]
  },
  {
   "cell_type": "code",
   "execution_count": 310,
   "id": "62c992db-bcca-4cf2-a184-2540e95d8c50",
   "metadata": {},
   "outputs": [
    {
     "name": "stdout",
     "output_type": "stream",
     "text": [
      "              precision    recall  f1-score   support\n",
      "\n",
      "           0       0.91      0.75      0.82      1033\n",
      "           1       0.53      0.78      0.63       374\n",
      "\n",
      "    accuracy                           0.76      1407\n",
      "   macro avg       0.72      0.77      0.73      1407\n",
      "weighted avg       0.81      0.76      0.77      1407\n",
      "\n"
     ]
    }
   ],
   "source": [
    "# Performance du meilleur modèle sur les données de test.\n",
    "model_evaluation(logreg_model.best_estimator_, X_test, y_test)"
   ]
  },
  {
   "cell_type": "markdown",
   "id": "0b039ff1-5e82-409d-998c-985248e0afa5",
   "metadata": {},
   "source": [
    "Fin"
   ]
  },
  {
   "cell_type": "code",
   "execution_count": null,
   "id": "4011e102-9812-40e9-a978-f5f96413960f",
   "metadata": {},
   "outputs": [],
   "source": []
  }
 ],
 "metadata": {
  "kernelspec": {
   "display_name": "Python 3 (ipykernel)",
   "language": "python",
   "name": "python3"
  },
  "language_info": {
   "codemirror_mode": {
    "name": "ipython",
    "version": 3
   },
   "file_extension": ".py",
   "mimetype": "text/x-python",
   "name": "python",
   "nbconvert_exporter": "python",
   "pygments_lexer": "ipython3",
   "version": "3.9.13"
  }
 },
 "nbformat": 4,
 "nbformat_minor": 5
}
