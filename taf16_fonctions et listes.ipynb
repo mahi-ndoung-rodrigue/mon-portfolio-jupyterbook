{
 "cells": [
  {
   "cell_type": "code",
   "execution_count": 4,
   "id": "7cf2748c",
   "metadata": {},
   "outputs": [
    {
     "name": "stdout",
     "output_type": "stream",
     "text": [
      "Bonjour Monsieur/ Madame \n",
      "Comment allez vous?\n"
     ]
    }
   ],
   "source": [
    "def  bonjour():\n",
    "    print(\"Bonjour Monsieur/ Madame \\nComment allez vous?\")\n",
    "bonjour()    "
   ]
  },
  {
   "cell_type": "code",
   "execution_count": 5,
   "id": "88a011da",
   "metadata": {},
   "outputs": [
    {
     "name": "stdout",
     "output_type": "stream",
     "text": [
      "Bonjour MAHI \n",
      "Comment allez-vous?\n"
     ]
    }
   ],
   "source": [
    "def Bonjour(nom):\n",
    "    print(\"Bonjour\", nom, \"\\nComment allez-vous?\")\n",
    "Bonjour(\"MAHI\")    "
   ]
  },
  {
   "cell_type": "code",
   "execution_count": 9,
   "id": "5de6de31",
   "metadata": {},
   "outputs": [
    {
     "name": "stdout",
     "output_type": "stream",
     "text": [
      "Bonjour Monsieur/ Madame \n",
      "Comment allez vous?\n"
     ]
    }
   ],
   "source": [
    "bonjour()"
   ]
  },
  {
   "cell_type": "code",
   "execution_count": 10,
   "id": "ae7c53db",
   "metadata": {},
   "outputs": [
    {
     "name": "stdout",
     "output_type": "stream",
     "text": [
      "Bonjour MAHI \n",
      "Comment allez-vous?\n"
     ]
    }
   ],
   "source": [
    "Bonjour(\"MAHI\") "
   ]
  },
  {
   "cell_type": "code",
   "execution_count": 11,
   "id": "03433e4e",
   "metadata": {},
   "outputs": [
    {
     "name": "stdout",
     "output_type": "stream",
     "text": [
      "Bonjour Rodriguez \n",
      "Comment allez-vous?\n"
     ]
    }
   ],
   "source": [
    "Bonjour(\"Rodriguez\") "
   ]
  },
  {
   "cell_type": "code",
   "execution_count": 12,
   "id": "8ef4bc43",
   "metadata": {},
   "outputs": [],
   "source": [
    "def square(a):\n",
    "    return a**2"
   ]
  },
  {
   "cell_type": "code",
   "execution_count": 18,
   "id": "53eff5fc",
   "metadata": {},
   "outputs": [
    {
     "data": {
      "text/plain": [
       "25"
      ]
     },
     "execution_count": 18,
     "metadata": {},
     "output_type": "execute_result"
    }
   ],
   "source": [
    "b= square(5)\n",
    "b"
   ]
  },
  {
   "cell_type": "code",
   "execution_count": 14,
   "id": "06fc1c05",
   "metadata": {},
   "outputs": [
    {
     "data": {
      "text/plain": [
       "16"
      ]
     },
     "execution_count": 14,
     "metadata": {},
     "output_type": "execute_result"
    }
   ],
   "source": [
    "z= square(4)\n",
    "z"
   ]
  },
  {
   "cell_type": "code",
   "execution_count": 15,
   "id": "7b610508",
   "metadata": {},
   "outputs": [
    {
     "data": {
      "text/plain": [
       "100"
      ]
     },
     "execution_count": 15,
     "metadata": {},
     "output_type": "execute_result"
    }
   ],
   "source": [
    "t= square(10)\n",
    "t"
   ]
  },
  {
   "cell_type": "code",
   "execution_count": 16,
   "id": "f7f41c57",
   "metadata": {},
   "outputs": [
    {
     "data": {
      "text/plain": [
       "160"
      ]
     },
     "execution_count": 16,
     "metadata": {},
     "output_type": "execute_result"
    }
   ],
   "source": [
    "z * 10"
   ]
  },
  {
   "cell_type": "code",
   "execution_count": 19,
   "id": "8c305050",
   "metadata": {},
   "outputs": [
    {
     "data": {
      "text/plain": [
       "250"
      ]
     },
     "execution_count": 19,
     "metadata": {},
     "output_type": "execute_result"
    }
   ],
   "source": [
    "b*10"
   ]
  },
  {
   "cell_type": "code",
   "execution_count": 20,
   "id": "63359c12",
   "metadata": {},
   "outputs": [
    {
     "data": {
      "text/plain": [
       "1000"
      ]
     },
     "execution_count": 20,
     "metadata": {},
     "output_type": "execute_result"
    }
   ],
   "source": [
    "t*10"
   ]
  },
  {
   "cell_type": "code",
   "execution_count": 22,
   "id": "8096ebfd",
   "metadata": {},
   "outputs": [
    {
     "name": "stdout",
     "output_type": "stream",
     "text": [
      "Bonjour SOMO  ALEX \n",
      "Comment allez-vous?\n"
     ]
    }
   ],
   "source": [
    "def Bonjour(nom,prénom):\n",
    "    print(\"Bonjour\", nom, prénom, \"\\nComment allez-vous?\")\n",
    "    \n",
    "Bonjour(\"SOMO\", \" ALEX\")    "
   ]
  },
  {
   "cell_type": "code",
   "execution_count": 24,
   "id": "6cac6665",
   "metadata": {},
   "outputs": [
    {
     "name": "stdout",
     "output_type": "stream",
     "text": [
      "Bonjour B.P/ 1365 camp \n",
      "Veuillezrépondre svp?\n"
     ]
    }
   ],
   "source": [
    "def yaoundé( adresse, quartier):\n",
    "    print(\"Bonjour\",adresse, quartier, \"\\nVeuillezrépondre svp?\")\n",
    "yaoundé(\"B.P/ 1365\",\"camp\")    "
   ]
  },
  {
   "cell_type": "code",
   "execution_count": 25,
   "id": "19ba251d",
   "metadata": {},
   "outputs": [],
   "source": [
    "def somme( a, b):\n",
    "    return a+b"
   ]
  },
  {
   "cell_type": "code",
   "execution_count": 28,
   "id": "05dcfe52",
   "metadata": {},
   "outputs": [
    {
     "data": {
      "text/plain": [
       "20"
      ]
     },
     "execution_count": 28,
     "metadata": {},
     "output_type": "execute_result"
    }
   ],
   "source": [
    "s=somme( 5+10, 5)\n",
    "s"
   ]
  },
  {
   "cell_type": "code",
   "execution_count": 29,
   "id": "0703c761",
   "metadata": {},
   "outputs": [],
   "source": [
    "def produit ( a, b):\n",
    "    return a * b\n",
    "    "
   ]
  },
  {
   "cell_type": "code",
   "execution_count": 30,
   "id": "42a9f09c",
   "metadata": {},
   "outputs": [
    {
     "data": {
      "text/plain": [
       "100"
      ]
     },
     "execution_count": 30,
     "metadata": {},
     "output_type": "execute_result"
    }
   ],
   "source": [
    "p=produit(10, 10)\n",
    "p"
   ]
  },
  {
   "cell_type": "code",
   "execution_count": 31,
   "id": "49a2afda",
   "metadata": {},
   "outputs": [
    {
     "data": {
      "text/plain": [
       "10.0"
      ]
     },
     "execution_count": 31,
     "metadata": {},
     "output_type": "execute_result"
    }
   ],
   "source": [
    "p/10"
   ]
  },
  {
   "cell_type": "code",
   "execution_count": 36,
   "id": "d699d8d6",
   "metadata": {},
   "outputs": [
    {
     "data": {
      "text/plain": [
       "9"
      ]
     },
     "execution_count": 36,
     "metadata": {},
     "output_type": "execute_result"
    }
   ],
   "source": [
    "def somme( a , b):\n",
    "     if type(a) == type(b):\n",
    "            return a + b\n",
    "     else:\n",
    "        print(\"Les arguments ne sont pas de meme type\")\n",
    "somme(4,5)            "
   ]
  },
  {
   "cell_type": "code",
   "execution_count": 37,
   "id": "5fa22d85",
   "metadata": {},
   "outputs": [
    {
     "name": "stdout",
     "output_type": "stream",
     "text": [
      "Les arguments ne sont pas de meme type\n"
     ]
    }
   ],
   "source": [
    "somme(2 , 2.5)"
   ]
  },
  {
   "cell_type": "code",
   "execution_count": 40,
   "id": "5985236c",
   "metadata": {},
   "outputs": [
    {
     "data": {
      "text/plain": [
       "'ariel'"
      ]
     },
     "execution_count": 40,
     "metadata": {},
     "output_type": "execute_result"
    }
   ],
   "source": [
    "somme('ar', 'iel')"
   ]
  },
  {
   "cell_type": "code",
   "execution_count": 42,
   "id": "972c4c76",
   "metadata": {},
   "outputs": [
    {
     "name": "stdout",
     "output_type": "stream",
     "text": [
      "Les arguments ne sont pas de meme type\n"
     ]
    }
   ],
   "source": [
    "somme('ari', 20)"
   ]
  },
  {
   "cell_type": "code",
   "execution_count": 47,
   "id": "95c3c638",
   "metadata": {},
   "outputs": [],
   "source": [
    "def soustraction_dans_les_deux_sens ( a , b):\n",
    "    valeur1 = b - a\n",
    "    valeur2 = a - b\n",
    "    return valeur1,valeur2"
   ]
  },
  {
   "cell_type": "code",
   "execution_count": 48,
   "id": "6be24d4a",
   "metadata": {},
   "outputs": [
    {
     "data": {
      "text/plain": [
       "(-2, 2)"
      ]
     },
     "execution_count": 48,
     "metadata": {},
     "output_type": "execute_result"
    }
   ],
   "source": [
    "soustraction_dans_les_deux_sens ( 9 , 7 )"
   ]
  },
  {
   "cell_type": "code",
   "execution_count": 49,
   "id": "a3bbea90",
   "metadata": {},
   "outputs": [
    {
     "data": {
      "text/plain": [
       "(3, -3)"
      ]
     },
     "execution_count": 49,
     "metadata": {},
     "output_type": "execute_result"
    }
   ],
   "source": [
    "soustraction_dans_les_deux_sens ( 9 , 12 )"
   ]
  },
  {
   "cell_type": "code",
   "execution_count": 50,
   "id": "69a00a7d",
   "metadata": {},
   "outputs": [
    {
     "data": {
      "text/plain": [
       "(3, -3)"
      ]
     },
     "execution_count": 50,
     "metadata": {},
     "output_type": "execute_result"
    }
   ],
   "source": [
    "t=soustraction_dans_les_deux_sens ( 9 , 12 )\n",
    "t"
   ]
  },
  {
   "cell_type": "code",
   "execution_count": 51,
   "id": "e28c5c2d",
   "metadata": {},
   "outputs": [
    {
     "data": {
      "text/plain": [
       "tuple"
      ]
     },
     "execution_count": 51,
     "metadata": {},
     "output_type": "execute_result"
    }
   ],
   "source": [
    "type(t)"
   ]
  },
  {
   "cell_type": "code",
   "execution_count": 52,
   "id": "9548c2c8",
   "metadata": {},
   "outputs": [
    {
     "name": "stdout",
     "output_type": "stream",
     "text": [
      "3\n",
      "-3\n"
     ]
    }
   ],
   "source": [
    "c,d = t[0],t[1]\n",
    "print(c)\n",
    "print(d)"
   ]
  },
  {
   "cell_type": "code",
   "execution_count": 53,
   "id": "e48accff",
   "metadata": {},
   "outputs": [
    {
     "data": {
      "text/plain": [
       "(-2, 2)"
      ]
     },
     "execution_count": 53,
     "metadata": {},
     "output_type": "execute_result"
    }
   ],
   "source": [
    "r=soustraction_dans_les_deux_sens ( 9 , 7)\n",
    "r"
   ]
  },
  {
   "cell_type": "code",
   "execution_count": 54,
   "id": "1de31035",
   "metadata": {},
   "outputs": [
    {
     "name": "stdout",
     "output_type": "stream",
     "text": [
      "-2\n",
      "2\n"
     ]
    }
   ],
   "source": [
    "a,b=  r[0],r[1]\n",
    "print(a)\n",
    "print(b)\n"
   ]
  },
  {
   "cell_type": "code",
   "execution_count": null,
   "id": "385e39bc",
   "metadata": {},
   "outputs": [],
   "source": []
  }
 ],
 "metadata": {
  "kernelspec": {
   "display_name": "Python 3 (ipykernel)",
   "language": "python",
   "name": "python3"
  },
  "language_info": {
   "codemirror_mode": {
    "name": "ipython",
    "version": 3
   },
   "file_extension": ".py",
   "mimetype": "text/x-python",
   "name": "python",
   "nbconvert_exporter": "python",
   "pygments_lexer": "ipython3",
   "version": "3.9.13"
  }
 },
 "nbformat": 4,
 "nbformat_minor": 5
}
